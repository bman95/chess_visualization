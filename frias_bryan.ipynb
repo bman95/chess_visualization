{
 "cells": [
  {
   "cell_type": "markdown",
   "id": "6e180360",
   "metadata": {},
   "source": [
    "# Análisis de partidas online de ajedrez"
   ]
  },
  {
   "cell_type": "markdown",
   "id": "3e0beea5",
   "metadata": {},
   "source": [
    "\n",
    "## Contexto\n",
    "\n",
    "Este libro de Jupyter Notebook se centra en el análisis de un conjunto de datos de partidas de ajedrez, extraído de la plataforma Kaggle. El ajedrez, como uno de los juegos de estrategia más antiguos y populares del mundo, ha sido objeto de estudio para entender patrones, estrategias y rendimiento de los jugadores.\n",
    "\n",
    "Link de acceso a los datos: https://www.kaggle.com/datasets/ulrikthygepedersen/online-chess-games/data"
   ]
  },
  {
   "cell_type": "code",
   "execution_count": 1,
   "id": "initial_id",
   "metadata": {
    "ExecuteTime": {
     "end_time": "2024-02-22T14:31:27.269605900Z",
     "start_time": "2024-02-22T14:31:27.077837Z"
    }
   },
   "outputs": [
    {
     "name": "stdout",
     "output_type": "stream",
     "text": [
      "<class 'pandas.core.frame.DataFrame'>\n",
      "RangeIndex: 20058 entries, 0 to 20057\n",
      "Data columns (total 17 columns):\n",
      " #   Column             Non-Null Count  Dtype \n",
      "---  ------             --------------  ----- \n",
      " 0   game_id            20058 non-null  int64 \n",
      " 1   rated              20058 non-null  bool  \n",
      " 2   turns              20058 non-null  int64 \n",
      " 3   victory_status     20058 non-null  object\n",
      " 4   winner             20058 non-null  object\n",
      " 5   time_increment     20058 non-null  object\n",
      " 6   white_id           20058 non-null  object\n",
      " 7   white_rating       20058 non-null  int64 \n",
      " 8   black_id           20058 non-null  object\n",
      " 9   black_rating       20058 non-null  int64 \n",
      " 10  moves              20058 non-null  object\n",
      " 11  opening_code       20058 non-null  object\n",
      " 12  opening_moves      20058 non-null  int64 \n",
      " 13  opening_fullname   20058 non-null  object\n",
      " 14  opening_shortname  20058 non-null  object\n",
      " 15  opening_response   1207 non-null   object\n",
      " 16  opening_variation  14398 non-null  object\n",
      "dtypes: bool(1), int64(5), object(11)\n",
      "memory usage: 2.5+ MB\n"
     ]
    }
   ],
   "source": [
    "import matplotlib.pyplot as plt\n",
    "import seaborn as sns\n",
    "import pandas as pd\n",
    "import numpy as np\n",
    "\n",
    "# Cargar el dataset\n",
    "df = pd.read_csv(r'chess_games\\chess_games.csv')\n",
    "\n",
    "df.info()"
   ]
  },
  {
   "cell_type": "markdown",
   "id": "bb5d9522",
   "metadata": {},
   "source": [
    "### Explicación de cada una de las columnas del dataset\n",
    "\n",
    "game_id: Un identificador único para cada partida de ajedrez en el dataset.\n",
    "\n",
    "rated: Una variable booleana que indica si la partida fue clasificada o no. Es decir, si la partida contribuyó o no al rating de los jugadores.\n",
    "\n",
    "turns: El número total de movimientos realizados en la partida.\n",
    "\n",
    "victory_status: El estado de la partida al finalizar, puede ser \"mate\" (jaque mate), \"resign\" (rendición), \"outoftime\" (tiempo agotado), o \"draw\" (empate).\n",
    "\n",
    "winner: El jugador que ganó la partida, puede ser \"white\" (blancas), \"black\" (negras), o \"draw\" (empate).\n",
    "\n",
    "time_increment: El incremento de tiempo (en segundos) que se añade al reloj de cada jugador después de cada movimiento.\n",
    "\n",
    "white_id: El identificador del jugador que jugó con las piezas blancas.\n",
    "\n",
    "white_rating: El rating Elo del jugador que jugó con las piezas blancas al momento de la partida.\n",
    "\n",
    "black_id: El identificador del jugador que jugó con las piezas negras.\n",
    "\n",
    "black_rating: El rating Elo del jugador que jugó con las piezas negras al momento de la partida.\n",
    "\n",
    "moves: Una cadena de texto que contiene todos los movimientos realizados en la partida en notación algebraica estándar.\n",
    "\n",
    "opening_code: Un código que representa la apertura utilizada en la partida.\n",
    "\n",
    "opening_moves: El número de movimientos realizados en la apertura.\n",
    "\n",
    "opening_fullname: El nombre completo de la apertura utilizada.\n",
    "\n",
    "opening_shortname: El nombre corto de la apertura utilizada.\n",
    "\n",
    "opening_response: La respuesta a la apertura, si está disponible.\n",
    "\n",
    "opening_variation: La variación específica de la apertura utilizada."
   ]
  },
  {
   "cell_type": "markdown",
   "id": "c2cf8457",
   "metadata": {},
   "source": [
    "#### Qué es el rating?\n",
    "\n",
    "El rating en el contexto del ajedrez es una medida numérica que se utiliza para estimar la habilidad relativa de un jugador en comparación con otros jugadores. Esta medida se basa en el sistema de clasificación Elo, desarrollado por el físico y estadístico Arpad Elo en la década de 1960.\n",
    "\n",
    "En términos simples, el rating representa el nivel de habilidad de un jugador en el juego de ajedrez. Cuanto más alto sea el rating de un jugador, se supone que es más fuerte y más habilidoso en el juego. Por ejemplo, un jugador con un rating de 2000 se considera generalmente más fuerte que un jugador con un rating de 1500.\n",
    "\n",
    "El rating se actualiza después de cada partida clasificada, dependiendo del resultado (victoria, derrota o empate) y del rating relativo de los jugadores involucrados. Si un jugador vence a otro con un rating más alto, su rating generalmente aumentará más que si venciera a un jugador con un rating más bajo, y viceversa si pierde. Los empates también pueden afectar los ratings, aunque en menor medida que las victorias o derrotas."
   ]
  },
  {
   "cell_type": "code",
   "execution_count": 4,
   "id": "c4ec6b53",
   "metadata": {},
   "outputs": [
    {
     "data": {
      "text/html": [
       "<div>\n",
       "<style scoped>\n",
       "    .dataframe tbody tr th:only-of-type {\n",
       "        vertical-align: middle;\n",
       "    }\n",
       "\n",
       "    .dataframe tbody tr th {\n",
       "        vertical-align: top;\n",
       "    }\n",
       "\n",
       "    .dataframe thead th {\n",
       "        text-align: right;\n",
       "    }\n",
       "</style>\n",
       "<table border=\"1\" class=\"dataframe\">\n",
       "  <thead>\n",
       "    <tr style=\"text-align: right;\">\n",
       "      <th></th>\n",
       "      <th>game_id</th>\n",
       "      <th>rated</th>\n",
       "      <th>turns</th>\n",
       "      <th>victory_status</th>\n",
       "      <th>winner</th>\n",
       "      <th>time_increment</th>\n",
       "      <th>white_id</th>\n",
       "      <th>white_rating</th>\n",
       "      <th>black_id</th>\n",
       "      <th>black_rating</th>\n",
       "      <th>moves</th>\n",
       "      <th>opening_code</th>\n",
       "      <th>opening_moves</th>\n",
       "      <th>opening_fullname</th>\n",
       "      <th>opening_shortname</th>\n",
       "      <th>opening_response</th>\n",
       "      <th>opening_variation</th>\n",
       "    </tr>\n",
       "  </thead>\n",
       "  <tbody>\n",
       "    <tr>\n",
       "      <th>0</th>\n",
       "      <td>1</td>\n",
       "      <td>False</td>\n",
       "      <td>13</td>\n",
       "      <td>Out of Time</td>\n",
       "      <td>White</td>\n",
       "      <td>15+2</td>\n",
       "      <td>bourgris</td>\n",
       "      <td>1500</td>\n",
       "      <td>a-00</td>\n",
       "      <td>1191</td>\n",
       "      <td>d4 d5 c4 c6 cxd5 e6 dxe6 fxe6 Nf3 Bb4+ Nc3 Ba5...</td>\n",
       "      <td>D10</td>\n",
       "      <td>5</td>\n",
       "      <td>Slav Defense: Exchange Variation</td>\n",
       "      <td>Slav Defense</td>\n",
       "      <td>NaN</td>\n",
       "      <td>Exchange Variation</td>\n",
       "    </tr>\n",
       "    <tr>\n",
       "      <th>1</th>\n",
       "      <td>2</td>\n",
       "      <td>True</td>\n",
       "      <td>16</td>\n",
       "      <td>Resign</td>\n",
       "      <td>Black</td>\n",
       "      <td>5+10</td>\n",
       "      <td>a-00</td>\n",
       "      <td>1322</td>\n",
       "      <td>skinnerua</td>\n",
       "      <td>1261</td>\n",
       "      <td>d4 Nc6 e4 e5 f4 f6 dxe5 fxe5 fxe5 Nxe5 Qd4 Nc6...</td>\n",
       "      <td>B00</td>\n",
       "      <td>4</td>\n",
       "      <td>Nimzowitsch Defense: Kennedy Variation</td>\n",
       "      <td>Nimzowitsch Defense</td>\n",
       "      <td>NaN</td>\n",
       "      <td>Kennedy Variation</td>\n",
       "    </tr>\n",
       "    <tr>\n",
       "      <th>2</th>\n",
       "      <td>3</td>\n",
       "      <td>True</td>\n",
       "      <td>61</td>\n",
       "      <td>Mate</td>\n",
       "      <td>White</td>\n",
       "      <td>5+10</td>\n",
       "      <td>ischia</td>\n",
       "      <td>1496</td>\n",
       "      <td>a-00</td>\n",
       "      <td>1500</td>\n",
       "      <td>e4 e5 d3 d6 Be3 c6 Be2 b5 Nd2 a5 a4 c5 axb5 Nc...</td>\n",
       "      <td>C20</td>\n",
       "      <td>3</td>\n",
       "      <td>King's Pawn Game: Leonardis Variation</td>\n",
       "      <td>King's Pawn Game</td>\n",
       "      <td>NaN</td>\n",
       "      <td>Leonardis Variation</td>\n",
       "    </tr>\n",
       "    <tr>\n",
       "      <th>3</th>\n",
       "      <td>4</td>\n",
       "      <td>True</td>\n",
       "      <td>61</td>\n",
       "      <td>Mate</td>\n",
       "      <td>White</td>\n",
       "      <td>20+0</td>\n",
       "      <td>daniamurashov</td>\n",
       "      <td>1439</td>\n",
       "      <td>adivanov2009</td>\n",
       "      <td>1454</td>\n",
       "      <td>d4 d5 Nf3 Bf5 Nc3 Nf6 Bf4 Ng4 e3 Nc6 Be2 Qd7 O...</td>\n",
       "      <td>D02</td>\n",
       "      <td>3</td>\n",
       "      <td>Queen's Pawn Game: Zukertort Variation</td>\n",
       "      <td>Queen's Pawn Game</td>\n",
       "      <td>NaN</td>\n",
       "      <td>Zukertort Variation</td>\n",
       "    </tr>\n",
       "    <tr>\n",
       "      <th>4</th>\n",
       "      <td>5</td>\n",
       "      <td>True</td>\n",
       "      <td>95</td>\n",
       "      <td>Mate</td>\n",
       "      <td>White</td>\n",
       "      <td>30+3</td>\n",
       "      <td>nik221107</td>\n",
       "      <td>1523</td>\n",
       "      <td>adivanov2009</td>\n",
       "      <td>1469</td>\n",
       "      <td>e4 e5 Nf3 d6 d4 Nc6 d5 Nb4 a3 Na6 Nc3 Be7 b4 N...</td>\n",
       "      <td>C41</td>\n",
       "      <td>5</td>\n",
       "      <td>Philidor Defense</td>\n",
       "      <td>Philidor Defense</td>\n",
       "      <td>NaN</td>\n",
       "      <td>NaN</td>\n",
       "    </tr>\n",
       "  </tbody>\n",
       "</table>\n",
       "</div>"
      ],
      "text/plain": [
       "   game_id  rated  turns victory_status winner time_increment       white_id  \\\n",
       "0        1  False     13    Out of Time  White           15+2       bourgris   \n",
       "1        2   True     16         Resign  Black           5+10           a-00   \n",
       "2        3   True     61           Mate  White           5+10         ischia   \n",
       "3        4   True     61           Mate  White           20+0  daniamurashov   \n",
       "4        5   True     95           Mate  White           30+3      nik221107   \n",
       "\n",
       "   white_rating      black_id  black_rating  \\\n",
       "0          1500          a-00          1191   \n",
       "1          1322     skinnerua          1261   \n",
       "2          1496          a-00          1500   \n",
       "3          1439  adivanov2009          1454   \n",
       "4          1523  adivanov2009          1469   \n",
       "\n",
       "                                               moves opening_code  \\\n",
       "0  d4 d5 c4 c6 cxd5 e6 dxe6 fxe6 Nf3 Bb4+ Nc3 Ba5...          D10   \n",
       "1  d4 Nc6 e4 e5 f4 f6 dxe5 fxe5 fxe5 Nxe5 Qd4 Nc6...          B00   \n",
       "2  e4 e5 d3 d6 Be3 c6 Be2 b5 Nd2 a5 a4 c5 axb5 Nc...          C20   \n",
       "3  d4 d5 Nf3 Bf5 Nc3 Nf6 Bf4 Ng4 e3 Nc6 Be2 Qd7 O...          D02   \n",
       "4  e4 e5 Nf3 d6 d4 Nc6 d5 Nb4 a3 Na6 Nc3 Be7 b4 N...          C41   \n",
       "\n",
       "   opening_moves                        opening_fullname    opening_shortname  \\\n",
       "0              5        Slav Defense: Exchange Variation         Slav Defense   \n",
       "1              4  Nimzowitsch Defense: Kennedy Variation  Nimzowitsch Defense   \n",
       "2              3   King's Pawn Game: Leonardis Variation     King's Pawn Game   \n",
       "3              3  Queen's Pawn Game: Zukertort Variation    Queen's Pawn Game   \n",
       "4              5                        Philidor Defense     Philidor Defense   \n",
       "\n",
       "  opening_response    opening_variation  \n",
       "0              NaN   Exchange Variation  \n",
       "1              NaN    Kennedy Variation  \n",
       "2              NaN  Leonardis Variation  \n",
       "3              NaN  Zukertort Variation  \n",
       "4              NaN                  NaN  "
      ]
     },
     "execution_count": 4,
     "metadata": {},
     "output_type": "execute_result"
    }
   ],
   "source": [
    "df.head()"
   ]
  },
  {
   "cell_type": "code",
   "execution_count": 5,
   "id": "e9660aa1",
   "metadata": {},
   "outputs": [
    {
     "data": {
      "text/html": [
       "<div>\n",
       "<style scoped>\n",
       "    .dataframe tbody tr th:only-of-type {\n",
       "        vertical-align: middle;\n",
       "    }\n",
       "\n",
       "    .dataframe tbody tr th {\n",
       "        vertical-align: top;\n",
       "    }\n",
       "\n",
       "    .dataframe thead th {\n",
       "        text-align: right;\n",
       "    }\n",
       "</style>\n",
       "<table border=\"1\" class=\"dataframe\">\n",
       "  <thead>\n",
       "    <tr style=\"text-align: right;\">\n",
       "      <th></th>\n",
       "      <th>game_id</th>\n",
       "      <th>turns</th>\n",
       "      <th>white_rating</th>\n",
       "      <th>black_rating</th>\n",
       "      <th>opening_moves</th>\n",
       "    </tr>\n",
       "  </thead>\n",
       "  <tbody>\n",
       "    <tr>\n",
       "      <th>count</th>\n",
       "      <td>20058.000000</td>\n",
       "      <td>20058.000000</td>\n",
       "      <td>20058.000000</td>\n",
       "      <td>20058.000000</td>\n",
       "      <td>20058.000000</td>\n",
       "    </tr>\n",
       "    <tr>\n",
       "      <th>mean</th>\n",
       "      <td>10029.500000</td>\n",
       "      <td>60.465999</td>\n",
       "      <td>1596.631868</td>\n",
       "      <td>1588.831987</td>\n",
       "      <td>4.816981</td>\n",
       "    </tr>\n",
       "    <tr>\n",
       "      <th>std</th>\n",
       "      <td>5790.390185</td>\n",
       "      <td>33.570585</td>\n",
       "      <td>291.253376</td>\n",
       "      <td>291.036126</td>\n",
       "      <td>2.797152</td>\n",
       "    </tr>\n",
       "    <tr>\n",
       "      <th>min</th>\n",
       "      <td>1.000000</td>\n",
       "      <td>1.000000</td>\n",
       "      <td>784.000000</td>\n",
       "      <td>789.000000</td>\n",
       "      <td>1.000000</td>\n",
       "    </tr>\n",
       "    <tr>\n",
       "      <th>25%</th>\n",
       "      <td>5015.250000</td>\n",
       "      <td>37.000000</td>\n",
       "      <td>1398.000000</td>\n",
       "      <td>1391.000000</td>\n",
       "      <td>3.000000</td>\n",
       "    </tr>\n",
       "    <tr>\n",
       "      <th>50%</th>\n",
       "      <td>10029.500000</td>\n",
       "      <td>55.000000</td>\n",
       "      <td>1567.000000</td>\n",
       "      <td>1562.000000</td>\n",
       "      <td>4.000000</td>\n",
       "    </tr>\n",
       "    <tr>\n",
       "      <th>75%</th>\n",
       "      <td>15043.750000</td>\n",
       "      <td>79.000000</td>\n",
       "      <td>1793.000000</td>\n",
       "      <td>1784.000000</td>\n",
       "      <td>6.000000</td>\n",
       "    </tr>\n",
       "    <tr>\n",
       "      <th>max</th>\n",
       "      <td>20058.000000</td>\n",
       "      <td>349.000000</td>\n",
       "      <td>2700.000000</td>\n",
       "      <td>2723.000000</td>\n",
       "      <td>28.000000</td>\n",
       "    </tr>\n",
       "  </tbody>\n",
       "</table>\n",
       "</div>"
      ],
      "text/plain": [
       "            game_id         turns  white_rating  black_rating  opening_moves\n",
       "count  20058.000000  20058.000000  20058.000000  20058.000000   20058.000000\n",
       "mean   10029.500000     60.465999   1596.631868   1588.831987       4.816981\n",
       "std     5790.390185     33.570585    291.253376    291.036126       2.797152\n",
       "min        1.000000      1.000000    784.000000    789.000000       1.000000\n",
       "25%     5015.250000     37.000000   1398.000000   1391.000000       3.000000\n",
       "50%    10029.500000     55.000000   1567.000000   1562.000000       4.000000\n",
       "75%    15043.750000     79.000000   1793.000000   1784.000000       6.000000\n",
       "max    20058.000000    349.000000   2700.000000   2723.000000      28.000000"
      ]
     },
     "execution_count": 5,
     "metadata": {},
     "output_type": "execute_result"
    }
   ],
   "source": [
    "df.describe()"
   ]
  },
  {
   "cell_type": "code",
   "execution_count": 6,
   "id": "902d6a41",
   "metadata": {},
   "outputs": [
    {
     "data": {
      "text/html": [
       "<div>\n",
       "<style scoped>\n",
       "    .dataframe tbody tr th:only-of-type {\n",
       "        vertical-align: middle;\n",
       "    }\n",
       "\n",
       "    .dataframe tbody tr th {\n",
       "        vertical-align: top;\n",
       "    }\n",
       "\n",
       "    .dataframe thead th {\n",
       "        text-align: right;\n",
       "    }\n",
       "</style>\n",
       "<table border=\"1\" class=\"dataframe\">\n",
       "  <thead>\n",
       "    <tr style=\"text-align: right;\">\n",
       "      <th></th>\n",
       "      <th>rated</th>\n",
       "      <th>victory_status</th>\n",
       "      <th>winner</th>\n",
       "      <th>time_increment</th>\n",
       "      <th>white_id</th>\n",
       "      <th>black_id</th>\n",
       "      <th>moves</th>\n",
       "      <th>opening_code</th>\n",
       "      <th>opening_fullname</th>\n",
       "      <th>opening_shortname</th>\n",
       "      <th>opening_response</th>\n",
       "      <th>opening_variation</th>\n",
       "    </tr>\n",
       "  </thead>\n",
       "  <tbody>\n",
       "    <tr>\n",
       "      <th>count</th>\n",
       "      <td>20058</td>\n",
       "      <td>20058</td>\n",
       "      <td>20058</td>\n",
       "      <td>20058</td>\n",
       "      <td>20058</td>\n",
       "      <td>20058</td>\n",
       "      <td>20058</td>\n",
       "      <td>20058</td>\n",
       "      <td>20058</td>\n",
       "      <td>20058</td>\n",
       "      <td>1207</td>\n",
       "      <td>14398</td>\n",
       "    </tr>\n",
       "    <tr>\n",
       "      <th>unique</th>\n",
       "      <td>2</td>\n",
       "      <td>4</td>\n",
       "      <td>3</td>\n",
       "      <td>400</td>\n",
       "      <td>9438</td>\n",
       "      <td>9331</td>\n",
       "      <td>18920</td>\n",
       "      <td>365</td>\n",
       "      <td>1477</td>\n",
       "      <td>128</td>\n",
       "      <td>3</td>\n",
       "      <td>615</td>\n",
       "    </tr>\n",
       "    <tr>\n",
       "      <th>top</th>\n",
       "      <td>True</td>\n",
       "      <td>Resign</td>\n",
       "      <td>White</td>\n",
       "      <td>10+0</td>\n",
       "      <td>taranga</td>\n",
       "      <td>taranga</td>\n",
       "      <td>e4 e5</td>\n",
       "      <td>A00</td>\n",
       "      <td>Van't Kruijs Opening</td>\n",
       "      <td>Sicilian Defense</td>\n",
       "      <td>Declined</td>\n",
       "      <td>#2</td>\n",
       "    </tr>\n",
       "    <tr>\n",
       "      <th>freq</th>\n",
       "      <td>16155</td>\n",
       "      <td>11147</td>\n",
       "      <td>10001</td>\n",
       "      <td>7721</td>\n",
       "      <td>72</td>\n",
       "      <td>82</td>\n",
       "      <td>27</td>\n",
       "      <td>1007</td>\n",
       "      <td>368</td>\n",
       "      <td>2632</td>\n",
       "      <td>503</td>\n",
       "      <td>797</td>\n",
       "    </tr>\n",
       "  </tbody>\n",
       "</table>\n",
       "</div>"
      ],
      "text/plain": [
       "        rated victory_status winner time_increment white_id black_id  moves  \\\n",
       "count   20058          20058  20058          20058    20058    20058  20058   \n",
       "unique      2              4      3            400     9438     9331  18920   \n",
       "top      True         Resign  White           10+0  taranga  taranga  e4 e5   \n",
       "freq    16155          11147  10001           7721       72       82     27   \n",
       "\n",
       "       opening_code      opening_fullname opening_shortname opening_response  \\\n",
       "count         20058                 20058             20058             1207   \n",
       "unique          365                  1477               128                3   \n",
       "top             A00  Van't Kruijs Opening  Sicilian Defense         Declined   \n",
       "freq           1007                   368              2632              503   \n",
       "\n",
       "       opening_variation  \n",
       "count              14398  \n",
       "unique               615  \n",
       "top                   #2  \n",
       "freq                 797  "
      ]
     },
     "execution_count": 6,
     "metadata": {},
     "output_type": "execute_result"
    }
   ],
   "source": [
    "df.describe(exclude=np.number)"
   ]
  },
  {
   "cell_type": "markdown",
   "id": "820ff73a",
   "metadata": {},
   "source": [
    "## Análisis \"Distribución de victorias\""
   ]
  },
  {
   "cell_type": "code",
   "execution_count": 7,
   "id": "535c3e7d",
   "metadata": {},
   "outputs": [
    {
     "name": "stderr",
     "output_type": "stream",
     "text": [
      "C:\\Users\\bryan\\AppData\\Local\\Temp\\ipykernel_18552\\1985856630.py:6: FutureWarning: \n",
      "\n",
      "Passing `palette` without assigning `hue` is deprecated and will be removed in v0.14.0. Assign the `x` variable to `hue` and set `legend=False` for the same effect.\n",
      "\n",
      "  sns.barplot(x=victory_counts.index, y=victory_counts.values, palette='viridis')\n"
     ]
    },
    {
     "data": {
      "image/png": "[encoded data removed]",
      "text/plain": [
       "<Figure size 1000x600 with 1 Axes>"
      ]
     },
     "metadata": {},
     "output_type": "display_data"
    }
   ],
   "source": [
    "\n",
    "victory_counts = df['winner'].value_counts()\n",
    "# Configuración de estilos de los gráficos\n",
    "sns.set(style=\"whitegrid\")\n",
    "# Creación del gráfico de barras para la distribución de victorias\n",
    "plt.figure(figsize=(10, 6))\n",
    "sns.barplot(x=victory_counts.index, y=victory_counts.values, palette='viridis')\n",
    "plt.title('Distribución de Victorias en Partidas de Ajedrez')\n",
    "plt.show()"
   ]
  },
  {
   "cell_type": "markdown",
   "id": "4822b639",
   "metadata": {},
   "source": [
    "En este gráfico, se destaca principalmente la ventaja que tienen las blancas debido a su capacidad para realizar el primer movimiento en una partida de ajedrez. Esta ventaja inicial les otorga una mayor probabilidad de éxito en comparación con las negras. El primer movimiento permite a las blancas tomar la iniciativa en el desarrollo de la partida, establecer el tono y dictar el ritmo del juego. Además, les brinda la oportunidad de ocupar posiciones estratégicas en el tablero antes de que las negras tengan la oportunidad de responder. Esta ventaja posicional puede ser crucial en la determinación del resultado final de la partida, ya que las blancas pueden aprovecharla para presionar y mantener la iniciativa durante todo el juego."
   ]
  },
  {
   "cell_type": "markdown",
   "id": "832470e2",
   "metadata": {},
   "source": [
    "## Análisis \"Popularidad de las aperturas\""
   ]
  },
  {
   "cell_type": "code",
   "execution_count": 8,
   "id": "c7f273e9a539c2c7",
   "metadata": {
    "ExecuteTime": {
     "end_time": "2024-02-22T14:31:31.159595300Z",
     "start_time": "2024-02-22T14:31:30.814106700Z"
    }
   },
   "outputs": [
    {
     "name": "stderr",
     "output_type": "stream",
     "text": [
      "C:\\Users\\bryan\\AppData\\Local\\Temp\\ipykernel_18552\\2283873499.py:5: FutureWarning: \n",
      "\n",
      "Passing `palette` without assigning `hue` is deprecated and will be removed in v0.14.0. Assign the `y` variable to `hue` and set `legend=False` for the same effect.\n",
      "\n",
      "  sns.barplot(x=opening_counts.values, y=opening_counts.index, palette='viridis')\n"
     ]
    },
    {
     "data": {
      "image/png": "[encoded data removed]",
      "text/plain": [
       "<Figure size 1200x800 with 1 Axes>"
      ]
     },
     "metadata": {},
     "output_type": "display_data"
    }
   ],
   "source": [
    "\n",
    "opening_counts = df['opening_shortname'].value_counts().head(10)\n",
    "\n",
    "# Creación del gráfico para las aperturas más populares\n",
    "plt.figure(figsize=(12, 8))\n",
    "sns.barplot(x=opening_counts.values, y=opening_counts.index, palette='viridis')\n",
    "plt.title('Las 10 Aperturas Más Populares')\n",
    "plt.xlabel('Cantidad de Partidas')\n",
    "plt.ylabel('Apertura')\n",
    "plt.show()"
   ]
  },
  {
   "cell_type": "markdown",
   "id": "0b219050",
   "metadata": {},
   "source": [
    "Al observar este gráfico, se destaca que entre las 10 aperturas más populares, la Defensa Siciliana ocupa el primer lugar, seguida de la Defensa Francesa y luego las aperturas de Peón-Dama. Esta tendencia refleja la notable popularidad de la Defensa Siciliana, reconocida por sus intrincadas y desafiantes posiciones tácticas a las que muchos jugadores se enfrentan. Su posición predominante en el ranking sugiere que los jugadores la eligen con frecuencia debido a su riqueza estratégica y su capacidad para generar juegos dinámicos y competitivos. Es considerada por muchos la apertura más divertida."
   ]
  },
  {
   "cell_type": "markdown",
   "id": "c270fafd",
   "metadata": {},
   "source": [
    "## Análisis de distribución de ratings por partidas\n",
    "\n",
    "A continuación, procederé a realizar un gráfico que representa la distribución de los ratings. Dado que en cada partida contamos con dos ratings, uno para las blancas y otro para las negras, es necesario obtener un solo valor para cada partida. En lugar de generar distribuciones separadas para los ratings de las blancas y las negras, calcularé el valor medio por partida. De esta manera, cada partida estará representada por un único valor de rating, siendo este el promedio entre el rating de las blancas y el rating de las negras. Utilizaré estos valores para crear una distribución de densidad de ratings."
   ]
  },
  {
   "cell_type": "code",
   "execution_count": 9,
   "id": "530d46b1d4cf4585",
   "metadata": {
    "ExecuteTime": {
     "end_time": "2024-02-22T14:31:35.933820700Z",
     "start_time": "2024-02-22T14:31:35.868160300Z"
    }
   },
   "outputs": [],
   "source": [
    "df['average_rating'] = (df['white_rating'] + df['black_rating']) / 2"
   ]
  },
  {
   "cell_type": "code",
   "execution_count": 10,
   "id": "c12802c7a9c771b0",
   "metadata": {
    "ExecuteTime": {
     "end_time": "2024-02-22T14:31:42.350694900Z",
     "start_time": "2024-02-22T14:31:42.044107700Z"
    }
   },
   "outputs": [
    {
     "data": {
      "image/png": "[encoded data removed]",
      "text/plain": [
       "<Figure size 1200x600 with 1 Axes>"
      ]
     },
     "metadata": {},
     "output_type": "display_data"
    }
   ],
   "source": [
    "# Plotting ratings distribution\n",
    "plt.figure(figsize=(12, 6))\n",
    "sns.histplot(data=df, x='average_rating', color='skyblue', label='Averge Rating', kde=True)\n",
    "plt.title('Distribution of Ratings')\n",
    "plt.xlabel('Rating')\n",
    "plt.ylabel('Density')\n",
    "plt.legend()\n",
    "plt.show()"
   ]
  },
  {
   "cell_type": "markdown",
   "id": "edb231f6",
   "metadata": {},
   "source": [
    "En este gráfico, se evidencia una concentración notable alrededor del rating de 1500. Este punto representa no solo donde ocurren la mayoría de las partidas, sino también donde se encuentran la mayor cantidad de jugadores. Sin embargo, llama la atención la escasez relativa de jugadores con ratings muy altos en comparación con la gran cantidad de jugadores que se sitúan alrededor de este punto central. Esta disparidad sugiere que, mientras hay una base sólida de jugadores de nivel medio, hay una proporción mucho menor de jugadores de élite con ratings significativamente superiores, lo que hace que estos últimos sean más escasos en el panorama general del juego."
   ]
  },
  {
   "cell_type": "code",
   "execution_count": 11,
   "id": "b1947d34dfa3bba3",
   "metadata": {
    "ExecuteTime": {
     "end_time": "2024-02-22T14:31:45.700643300Z",
     "start_time": "2024-02-22T14:31:45.551499200Z"
    }
   },
   "outputs": [
    {
     "name": "stderr",
     "output_type": "stream",
     "text": [
      "C:\\Users\\bryan\\AppData\\Local\\Temp\\ipykernel_18552\\2190349821.py:3: FutureWarning: \n",
      "\n",
      "Passing `palette` without assigning `hue` is deprecated and will be removed in v0.14.0. Assign the `x` variable to `hue` and set `legend=False` for the same effect.\n",
      "\n",
      "  sns.countplot(data=df, x='victory_status', palette='Set2')\n"
     ]
    },
    {
     "data": {
      "image/png": "[encoded data removed]",
      "text/plain": [
       "<Figure size 800x600 with 1 Axes>"
      ]
     },
     "metadata": {},
     "output_type": "display_data"
    }
   ],
   "source": [
    "# Plotting victory status\n",
    "plt.figure(figsize=(8, 6))\n",
    "sns.countplot(data=df, x='victory_status', palette='Set2')\n",
    "plt.title('Count of Victory Status')\n",
    "plt.xlabel('Victory Status')\n",
    "plt.ylabel('Count')\n",
    "plt.show()"
   ]
  },
  {
   "cell_type": "markdown",
   "id": "4fe75069",
   "metadata": {},
   "source": [
    "\n",
    "En la condición de victoria, es común observar que el oponente abandone la partida antes de que puedas llevar a cabo el jaque mate. Esta situación se vuelve más frecuente en niveles de juego más avanzados."
   ]
  },
  {
   "cell_type": "markdown",
   "id": "d0917eca",
   "metadata": {},
   "source": [
    "# Calcular la cantidad de partidas para cada combinación de rating y condición de victoria"
   ]
  },
  {
   "cell_type": "code",
   "execution_count": 15,
   "id": "1a309d8f8a29f4aa",
   "metadata": {
    "ExecuteTime": {
     "end_time": "2024-02-22T14:31:49.034424600Z",
     "start_time": "2024-02-22T14:31:48.985645100Z"
    }
   },
   "outputs": [
    {
     "name": "stderr",
     "output_type": "stream",
     "text": [
      "C:\\Users\\bryan\\AppData\\Local\\Temp\\ipykernel_18552\\1546595450.py:7: FutureWarning:\n",
      "\n",
      "The default of observed=False is deprecated and will be changed to True in a future version of pandas. Pass observed=False to retain current behavior or observed=True to adopt the future default and silence this warning.\n",
      "\n"
     ]
    },
    {
     "data": {
      "text/html": [
       "<div>\n",
       "<style scoped>\n",
       "    .dataframe tbody tr th:only-of-type {\n",
       "        vertical-align: middle;\n",
       "    }\n",
       "\n",
       "    .dataframe tbody tr th {\n",
       "        vertical-align: top;\n",
       "    }\n",
       "\n",
       "    .dataframe thead th {\n",
       "        text-align: right;\n",
       "    }\n",
       "</style>\n",
       "<table border=\"1\" class=\"dataframe\">\n",
       "  <thead>\n",
       "    <tr style=\"text-align: right;\">\n",
       "      <th></th>\n",
       "      <th>victory_status</th>\n",
       "      <th>rating_interval</th>\n",
       "      <th>count</th>\n",
       "    </tr>\n",
       "  </thead>\n",
       "  <tbody>\n",
       "    <tr>\n",
       "      <th>0</th>\n",
       "      <td>Draw</td>\n",
       "      <td>751-1000</td>\n",
       "      <td>2</td>\n",
       "    </tr>\n",
       "    <tr>\n",
       "      <th>1</th>\n",
       "      <td>Draw</td>\n",
       "      <td>1001-1250</td>\n",
       "      <td>72</td>\n",
       "    </tr>\n",
       "    <tr>\n",
       "      <th>2</th>\n",
       "      <td>Draw</td>\n",
       "      <td>1251-1500</td>\n",
       "      <td>219</td>\n",
       "    </tr>\n",
       "    <tr>\n",
       "      <th>3</th>\n",
       "      <td>Draw</td>\n",
       "      <td>1501-1750</td>\n",
       "      <td>296</td>\n",
       "    </tr>\n",
       "    <tr>\n",
       "      <th>4</th>\n",
       "      <td>Draw</td>\n",
       "      <td>1751-2000</td>\n",
       "      <td>199</td>\n",
       "    </tr>\n",
       "    <tr>\n",
       "      <th>5</th>\n",
       "      <td>Draw</td>\n",
       "      <td>2001-2250</td>\n",
       "      <td>96</td>\n",
       "    </tr>\n",
       "    <tr>\n",
       "      <th>6</th>\n",
       "      <td>Draw</td>\n",
       "      <td>2251-2500</td>\n",
       "      <td>22</td>\n",
       "    </tr>\n",
       "    <tr>\n",
       "      <th>7</th>\n",
       "      <td>Mate</td>\n",
       "      <td>751-1000</td>\n",
       "      <td>38</td>\n",
       "    </tr>\n",
       "    <tr>\n",
       "      <th>8</th>\n",
       "      <td>Mate</td>\n",
       "      <td>1001-1250</td>\n",
       "      <td>660</td>\n",
       "    </tr>\n",
       "    <tr>\n",
       "      <th>9</th>\n",
       "      <td>Mate</td>\n",
       "      <td>1251-1500</td>\n",
       "      <td>2383</td>\n",
       "    </tr>\n",
       "    <tr>\n",
       "      <th>10</th>\n",
       "      <td>Mate</td>\n",
       "      <td>1501-1750</td>\n",
       "      <td>2119</td>\n",
       "    </tr>\n",
       "    <tr>\n",
       "      <th>11</th>\n",
       "      <td>Mate</td>\n",
       "      <td>1751-2000</td>\n",
       "      <td>909</td>\n",
       "    </tr>\n",
       "    <tr>\n",
       "      <th>12</th>\n",
       "      <td>Mate</td>\n",
       "      <td>2001-2250</td>\n",
       "      <td>205</td>\n",
       "    </tr>\n",
       "    <tr>\n",
       "      <th>13</th>\n",
       "      <td>Mate</td>\n",
       "      <td>2251-2500</td>\n",
       "      <td>11</td>\n",
       "    </tr>\n",
       "    <tr>\n",
       "      <th>14</th>\n",
       "      <td>Out of Time</td>\n",
       "      <td>751-1000</td>\n",
       "      <td>10</td>\n",
       "    </tr>\n",
       "    <tr>\n",
       "      <th>15</th>\n",
       "      <td>Out of Time</td>\n",
       "      <td>1001-1250</td>\n",
       "      <td>149</td>\n",
       "    </tr>\n",
       "    <tr>\n",
       "      <th>16</th>\n",
       "      <td>Out of Time</td>\n",
       "      <td>1251-1500</td>\n",
       "      <td>417</td>\n",
       "    </tr>\n",
       "    <tr>\n",
       "      <th>17</th>\n",
       "      <td>Out of Time</td>\n",
       "      <td>1501-1750</td>\n",
       "      <td>592</td>\n",
       "    </tr>\n",
       "    <tr>\n",
       "      <th>18</th>\n",
       "      <td>Out of Time</td>\n",
       "      <td>1751-2000</td>\n",
       "      <td>363</td>\n",
       "    </tr>\n",
       "    <tr>\n",
       "      <th>19</th>\n",
       "      <td>Out of Time</td>\n",
       "      <td>2001-2250</td>\n",
       "      <td>135</td>\n",
       "    </tr>\n",
       "    <tr>\n",
       "      <th>20</th>\n",
       "      <td>Out of Time</td>\n",
       "      <td>2251-2500</td>\n",
       "      <td>14</td>\n",
       "    </tr>\n",
       "    <tr>\n",
       "      <th>21</th>\n",
       "      <td>Resign</td>\n",
       "      <td>751-1000</td>\n",
       "      <td>43</td>\n",
       "    </tr>\n",
       "    <tr>\n",
       "      <th>22</th>\n",
       "      <td>Resign</td>\n",
       "      <td>1001-1250</td>\n",
       "      <td>760</td>\n",
       "    </tr>\n",
       "    <tr>\n",
       "      <th>23</th>\n",
       "      <td>Resign</td>\n",
       "      <td>1251-1500</td>\n",
       "      <td>2973</td>\n",
       "    </tr>\n",
       "    <tr>\n",
       "      <th>24</th>\n",
       "      <td>Resign</td>\n",
       "      <td>1501-1750</td>\n",
       "      <td>3889</td>\n",
       "    </tr>\n",
       "    <tr>\n",
       "      <th>25</th>\n",
       "      <td>Resign</td>\n",
       "      <td>1751-2000</td>\n",
       "      <td>2466</td>\n",
       "    </tr>\n",
       "    <tr>\n",
       "      <th>26</th>\n",
       "      <td>Resign</td>\n",
       "      <td>2001-2250</td>\n",
       "      <td>903</td>\n",
       "    </tr>\n",
       "    <tr>\n",
       "      <th>27</th>\n",
       "      <td>Resign</td>\n",
       "      <td>2251-2500</td>\n",
       "      <td>113</td>\n",
       "    </tr>\n",
       "  </tbody>\n",
       "</table>\n",
       "</div>"
      ],
      "text/plain": [
       "   victory_status rating_interval  count\n",
       "0            Draw        751-1000      2\n",
       "1            Draw       1001-1250     72\n",
       "2            Draw       1251-1500    219\n",
       "3            Draw       1501-1750    296\n",
       "4            Draw       1751-2000    199\n",
       "5            Draw       2001-2250     96\n",
       "6            Draw       2251-2500     22\n",
       "7            Mate        751-1000     38\n",
       "8            Mate       1001-1250    660\n",
       "9            Mate       1251-1500   2383\n",
       "10           Mate       1501-1750   2119\n",
       "11           Mate       1751-2000    909\n",
       "12           Mate       2001-2250    205\n",
       "13           Mate       2251-2500     11\n",
       "14    Out of Time        751-1000     10\n",
       "15    Out of Time       1001-1250    149\n",
       "16    Out of Time       1251-1500    417\n",
       "17    Out of Time       1501-1750    592\n",
       "18    Out of Time       1751-2000    363\n",
       "19    Out of Time       2001-2250    135\n",
       "20    Out of Time       2251-2500     14\n",
       "21         Resign        751-1000     43\n",
       "22         Resign       1001-1250    760\n",
       "23         Resign       1251-1500   2973\n",
       "24         Resign       1501-1750   3889\n",
       "25         Resign       1751-2000   2466\n",
       "26         Resign       2001-2250    903\n",
       "27         Resign       2251-2500    113"
      ]
     },
     "execution_count": 15,
     "metadata": {},
     "output_type": "execute_result"
    }
   ],
   "source": [
    "# Discretización de la variable para hacer el gráfico futuro más legible\n",
    "intervalos_rating = [750, 1000, 1250, 1500, 1750, 2000, 2250, 2500]\n",
    "labels_rating = ['751-1000', '1001-1250', '1251-1500', '1501-1750', '1751-2000', '2001-2250', '2251-2500']\n",
    "\n",
    "df['rating_interval'] = pd.cut(df['average_rating'], bins=intervalos_rating, labels=labels_rating, right=False)\n",
    "df\n",
    "data_grouped = df.groupby(['victory_status', 'rating_interval']).size().reset_index(name='count')\n",
    "data_grouped"
   ]
  },
  {
   "cell_type": "markdown",
   "id": "1b8dc912",
   "metadata": {},
   "source": [
    "### Descripción para niveles de rating ELO\n",
    "\n",
    "751-1000: Jugadores principiantes o novatos, que están comenzando a aprender las reglas básicas del ajedrez y desarrollar estrategias iniciales.\n",
    "\n",
    "1001-1250: Jugadores aficionados que tienen cierta experiencia en el juego y pueden realizar movimientos básicos con cierta habilidad, pero aún están trabajando en mejorar su comprensión táctica y estratégica.\n",
    "\n",
    "1251-1500: Jugadores intermedios que tienen un buen conocimiento de las tácticas y estrategias fundamentales del ajedrez. Pueden realizar jugadas más avanzadas y están trabajando para mejorar su consistencia y precisión en el juego.\n",
    "\n",
    "1501-1750: Jugadores avanzados que han desarrollado una comprensión sólida del juego. Pueden ejecutar planes tácticos y estratégicos con eficacia y están buscando perfeccionar su juego en todos los aspectos.\n",
    "\n",
    "1751-2000: Jugadores expertos que tienen un alto nivel de habilidad y experiencia en el juego. Son capaces de jugar a un nivel competitivo y están familiarizados con una amplia variedad de aperturas, estrategias y tácticas.\n",
    "\n",
    "2001-2250: Jugadores de nivel maestro que poseen un profundo conocimiento del juego y pueden competir a un nivel muy alto. Están altamente capacitados en todas las áreas del ajedrez y pueden jugar a un nivel casi profesional.\n",
    "\n",
    "2251-2500: Grandes maestros y jugadores de élite que representan la élite del mundo del ajedrez. Tienen un dominio excepcional del juego y son capaces de competir con los mejores jugadores a nivel mundial en torneos de alto nivel."
   ]
  },
  {
   "cell_type": "code",
   "execution_count": 13,
   "id": "8759b24e0c56fd81",
   "metadata": {
    "ExecuteTime": {
     "end_time": "2024-02-22T14:31:53.129960200Z",
     "start_time": "2024-02-22T14:31:53.109674400Z"
    }
   },
   "outputs": [
    {
     "data": {
      "text/plain": [
       "rating_interval\n",
       "1501-1750    6896\n",
       "1251-1500    5992\n",
       "1751-2000    3937\n",
       "1001-1250    1641\n",
       "2001-2250    1339\n",
       "2251-2500     160\n",
       "751-1000       93\n",
       "Name: count, dtype: int64"
      ]
     },
     "execution_count": 13,
     "metadata": {},
     "output_type": "execute_result"
    }
   ],
   "source": [
    "registros_por_intervalo = df['rating_interval'].value_counts()\n",
    "registros_por_intervalo\n"
   ]
  },
  {
   "cell_type": "code",
   "execution_count": 14,
   "id": "fe5fef97da312bf4",
   "metadata": {
    "ExecuteTime": {
     "end_time": "2024-02-22T14:48:08.000808600Z",
     "start_time": "2024-02-22T14:48:07.972298300Z"
    }
   },
   "outputs": [
    {
     "data": {
      "application/vnd.plotly.v1+json": {
       "config": {
        "plotlyServerURL": "https://plot.ly"
       },
       "data": [
        {
         "hovertemplate": "Victory Status=Draw<br>Rating=%{x}<br>Cantidad de Partidas=%{y}<extra></extra>",
         "legendgroup": "Draw",
         "line": {
          "color": "#636efa",
          "dash": "solid"
         },
         "marker": {
          "symbol": "circle"
         },
         "mode": "lines",
         "name": "Draw",
         "orientation": "v",
         "showlegend": true,
         "type": "scatter",
         "x": [
          "751-1000",
          "1001-1250",
          "1251-1500",
          "1501-1750",
          "1751-2000",
          "2001-2250",
          "2251-2500"
         ],
         "xaxis": "x",
         "y": [
          2,
          72,
          219,
          296,
          199,
          96,
          22
         ],
         "yaxis": "y"
        },
        {
         "hovertemplate": "Victory Status=Mate<br>Rating=%{x}<br>Cantidad de Partidas=%{y}<extra></extra>",
         "legendgroup": "Mate",
         "line": {
          "color": "#EF553B",
          "dash": "solid"
         },
         "marker": {
          "symbol": "circle"
         },
         "mode": "lines",
         "name": "Mate",
         "orientation": "v",
         "showlegend": true,
         "type": "scatter",
         "x": [
          "751-1000",
          "1001-1250",
          "1251-1500",
          "1501-1750",
          "1751-2000",
          "2001-2250",
          "2251-2500"
         ],
         "xaxis": "x",
         "y": [
          38,
          660,
          2383,
          2119,
          909,
          205,
          11
         ],
         "yaxis": "y"
        },
        {
         "hovertemplate": "Victory Status=Out of Time<br>Rating=%{x}<br>Cantidad de Partidas=%{y}<extra></extra>",
         "legendgroup": "Out of Time",
         "line": {
          "color": "#00cc96",
          "dash": "solid"
         },
         "marker": {
          "symbol": "circle"
         },
         "mode": "lines",
         "name": "Out of Time",
         "orientation": "v",
         "showlegend": true,
         "type": "scatter",
         "x": [
          "751-1000",
          "1001-1250",
          "1251-1500",
          "1501-1750",
          "1751-2000",
          "2001-2250",
          "2251-2500"
         ],
         "xaxis": "x",
         "y": [
          10,
          149,
          417,
          592,
          363,
          135,
          14
         ],
         "yaxis": "y"
        },
        {
         "hovertemplate": "Victory Status=Resign<br>Rating=%{x}<br>Cantidad de Partidas=%{y}<extra></extra>",
         "legendgroup": "Resign",
         "line": {
          "color": "#ab63fa",
          "dash": "solid"
         },
         "marker": {
          "symbol": "circle"
         },
         "mode": "lines",
         "name": "Resign",
         "orientation": "v",
         "showlegend": true,
         "type": "scatter",
         "x": [
          "751-1000",
          "1001-1250",
          "1251-1500",
          "1501-1750",
          "1751-2000",
          "2001-2250",
          "2251-2500"
         ],
         "xaxis": "x",
         "y": [
          43,
          760,
          2973,
          3889,
          2466,
          903,
          113
         ],
         "yaxis": "y"
        }
       ],
       "layout": {
        "legend": {
         "title": {
          "text": "Victory Status"
         },
         "tracegroupgap": 0
        },
        "template": {
         "data": {
          "bar": [
           {
            "error_x": {
             "color": "#2a3f5f"
            },
            "error_y": {
             "color": "#2a3f5f"
            },
            "marker": {
             "line": {
              "color": "#E5ECF6",
              "width": 0.5
             },
             "pattern": {
              "fillmode": "overlay",
              "size": 10,
              "solidity": 0.2
             }
            },
            "type": "bar"
           }
          ],
          "barpolar": [
           {
            "marker": {
             "line": {
              "color": "#E5ECF6",
              "width": 0.5
             },
             "pattern": {
              "fillmode": "overlay",
              "size": 10,
              "solidity": 0.2
             }
            },
            "type": "barpolar"
           }
          ],
          "carpet": [
           {
            "aaxis": {
             "endlinecolor": "#2a3f5f",
             "gridcolor": "white",
             "linecolor": "white",
             "minorgridcolor": "white",
             "startlinecolor": "#2a3f5f"
            },
            "baxis": {
             "endlinecolor": "#2a3f5f",
             "gridcolor": "white",
             "linecolor": "white",
             "minorgridcolor": "white",
             "startlinecolor": "#2a3f5f"
            },
            "type": "carpet"
           }
          ],
          "choropleth": [
           {
            "colorbar": {
             "outlinewidth": 0,
             "ticks": ""
            },
            "type": "choropleth"
           }
          ],
          "contour": [
           {
            "colorbar": {
             "outlinewidth": 0,
             "ticks": ""
            },
            "colorscale": [
             [
              0,
              "#0d0887"
             ],
             [
              0.1111111111111111,
              "#46039f"
             ],
             [
              0.2222222222222222,
              "#7201a8"
             ],
             [
              0.3333333333333333,
              "#9c179e"
             ],
             [
              0.4444444444444444,
              "#bd3786"
             ],
             [
              0.5555555555555556,
              "#d8576b"
             ],
             [
              0.6666666666666666,
              "#ed7953"
             ],
             [
              0.7777777777777778,
              "#fb9f3a"
             ],
             [
              0.8888888888888888,
              "#fdca26"
             ],
             [
              1,
              "#f0f921"
             ]
            ],
            "type": "contour"
           }
          ],
          "contourcarpet": [
           {
            "colorbar": {
             "outlinewidth": 0,
             "ticks": ""
            },
            "type": "contourcarpet"
           }
          ],
          "heatmap": [
           {
            "colorbar": {
             "outlinewidth": 0,
             "ticks": ""
            },
            "colorscale": [
             [
              0,
              "#0d0887"
             ],
             [
              0.1111111111111111,
              "#46039f"
             ],
             [
              0.2222222222222222,
              "#7201a8"
             ],
             [
              0.3333333333333333,
              "#9c179e"
             ],
             [
              0.4444444444444444,
              "#bd3786"
             ],
             [
              0.5555555555555556,
              "#d8576b"
             ],
             [
              0.6666666666666666,
              "#ed7953"
             ],
             [
              0.7777777777777778,
              "#fb9f3a"
             ],
             [
              0.8888888888888888,
              "#fdca26"
             ],
             [
              1,
              "#f0f921"
             ]
            ],
            "type": "heatmap"
           }
          ],
          "heatmapgl": [
           {
            "colorbar": {
             "outlinewidth": 0,
             "ticks": ""
            },
            "colorscale": [
             [
              0,
              "#0d0887"
             ],
             [
              0.1111111111111111,
              "#46039f"
             ],
             [
              0.2222222222222222,
              "#7201a8"
             ],
             [
              0.3333333333333333,
              "#9c179e"
             ],
             [
              0.4444444444444444,
              "#bd3786"
             ],
             [
              0.5555555555555556,
              "#d8576b"
             ],
             [
              0.6666666666666666,
              "#ed7953"
             ],
             [
              0.7777777777777778,
              "#fb9f3a"
             ],
             [
              0.8888888888888888,
              "#fdca26"
             ],
             [
              1,
              "#f0f921"
             ]
            ],
            "type": "heatmapgl"
           }
          ],
          "histogram": [
           {
            "marker": {
             "pattern": {
              "fillmode": "overlay",
              "size": 10,
              "solidity": 0.2
             }
            },
            "type": "histogram"
           }
          ],
          "histogram2d": [
           {
            "colorbar": {
             "outlinewidth": 0,
             "ticks": ""
            },
            "colorscale": [
             [
              0,
              "#0d0887"
             ],
             [
              0.1111111111111111,
              "#46039f"
             ],
             [
              0.2222222222222222,
              "#7201a8"
             ],
             [
              0.3333333333333333,
              "#9c179e"
             ],
             [
              0.4444444444444444,
              "#bd3786"
             ],
             [
              0.5555555555555556,
              "#d8576b"
             ],
             [
              0.6666666666666666,
              "#ed7953"
             ],
             [
              0.7777777777777778,
              "#fb9f3a"
             ],
             [
              0.8888888888888888,
              "#fdca26"
             ],
             [
              1,
              "#f0f921"
             ]
            ],
            "type": "histogram2d"
           }
          ],
          "histogram2dcontour": [
           {
            "colorbar": {
             "outlinewidth": 0,
             "ticks": ""
            },
            "colorscale": [
             [
              0,
              "#0d0887"
             ],
             [
              0.1111111111111111,
              "#46039f"
             ],
             [
              0.2222222222222222,
              "#7201a8"
             ],
             [
              0.3333333333333333,
              "#9c179e"
             ],
             [
              0.4444444444444444,
              "#bd3786"
             ],
             [
              0.5555555555555556,
              "#d8576b"
             ],
             [
              0.6666666666666666,
              "#ed7953"
             ],
             [
              0.7777777777777778,
              "#fb9f3a"
             ],
             [
              0.8888888888888888,
              "#fdca26"
             ],
             [
              1,
              "#f0f921"
             ]
            ],
            "type": "histogram2dcontour"
           }
          ],
          "mesh3d": [
           {
            "colorbar": {
             "outlinewidth": 0,
             "ticks": ""
            },
            "type": "mesh3d"
           }
          ],
          "parcoords": [
           {
            "line": {
             "colorbar": {
              "outlinewidth": 0,
              "ticks": ""
             }
            },
            "type": "parcoords"
           }
          ],
          "pie": [
           {
            "automargin": true,
            "type": "pie"
           }
          ],
          "scatter": [
           {
            "fillpattern": {
             "fillmode": "overlay",
             "size": 10,
             "solidity": 0.2
            },
            "type": "scatter"
           }
          ],
          "scatter3d": [
           {
            "line": {
             "colorbar": {
              "outlinewidth": 0,
              "ticks": ""
             }
            },
            "marker": {
             "colorbar": {
              "outlinewidth": 0,
              "ticks": ""
             }
            },
            "type": "scatter3d"
           }
          ],
          "scattercarpet": [
           {
            "marker": {
             "colorbar": {
              "outlinewidth": 0,
              "ticks": ""
             }
            },
            "type": "scattercarpet"
           }
          ],
          "scattergeo": [
           {
            "marker": {
             "colorbar": {
              "outlinewidth": 0,
              "ticks": ""
             }
            },
            "type": "scattergeo"
           }
          ],
          "scattergl": [
           {
            "marker": {
             "colorbar": {
              "outlinewidth": 0,
              "ticks": ""
             }
            },
            "type": "scattergl"
           }
          ],
          "scattermapbox": [
           {
            "marker": {
             "colorbar": {
              "outlinewidth": 0,
              "ticks": ""
             }
            },
            "type": "scattermapbox"
           }
          ],
          "scatterpolar": [
           {
            "marker": {
             "colorbar": {
              "outlinewidth": 0,
              "ticks": ""
             }
            },
            "type": "scatterpolar"
           }
          ],
          "scatterpolargl": [
           {
            "marker": {
             "colorbar": {
              "outlinewidth": 0,
              "ticks": ""
             }
            },
            "type": "scatterpolargl"
           }
          ],
          "scatterternary": [
           {
            "marker": {
             "colorbar": {
              "outlinewidth": 0,
              "ticks": ""
             }
            },
            "type": "scatterternary"
           }
          ],
          "surface": [
           {
            "colorbar": {
             "outlinewidth": 0,
             "ticks": ""
            },
            "colorscale": [
             [
              0,
              "#0d0887"
             ],
             [
              0.1111111111111111,
              "#46039f"
             ],
             [
              0.2222222222222222,
              "#7201a8"
             ],
             [
              0.3333333333333333,
              "#9c179e"
             ],
             [
              0.4444444444444444,
              "#bd3786"
             ],
             [
              0.5555555555555556,
              "#d8576b"
             ],
             [
              0.6666666666666666,
              "#ed7953"
             ],
             [
              0.7777777777777778,
              "#fb9f3a"
             ],
             [
              0.8888888888888888,
              "#fdca26"
             ],
             [
              1,
              "#f0f921"
             ]
            ],
            "type": "surface"
           }
          ],
          "table": [
           {
            "cells": {
             "fill": {
              "color": "#EBF0F8"
             },
             "line": {
              "color": "white"
             }
            },
            "header": {
             "fill": {
              "color": "#C8D4E3"
             },
             "line": {
              "color": "white"
             }
            },
            "type": "table"
           }
          ]
         },
         "layout": {
          "annotationdefaults": {
           "arrowcolor": "#2a3f5f",
           "arrowhead": 0,
           "arrowwidth": 1
          },
          "autotypenumbers": "strict",
          "coloraxis": {
           "colorbar": {
            "outlinewidth": 0,
            "ticks": ""
           }
          },
          "colorscale": {
           "diverging": [
            [
             0,
             "#8e0152"
            ],
            [
             0.1,
             "#c51b7d"
            ],
            [
             0.2,
             "#de77ae"
            ],
            [
             0.3,
             "#f1b6da"
            ],
            [
             0.4,
             "#fde0ef"
            ],
            [
             0.5,
             "#f7f7f7"
            ],
            [
             0.6,
             "#e6f5d0"
            ],
            [
             0.7,
             "#b8e186"
            ],
            [
             0.8,
             "#7fbc41"
            ],
            [
             0.9,
             "#4d9221"
            ],
            [
             1,
             "#276419"
            ]
           ],
           "sequential": [
            [
             0,
             "#0d0887"
            ],
            [
             0.1111111111111111,
             "#46039f"
            ],
            [
             0.2222222222222222,
             "#7201a8"
            ],
            [
             0.3333333333333333,
             "#9c179e"
            ],
            [
             0.4444444444444444,
             "#bd3786"
            ],
            [
             0.5555555555555556,
             "#d8576b"
            ],
            [
             0.6666666666666666,
             "#ed7953"
            ],
            [
             0.7777777777777778,
             "#fb9f3a"
            ],
            [
             0.8888888888888888,
             "#fdca26"
            ],
            [
             1,
             "#f0f921"
            ]
           ],
           "sequentialminus": [
            [
             0,
             "#0d0887"
            ],
            [
             0.1111111111111111,
             "#46039f"
            ],
            [
             0.2222222222222222,
             "#7201a8"
            ],
            [
             0.3333333333333333,
             "#9c179e"
            ],
            [
             0.4444444444444444,
             "#bd3786"
            ],
            [
             0.5555555555555556,
             "#d8576b"
            ],
            [
             0.6666666666666666,
             "#ed7953"
            ],
            [
             0.7777777777777778,
             "#fb9f3a"
            ],
            [
             0.8888888888888888,
             "#fdca26"
            ],
            [
             1,
             "#f0f921"
            ]
           ]
          },
          "colorway": [
           "#636efa",
           "#EF553B",
           "#00cc96",
           "#ab63fa",
           "#FFA15A",
           "#19d3f3",
           "#FF6692",
           "#B6E880",
           "#FF97FF",
           "#FECB52"
          ],
          "font": {
           "color": "#2a3f5f"
          },
          "geo": {
           "bgcolor": "white",
           "lakecolor": "white",
           "landcolor": "#E5ECF6",
           "showlakes": true,
           "showland": true,
           "subunitcolor": "white"
          },
          "hoverlabel": {
           "align": "left"
          },
          "hovermode": "closest",
          "mapbox": {
           "style": "light"
          },
          "paper_bgcolor": "white",
          "plot_bgcolor": "#E5ECF6",
          "polar": {
           "angularaxis": {
            "gridcolor": "white",
            "linecolor": "white",
            "ticks": ""
           },
           "bgcolor": "#E5ECF6",
           "radialaxis": {
            "gridcolor": "white",
            "linecolor": "white",
            "ticks": ""
           }
          },
          "scene": {
           "xaxis": {
            "backgroundcolor": "#E5ECF6",
            "gridcolor": "white",
            "gridwidth": 2,
            "linecolor": "white",
            "showbackground": true,
            "ticks": "",
            "zerolinecolor": "white"
           },
           "yaxis": {
            "backgroundcolor": "#E5ECF6",
            "gridcolor": "white",
            "gridwidth": 2,
            "linecolor": "white",
            "showbackground": true,
            "ticks": "",
            "zerolinecolor": "white"
           },
           "zaxis": {
            "backgroundcolor": "#E5ECF6",
            "gridcolor": "white",
            "gridwidth": 2,
            "linecolor": "white",
            "showbackground": true,
            "ticks": "",
            "zerolinecolor": "white"
           }
          },
          "shapedefaults": {
           "line": {
            "color": "#2a3f5f"
           }
          },
          "ternary": {
           "aaxis": {
            "gridcolor": "white",
            "linecolor": "white",
            "ticks": ""
           },
           "baxis": {
            "gridcolor": "white",
            "linecolor": "white",
            "ticks": ""
           },
           "bgcolor": "#E5ECF6",
           "caxis": {
            "gridcolor": "white",
            "linecolor": "white",
            "ticks": ""
           }
          },
          "title": {
           "x": 0.05
          },
          "xaxis": {
           "automargin": true,
           "gridcolor": "white",
           "linecolor": "white",
           "ticks": "",
           "title": {
            "standoff": 15
           },
           "zerolinecolor": "white",
           "zerolinewidth": 2
          },
          "yaxis": {
           "automargin": true,
           "gridcolor": "white",
           "linecolor": "white",
           "ticks": "",
           "title": {
            "standoff": 15
           },
           "zerolinecolor": "white",
           "zerolinewidth": 2
          }
         }
        },
        "title": {
         "text": "Cantidad de partidas por rating y condición de victoria"
        },
        "xaxis": {
         "anchor": "y",
         "domain": [
          0,
          1
         ],
         "title": {
          "text": "Rating"
         }
        },
        "yaxis": {
         "anchor": "x",
         "domain": [
          0,
          1
         ],
         "title": {
          "text": "Cantidad de Partidas"
         }
        }
       }
      }
     },
     "metadata": {},
     "output_type": "display_data"
    }
   ],
   "source": [
    "import plotly.express as px\n",
    "\n",
    "\n",
    "# Crear el gráfico interactivo\n",
    "fig = px.line(data_grouped, x=\"rating_interval\", y=\"count\", color=\"victory_status\", title=\"Cantidad de partidas por rating y condición de victoria\",\n",
    "              labels={\"rating_interval\": \"Rating\", \"count\": \"Cantidad de Partidas\", \"victory_status\": \"Victory Status\"})\n",
    "\n",
    "# Mostrar el gráfico\n",
    "fig.show()"
   ]
  },
  {
   "cell_type": "markdown",
   "id": "ae9b1fcf",
   "metadata": {},
   "source": [
    "Con este gráfico se buscaba demostrar que la cantidad de empates aumentaban según aumentaba la fuerza del jugador, pero no quedó debido a la cantidad de partidos que existen en niveles medios, entonces afecta nuestro gráfico."
   ]
  },
  {
   "cell_type": "code",
   "execution_count": 16,
   "id": "b61e1e7d7b4bb0e5",
   "metadata": {
    "ExecuteTime": {
     "end_time": "2024-02-22T14:48:01.605370100Z",
     "start_time": "2024-02-22T14:48:01.544490500Z"
    }
   },
   "outputs": [
    {
     "data": {
      "text/html": [
       "<div>\n",
       "<style scoped>\n",
       "    .dataframe tbody tr th:only-of-type {\n",
       "        vertical-align: middle;\n",
       "    }\n",
       "\n",
       "    .dataframe tbody tr th {\n",
       "        vertical-align: top;\n",
       "    }\n",
       "\n",
       "    .dataframe thead th {\n",
       "        text-align: right;\n",
       "    }\n",
       "</style>\n",
       "<table border=\"1\" class=\"dataframe\">\n",
       "  <thead>\n",
       "    <tr style=\"text-align: right;\">\n",
       "      <th></th>\n",
       "      <th>rating_interval</th>\n",
       "      <th>count_x</th>\n",
       "      <th>victory_status</th>\n",
       "      <th>count_y</th>\n",
       "      <th>Percent</th>\n",
       "    </tr>\n",
       "  </thead>\n",
       "  <tbody>\n",
       "    <tr>\n",
       "      <th>27</th>\n",
       "      <td>751-1000</td>\n",
       "      <td>93</td>\n",
       "      <td>Resign</td>\n",
       "      <td>43</td>\n",
       "      <td>46.236559</td>\n",
       "    </tr>\n",
       "    <tr>\n",
       "      <th>25</th>\n",
       "      <td>751-1000</td>\n",
       "      <td>93</td>\n",
       "      <td>Mate</td>\n",
       "      <td>38</td>\n",
       "      <td>40.860215</td>\n",
       "    </tr>\n",
       "    <tr>\n",
       "      <th>24</th>\n",
       "      <td>751-1000</td>\n",
       "      <td>93</td>\n",
       "      <td>Draw</td>\n",
       "      <td>2</td>\n",
       "      <td>2.150538</td>\n",
       "    </tr>\n",
       "    <tr>\n",
       "      <th>26</th>\n",
       "      <td>751-1000</td>\n",
       "      <td>93</td>\n",
       "      <td>Out of Time</td>\n",
       "      <td>10</td>\n",
       "      <td>10.752688</td>\n",
       "    </tr>\n",
       "    <tr>\n",
       "      <th>15</th>\n",
       "      <td>1001-1250</td>\n",
       "      <td>1641</td>\n",
       "      <td>Resign</td>\n",
       "      <td>760</td>\n",
       "      <td>46.313224</td>\n",
       "    </tr>\n",
       "    <tr>\n",
       "      <th>14</th>\n",
       "      <td>1001-1250</td>\n",
       "      <td>1641</td>\n",
       "      <td>Out of Time</td>\n",
       "      <td>149</td>\n",
       "      <td>9.079829</td>\n",
       "    </tr>\n",
       "    <tr>\n",
       "      <th>12</th>\n",
       "      <td>1001-1250</td>\n",
       "      <td>1641</td>\n",
       "      <td>Draw</td>\n",
       "      <td>72</td>\n",
       "      <td>4.387569</td>\n",
       "    </tr>\n",
       "    <tr>\n",
       "      <th>13</th>\n",
       "      <td>1001-1250</td>\n",
       "      <td>1641</td>\n",
       "      <td>Mate</td>\n",
       "      <td>660</td>\n",
       "      <td>40.219378</td>\n",
       "    </tr>\n",
       "    <tr>\n",
       "      <th>7</th>\n",
       "      <td>1251-1500</td>\n",
       "      <td>5992</td>\n",
       "      <td>Resign</td>\n",
       "      <td>2973</td>\n",
       "      <td>49.616155</td>\n",
       "    </tr>\n",
       "    <tr>\n",
       "      <th>6</th>\n",
       "      <td>1251-1500</td>\n",
       "      <td>5992</td>\n",
       "      <td>Out of Time</td>\n",
       "      <td>417</td>\n",
       "      <td>6.959279</td>\n",
       "    </tr>\n",
       "    <tr>\n",
       "      <th>5</th>\n",
       "      <td>1251-1500</td>\n",
       "      <td>5992</td>\n",
       "      <td>Mate</td>\n",
       "      <td>2383</td>\n",
       "      <td>39.769693</td>\n",
       "    </tr>\n",
       "    <tr>\n",
       "      <th>4</th>\n",
       "      <td>1251-1500</td>\n",
       "      <td>5992</td>\n",
       "      <td>Draw</td>\n",
       "      <td>219</td>\n",
       "      <td>3.654873</td>\n",
       "    </tr>\n",
       "    <tr>\n",
       "      <th>0</th>\n",
       "      <td>1501-1750</td>\n",
       "      <td>6896</td>\n",
       "      <td>Draw</td>\n",
       "      <td>296</td>\n",
       "      <td>4.292343</td>\n",
       "    </tr>\n",
       "    <tr>\n",
       "      <th>1</th>\n",
       "      <td>1501-1750</td>\n",
       "      <td>6896</td>\n",
       "      <td>Mate</td>\n",
       "      <td>2119</td>\n",
       "      <td>30.727958</td>\n",
       "    </tr>\n",
       "    <tr>\n",
       "      <th>2</th>\n",
       "      <td>1501-1750</td>\n",
       "      <td>6896</td>\n",
       "      <td>Out of Time</td>\n",
       "      <td>592</td>\n",
       "      <td>8.584687</td>\n",
       "    </tr>\n",
       "    <tr>\n",
       "      <th>3</th>\n",
       "      <td>1501-1750</td>\n",
       "      <td>6896</td>\n",
       "      <td>Resign</td>\n",
       "      <td>3889</td>\n",
       "      <td>56.395012</td>\n",
       "    </tr>\n",
       "    <tr>\n",
       "      <th>8</th>\n",
       "      <td>1751-2000</td>\n",
       "      <td>3937</td>\n",
       "      <td>Draw</td>\n",
       "      <td>199</td>\n",
       "      <td>5.054610</td>\n",
       "    </tr>\n",
       "    <tr>\n",
       "      <th>11</th>\n",
       "      <td>1751-2000</td>\n",
       "      <td>3937</td>\n",
       "      <td>Resign</td>\n",
       "      <td>2466</td>\n",
       "      <td>62.636525</td>\n",
       "    </tr>\n",
       "    <tr>\n",
       "      <th>10</th>\n",
       "      <td>1751-2000</td>\n",
       "      <td>3937</td>\n",
       "      <td>Out of Time</td>\n",
       "      <td>363</td>\n",
       "      <td>9.220218</td>\n",
       "    </tr>\n",
       "    <tr>\n",
       "      <th>9</th>\n",
       "      <td>1751-2000</td>\n",
       "      <td>3937</td>\n",
       "      <td>Mate</td>\n",
       "      <td>909</td>\n",
       "      <td>23.088646</td>\n",
       "    </tr>\n",
       "    <tr>\n",
       "      <th>18</th>\n",
       "      <td>2001-2250</td>\n",
       "      <td>1339</td>\n",
       "      <td>Out of Time</td>\n",
       "      <td>135</td>\n",
       "      <td>10.082151</td>\n",
       "    </tr>\n",
       "    <tr>\n",
       "      <th>19</th>\n",
       "      <td>2001-2250</td>\n",
       "      <td>1339</td>\n",
       "      <td>Resign</td>\n",
       "      <td>903</td>\n",
       "      <td>67.438387</td>\n",
       "    </tr>\n",
       "    <tr>\n",
       "      <th>16</th>\n",
       "      <td>2001-2250</td>\n",
       "      <td>1339</td>\n",
       "      <td>Draw</td>\n",
       "      <td>96</td>\n",
       "      <td>7.169529</td>\n",
       "    </tr>\n",
       "    <tr>\n",
       "      <th>17</th>\n",
       "      <td>2001-2250</td>\n",
       "      <td>1339</td>\n",
       "      <td>Mate</td>\n",
       "      <td>205</td>\n",
       "      <td>15.309933</td>\n",
       "    </tr>\n",
       "    <tr>\n",
       "      <th>20</th>\n",
       "      <td>2251-2500</td>\n",
       "      <td>160</td>\n",
       "      <td>Draw</td>\n",
       "      <td>22</td>\n",
       "      <td>13.750000</td>\n",
       "    </tr>\n",
       "    <tr>\n",
       "      <th>21</th>\n",
       "      <td>2251-2500</td>\n",
       "      <td>160</td>\n",
       "      <td>Mate</td>\n",
       "      <td>11</td>\n",
       "      <td>6.875000</td>\n",
       "    </tr>\n",
       "    <tr>\n",
       "      <th>22</th>\n",
       "      <td>2251-2500</td>\n",
       "      <td>160</td>\n",
       "      <td>Out of Time</td>\n",
       "      <td>14</td>\n",
       "      <td>8.750000</td>\n",
       "    </tr>\n",
       "    <tr>\n",
       "      <th>23</th>\n",
       "      <td>2251-2500</td>\n",
       "      <td>160</td>\n",
       "      <td>Resign</td>\n",
       "      <td>113</td>\n",
       "      <td>70.625000</td>\n",
       "    </tr>\n",
       "  </tbody>\n",
       "</table>\n",
       "</div>"
      ],
      "text/plain": [
       "   rating_interval  count_x victory_status  count_y    Percent\n",
       "27        751-1000       93         Resign       43  46.236559\n",
       "25        751-1000       93           Mate       38  40.860215\n",
       "24        751-1000       93           Draw        2   2.150538\n",
       "26        751-1000       93    Out of Time       10  10.752688\n",
       "15       1001-1250     1641         Resign      760  46.313224\n",
       "14       1001-1250     1641    Out of Time      149   9.079829\n",
       "12       1001-1250     1641           Draw       72   4.387569\n",
       "13       1001-1250     1641           Mate      660  40.219378\n",
       "7        1251-1500     5992         Resign     2973  49.616155\n",
       "6        1251-1500     5992    Out of Time      417   6.959279\n",
       "5        1251-1500     5992           Mate     2383  39.769693\n",
       "4        1251-1500     5992           Draw      219   3.654873\n",
       "0        1501-1750     6896           Draw      296   4.292343\n",
       "1        1501-1750     6896           Mate     2119  30.727958\n",
       "2        1501-1750     6896    Out of Time      592   8.584687\n",
       "3        1501-1750     6896         Resign     3889  56.395012\n",
       "8        1751-2000     3937           Draw      199   5.054610\n",
       "11       1751-2000     3937         Resign     2466  62.636525\n",
       "10       1751-2000     3937    Out of Time      363   9.220218\n",
       "9        1751-2000     3937           Mate      909  23.088646\n",
       "18       2001-2250     1339    Out of Time      135  10.082151\n",
       "19       2001-2250     1339         Resign      903  67.438387\n",
       "16       2001-2250     1339           Draw       96   7.169529\n",
       "17       2001-2250     1339           Mate      205  15.309933\n",
       "20       2251-2500      160           Draw       22  13.750000\n",
       "21       2251-2500      160           Mate       11   6.875000\n",
       "22       2251-2500      160    Out of Time       14   8.750000\n",
       "23       2251-2500      160         Resign      113  70.625000"
      ]
     },
     "execution_count": 16,
     "metadata": {},
     "output_type": "execute_result"
    }
   ],
   "source": [
    "\n",
    "# Calcular porcentaje\n",
    "merged_df = pd.merge(registros_por_intervalo, data_grouped, on=\"rating_interval\", how=\"inner\")\n",
    "merged_df[\"Percent\"] = (merged_df[\"count_y\"] / merged_df[\"count_x\"]) * 100\n",
    "data_grouped_percent = merged_df.sort_values(by=\"rating_interval\")\n",
    "data_grouped_percent"
   ]
  },
  {
   "cell_type": "code",
   "execution_count": 17,
   "id": "ead579c19eec2bb9",
   "metadata": {
    "ExecuteTime": {
     "end_time": "2024-02-22T14:26:08.107032300Z",
     "start_time": "2024-02-22T14:26:07.823672Z"
    }
   },
   "outputs": [
    {
     "data": {
      "application/vnd.plotly.v1+json": {
       "config": {
        "plotlyServerURL": "https://plot.ly"
       },
       "data": [
        {
         "hovertemplate": "Victory Status=Resign<br>Rating=%{x}<br>Percent=%{y}<extra></extra>",
         "legendgroup": "Resign",
         "line": {
          "color": "#636efa",
          "dash": "solid"
         },
         "marker": {
          "symbol": "circle"
         },
         "mode": "lines",
         "name": "Resign",
         "orientation": "v",
         "showlegend": true,
         "type": "scatter",
         "x": [
          "751-1000",
          "1001-1250",
          "1251-1500",
          "1501-1750",
          "1751-2000",
          "2001-2250",
          "2251-2500"
         ],
         "xaxis": "x",
         "y": [
          46.236559139784944,
          46.31322364411944,
          49.61615487316422,
          56.39501160092807,
          62.636525273050545,
          67.43838685586259,
          70.625
         ],
         "yaxis": "y"
        },
        {
         "hovertemplate": "Victory Status=Mate<br>Rating=%{x}<br>Percent=%{y}<extra></extra>",
         "legendgroup": "Mate",
         "line": {
          "color": "#EF553B",
          "dash": "solid"
         },
         "marker": {
          "symbol": "circle"
         },
         "mode": "lines",
         "name": "Mate",
         "orientation": "v",
         "showlegend": true,
         "type": "scatter",
         "x": [
          "751-1000",
          "1001-1250",
          "1251-1500",
          "1501-1750",
          "1751-2000",
          "2001-2250",
          "2251-2500"
         ],
         "xaxis": "x",
         "y": [
          40.86021505376344,
          40.21937842778793,
          39.76969292389853,
          30.72795823665893,
          23.088646177292354,
          15.30993278566094,
          6.875000000000001
         ],
         "yaxis": "y"
        },
        {
         "hovertemplate": "Victory Status=Draw<br>Rating=%{x}<br>Percent=%{y}<extra></extra>",
         "legendgroup": "Draw",
         "line": {
          "color": "#00cc96",
          "dash": "solid"
         },
         "marker": {
          "symbol": "circle"
         },
         "mode": "lines",
         "name": "Draw",
         "orientation": "v",
         "showlegend": true,
         "type": "scatter",
         "x": [
          "751-1000",
          "1001-1250",
          "1251-1500",
          "1501-1750",
          "1751-2000",
          "2001-2250",
          "2251-2500"
         ],
         "xaxis": "x",
         "y": [
          2.1505376344086025,
          4.387568555758683,
          3.6548731642189587,
          4.292343387470997,
          5.054610109220219,
          7.169529499626587,
          13.750000000000002
         ],
         "yaxis": "y"
        },
        {
         "hovertemplate": "Victory Status=Out of Time<br>Rating=%{x}<br>Percent=%{y}<extra></extra>",
         "legendgroup": "Out of Time",
         "line": {
          "color": "#ab63fa",
          "dash": "solid"
         },
         "marker": {
          "symbol": "circle"
         },
         "mode": "lines",
         "name": "Out of Time",
         "orientation": "v",
         "showlegend": true,
         "type": "scatter",
         "x": [
          "751-1000",
          "1001-1250",
          "1251-1500",
          "1501-1750",
          "1751-2000",
          "2001-2250",
          "2251-2500"
         ],
         "xaxis": "x",
         "y": [
          10.75268817204301,
          9.079829372333943,
          6.959279038718291,
          8.584686774941995,
          9.22021844043688,
          10.082150858849888,
          8.75
         ],
         "yaxis": "y"
        }
       ],
       "layout": {
        "legend": {
         "title": {
          "text": "Victory Status"
         },
         "tracegroupgap": 0
        },
        "template": {
         "data": {
          "bar": [
           {
            "error_x": {
             "color": "#2a3f5f"
            },
            "error_y": {
             "color": "#2a3f5f"
            },
            "marker": {
             "line": {
              "color": "#E5ECF6",
              "width": 0.5
             },
             "pattern": {
              "fillmode": "overlay",
              "size": 10,
              "solidity": 0.2
             }
            },
            "type": "bar"
           }
          ],
          "barpolar": [
           {
            "marker": {
             "line": {
              "color": "#E5ECF6",
              "width": 0.5
             },
             "pattern": {
              "fillmode": "overlay",
              "size": 10,
              "solidity": 0.2
             }
            },
            "type": "barpolar"
           }
          ],
          "carpet": [
           {
            "aaxis": {
             "endlinecolor": "#2a3f5f",
             "gridcolor": "white",
             "linecolor": "white",
             "minorgridcolor": "white",
             "startlinecolor": "#2a3f5f"
            },
            "baxis": {
             "endlinecolor": "#2a3f5f",
             "gridcolor": "white",
             "linecolor": "white",
             "minorgridcolor": "white",
             "startlinecolor": "#2a3f5f"
            },
            "type": "carpet"
           }
          ],
          "choropleth": [
           {
            "colorbar": {
             "outlinewidth": 0,
             "ticks": ""
            },
            "type": "choropleth"
           }
          ],
          "contour": [
           {
            "colorbar": {
             "outlinewidth": 0,
             "ticks": ""
            },
            "colorscale": [
             [
              0,
              "#0d0887"
             ],
             [
              0.1111111111111111,
              "#46039f"
             ],
             [
              0.2222222222222222,
              "#7201a8"
             ],
             [
              0.3333333333333333,
              "#9c179e"
             ],
             [
              0.4444444444444444,
              "#bd3786"
             ],
             [
              0.5555555555555556,
              "#d8576b"
             ],
             [
              0.6666666666666666,
              "#ed7953"
             ],
             [
              0.7777777777777778,
              "#fb9f3a"
             ],
             [
              0.8888888888888888,
              "#fdca26"
             ],
             [
              1,
              "#f0f921"
             ]
            ],
            "type": "contour"
           }
          ],
          "contourcarpet": [
           {
            "colorbar": {
             "outlinewidth": 0,
             "ticks": ""
            },
            "type": "contourcarpet"
           }
          ],
          "heatmap": [
           {
            "colorbar": {
             "outlinewidth": 0,
             "ticks": ""
            },
            "colorscale": [
             [
              0,
              "#0d0887"
             ],
             [
              0.1111111111111111,
              "#46039f"
             ],
             [
              0.2222222222222222,
              "#7201a8"
             ],
             [
              0.3333333333333333,
              "#9c179e"
             ],
             [
              0.4444444444444444,
              "#bd3786"
             ],
             [
              0.5555555555555556,
              "#d8576b"
             ],
             [
              0.6666666666666666,
              "#ed7953"
             ],
             [
              0.7777777777777778,
              "#fb9f3a"
             ],
             [
              0.8888888888888888,
              "#fdca26"
             ],
             [
              1,
              "#f0f921"
             ]
            ],
            "type": "heatmap"
           }
          ],
          "heatmapgl": [
           {
            "colorbar": {
             "outlinewidth": 0,
             "ticks": ""
            },
            "colorscale": [
             [
              0,
              "#0d0887"
             ],
             [
              0.1111111111111111,
              "#46039f"
             ],
             [
              0.2222222222222222,
              "#7201a8"
             ],
             [
              0.3333333333333333,
              "#9c179e"
             ],
             [
              0.4444444444444444,
              "#bd3786"
             ],
             [
              0.5555555555555556,
              "#d8576b"
             ],
             [
              0.6666666666666666,
              "#ed7953"
             ],
             [
              0.7777777777777778,
              "#fb9f3a"
             ],
             [
              0.8888888888888888,
              "#fdca26"
             ],
             [
              1,
              "#f0f921"
             ]
            ],
            "type": "heatmapgl"
           }
          ],
          "histogram": [
           {
            "marker": {
             "pattern": {
              "fillmode": "overlay",
              "size": 10,
              "solidity": 0.2
             }
            },
            "type": "histogram"
           }
          ],
          "histogram2d": [
           {
            "colorbar": {
             "outlinewidth": 0,
             "ticks": ""
            },
            "colorscale": [
             [
              0,
              "#0d0887"
             ],
             [
              0.1111111111111111,
              "#46039f"
             ],
             [
              0.2222222222222222,
              "#7201a8"
             ],
             [
              0.3333333333333333,
              "#9c179e"
             ],
             [
              0.4444444444444444,
              "#bd3786"
             ],
             [
              0.5555555555555556,
              "#d8576b"
             ],
             [
              0.6666666666666666,
              "#ed7953"
             ],
             [
              0.7777777777777778,
              "#fb9f3a"
             ],
             [
              0.8888888888888888,
              "#fdca26"
             ],
             [
              1,
              "#f0f921"
             ]
            ],
            "type": "histogram2d"
           }
          ],
          "histogram2dcontour": [
           {
            "colorbar": {
             "outlinewidth": 0,
             "ticks": ""
            },
            "colorscale": [
             [
              0,
              "#0d0887"
             ],
             [
              0.1111111111111111,
              "#46039f"
             ],
             [
              0.2222222222222222,
              "#7201a8"
             ],
             [
              0.3333333333333333,
              "#9c179e"
             ],
             [
              0.4444444444444444,
              "#bd3786"
             ],
             [
              0.5555555555555556,
              "#d8576b"
             ],
             [
              0.6666666666666666,
              "#ed7953"
             ],
             [
              0.7777777777777778,
              "#fb9f3a"
             ],
             [
              0.8888888888888888,
              "#fdca26"
             ],
             [
              1,
              "#f0f921"
             ]
            ],
            "type": "histogram2dcontour"
           }
          ],
          "mesh3d": [
           {
            "colorbar": {
             "outlinewidth": 0,
             "ticks": ""
            },
            "type": "mesh3d"
           }
          ],
          "parcoords": [
           {
            "line": {
             "colorbar": {
              "outlinewidth": 0,
              "ticks": ""
             }
            },
            "type": "parcoords"
           }
          ],
          "pie": [
           {
            "automargin": true,
            "type": "pie"
           }
          ],
          "scatter": [
           {
            "fillpattern": {
             "fillmode": "overlay",
             "size": 10,
             "solidity": 0.2
            },
            "type": "scatter"
           }
          ],
          "scatter3d": [
           {
            "line": {
             "colorbar": {
              "outlinewidth": 0,
              "ticks": ""
             }
            },
            "marker": {
             "colorbar": {
              "outlinewidth": 0,
              "ticks": ""
             }
            },
            "type": "scatter3d"
           }
          ],
          "scattercarpet": [
           {
            "marker": {
             "colorbar": {
              "outlinewidth": 0,
              "ticks": ""
             }
            },
            "type": "scattercarpet"
           }
          ],
          "scattergeo": [
           {
            "marker": {
             "colorbar": {
              "outlinewidth": 0,
              "ticks": ""
             }
            },
            "type": "scattergeo"
           }
          ],
          "scattergl": [
           {
            "marker": {
             "colorbar": {
              "outlinewidth": 0,
              "ticks": ""
             }
            },
            "type": "scattergl"
           }
          ],
          "scattermapbox": [
           {
            "marker": {
             "colorbar": {
              "outlinewidth": 0,
              "ticks": ""
             }
            },
            "type": "scattermapbox"
           }
          ],
          "scatterpolar": [
           {
            "marker": {
             "colorbar": {
              "outlinewidth": 0,
              "ticks": ""
             }
            },
            "type": "scatterpolar"
           }
          ],
          "scatterpolargl": [
           {
            "marker": {
             "colorbar": {
              "outlinewidth": 0,
              "ticks": ""
             }
            },
            "type": "scatterpolargl"
           }
          ],
          "scatterternary": [
           {
            "marker": {
             "colorbar": {
              "outlinewidth": 0,
              "ticks": ""
             }
            },
            "type": "scatterternary"
           }
          ],
          "surface": [
           {
            "colorbar": {
             "outlinewidth": 0,
             "ticks": ""
            },
            "colorscale": [
             [
              0,
              "#0d0887"
             ],
             [
              0.1111111111111111,
              "#46039f"
             ],
             [
              0.2222222222222222,
              "#7201a8"
             ],
             [
              0.3333333333333333,
              "#9c179e"
             ],
             [
              0.4444444444444444,
              "#bd3786"
             ],
             [
              0.5555555555555556,
              "#d8576b"
             ],
             [
              0.6666666666666666,
              "#ed7953"
             ],
             [
              0.7777777777777778,
              "#fb9f3a"
             ],
             [
              0.8888888888888888,
              "#fdca26"
             ],
             [
              1,
              "#f0f921"
             ]
            ],
            "type": "surface"
           }
          ],
          "table": [
           {
            "cells": {
             "fill": {
              "color": "#EBF0F8"
             },
             "line": {
              "color": "white"
             }
            },
            "header": {
             "fill": {
              "color": "#C8D4E3"
             },
             "line": {
              "color": "white"
             }
            },
            "type": "table"
           }
          ]
         },
         "layout": {
          "annotationdefaults": {
           "arrowcolor": "#2a3f5f",
           "arrowhead": 0,
           "arrowwidth": 1
          },
          "autotypenumbers": "strict",
          "coloraxis": {
           "colorbar": {
            "outlinewidth": 0,
            "ticks": ""
           }
          },
          "colorscale": {
           "diverging": [
            [
             0,
             "#8e0152"
            ],
            [
             0.1,
             "#c51b7d"
            ],
            [
             0.2,
             "#de77ae"
            ],
            [
             0.3,
             "#f1b6da"
            ],
            [
             0.4,
             "#fde0ef"
            ],
            [
             0.5,
             "#f7f7f7"
            ],
            [
             0.6,
             "#e6f5d0"
            ],
            [
             0.7,
             "#b8e186"
            ],
            [
             0.8,
             "#7fbc41"
            ],
            [
             0.9,
             "#4d9221"
            ],
            [
             1,
             "#276419"
            ]
           ],
           "sequential": [
            [
             0,
             "#0d0887"
            ],
            [
             0.1111111111111111,
             "#46039f"
            ],
            [
             0.2222222222222222,
             "#7201a8"
            ],
            [
             0.3333333333333333,
             "#9c179e"
            ],
            [
             0.4444444444444444,
             "#bd3786"
            ],
            [
             0.5555555555555556,
             "#d8576b"
            ],
            [
             0.6666666666666666,
             "#ed7953"
            ],
            [
             0.7777777777777778,
             "#fb9f3a"
            ],
            [
             0.8888888888888888,
             "#fdca26"
            ],
            [
             1,
             "#f0f921"
            ]
           ],
           "sequentialminus": [
            [
             0,
             "#0d0887"
            ],
            [
             0.1111111111111111,
             "#46039f"
            ],
            [
             0.2222222222222222,
             "#7201a8"
            ],
            [
             0.3333333333333333,
             "#9c179e"
            ],
            [
             0.4444444444444444,
             "#bd3786"
            ],
            [
             0.5555555555555556,
             "#d8576b"
            ],
            [
             0.6666666666666666,
             "#ed7953"
            ],
            [
             0.7777777777777778,
             "#fb9f3a"
            ],
            [
             0.8888888888888888,
             "#fdca26"
            ],
            [
             1,
             "#f0f921"
            ]
           ]
          },
          "colorway": [
           "#636efa",
           "#EF553B",
           "#00cc96",
           "#ab63fa",
           "#FFA15A",
           "#19d3f3",
           "#FF6692",
           "#B6E880",
           "#FF97FF",
           "#FECB52"
          ],
          "font": {
           "color": "#2a3f5f"
          },
          "geo": {
           "bgcolor": "white",
           "lakecolor": "white",
           "landcolor": "#E5ECF6",
           "showlakes": true,
           "showland": true,
           "subunitcolor": "white"
          },
          "hoverlabel": {
           "align": "left"
          },
          "hovermode": "closest",
          "mapbox": {
           "style": "light"
          },
          "paper_bgcolor": "white",
          "plot_bgcolor": "#E5ECF6",
          "polar": {
           "angularaxis": {
            "gridcolor": "white",
            "linecolor": "white",
            "ticks": ""
           },
           "bgcolor": "#E5ECF6",
           "radialaxis": {
            "gridcolor": "white",
            "linecolor": "white",
            "ticks": ""
           }
          },
          "scene": {
           "xaxis": {
            "backgroundcolor": "#E5ECF6",
            "gridcolor": "white",
            "gridwidth": 2,
            "linecolor": "white",
            "showbackground": true,
            "ticks": "",
            "zerolinecolor": "white"
           },
           "yaxis": {
            "backgroundcolor": "#E5ECF6",
            "gridcolor": "white",
            "gridwidth": 2,
            "linecolor": "white",
            "showbackground": true,
            "ticks": "",
            "zerolinecolor": "white"
           },
           "zaxis": {
            "backgroundcolor": "#E5ECF6",
            "gridcolor": "white",
            "gridwidth": 2,
            "linecolor": "white",
            "showbackground": true,
            "ticks": "",
            "zerolinecolor": "white"
           }
          },
          "shapedefaults": {
           "line": {
            "color": "#2a3f5f"
           }
          },
          "ternary": {
           "aaxis": {
            "gridcolor": "white",
            "linecolor": "white",
            "ticks": ""
           },
           "baxis": {
            "gridcolor": "white",
            "linecolor": "white",
            "ticks": ""
           },
           "bgcolor": "#E5ECF6",
           "caxis": {
            "gridcolor": "white",
            "linecolor": "white",
            "ticks": ""
           }
          },
          "title": {
           "x": 0.05
          },
          "xaxis": {
           "automargin": true,
           "gridcolor": "white",
           "linecolor": "white",
           "ticks": "",
           "title": {
            "standoff": 15
           },
           "zerolinecolor": "white",
           "zerolinewidth": 2
          },
          "yaxis": {
           "automargin": true,
           "gridcolor": "white",
           "linecolor": "white",
           "ticks": "",
           "title": {
            "standoff": 15
           },
           "zerolinecolor": "white",
           "zerolinewidth": 2
          }
         }
        },
        "title": {
         "text": "Cantidad de partidas por rating y condición de victoria"
        },
        "xaxis": {
         "anchor": "y",
         "domain": [
          0,
          1
         ],
         "title": {
          "text": "Rating"
         }
        },
        "yaxis": {
         "anchor": "x",
         "domain": [
          0,
          1
         ],
         "title": {
          "text": "Percent"
         }
        }
       }
      }
     },
     "metadata": {},
     "output_type": "display_data"
    }
   ],
   "source": [
    "\n",
    "\n",
    "\n",
    "# Crear el gráfico interactivo\n",
    "fig = px.line(data_grouped_percent, x=\"rating_interval\", y=\"Percent\", color=\"victory_status\", title=\"Cantidad de partidas por rating y condición de victoria\",\n",
    "              labels={\"rating_interval\": \"Rating\", \"count\": \"Cantidad de Partidas\", \"victory_status\": \"Victory Status\"})\n",
    "\n",
    "# Mostrar el gráfico\n",
    "fig.show()"
   ]
  },
  {
   "cell_type": "markdown",
   "id": "cb283004",
   "metadata": {},
   "source": [
    "Ahora sí! Mientras aumenta el nivel la posibilidad dar mate a tu oponente disminuye casi a cero, pues los jugadores fuertes ven muchas jugadas adelante, por lo que abandonan cuando preveen la derrota."
   ]
  },
  {
   "cell_type": "code",
   "execution_count": 18,
   "id": "b62f7c31aa6adc91",
   "metadata": {
    "ExecuteTime": {
     "end_time": "2024-02-22T14:25:56.189894200Z",
     "start_time": "2024-02-22T14:25:27.190136900Z"
    }
   },
   "outputs": [
    {
     "name": "stderr",
     "output_type": "stream",
     "text": [
      "C:\\Users\\bryan\\AppData\\Local\\Temp\\ipykernel_18552\\1328504206.py:2: FutureWarning:\n",
      "\n",
      "The default of observed=False is deprecated and will be changed to True in a future version of pandas. Pass observed=False to retain current behavior or observed=True to adopt the future default and silence this warning.\n",
      "\n"
     ]
    }
   ],
   "source": [
    "# Agrupar los datos para el treemap\n",
    "treemap_data = df.groupby(['rating_interval', 'opening_shortname', 'opening_variation']).size().reset_index(name='count')"
   ]
  },
  {
   "cell_type": "code",
   "execution_count": 19,
   "id": "2c7f6337eca5543",
   "metadata": {
    "ExecuteTime": {
     "start_time": "2024-02-22T14:25:58.420900300Z"
    }
   },
   "outputs": [
    {
     "data": {
      "text/plain": [
       "opening_shortname     rating_interval\n",
       "Sicilian Defense      1501-1750          948\n",
       "                      1751-2000          703\n",
       "                      1251-1500          564\n",
       "French Defense        1501-1750          499\n",
       "King's Pawn Game      1251-1500          468\n",
       "                                        ... \n",
       "Scotch Gambit         1251-1500            1\n",
       "Scandinavian Defense  2251-2500            1\n",
       "Italian Game          751-1000             1\n",
       "Kadas Opening         2001-2250            1\n",
       "Lion Defense          1751-2000            1\n",
       "Name: count, Length: 595, dtype: int64"
      ]
     },
     "execution_count": 19,
     "metadata": {},
     "output_type": "execute_result"
    }
   ],
   "source": [
    "para_treemap = df[['opening_shortname', 'rating_interval']].value_counts()\n",
    "\n",
    "para_treemap"
   ]
  },
  {
   "cell_type": "code",
   "execution_count": 20,
   "id": "aaeedb8c",
   "metadata": {},
   "outputs": [
    {
     "data": {
      "text/html": [
       "<div>\n",
       "<style scoped>\n",
       "    .dataframe tbody tr th:only-of-type {\n",
       "        vertical-align: middle;\n",
       "    }\n",
       "\n",
       "    .dataframe tbody tr th {\n",
       "        vertical-align: top;\n",
       "    }\n",
       "\n",
       "    .dataframe thead th {\n",
       "        text-align: right;\n",
       "    }\n",
       "</style>\n",
       "<table border=\"1\" class=\"dataframe\">\n",
       "  <thead>\n",
       "    <tr style=\"text-align: right;\">\n",
       "      <th></th>\n",
       "      <th>opening_shortname</th>\n",
       "      <th>rating_interval</th>\n",
       "      <th>count</th>\n",
       "    </tr>\n",
       "  </thead>\n",
       "  <tbody>\n",
       "    <tr>\n",
       "      <th>0</th>\n",
       "      <td>Sicilian Defense</td>\n",
       "      <td>1501-1750</td>\n",
       "      <td>948</td>\n",
       "    </tr>\n",
       "    <tr>\n",
       "      <th>1</th>\n",
       "      <td>Sicilian Defense</td>\n",
       "      <td>1751-2000</td>\n",
       "      <td>703</td>\n",
       "    </tr>\n",
       "    <tr>\n",
       "      <th>2</th>\n",
       "      <td>Sicilian Defense</td>\n",
       "      <td>1251-1500</td>\n",
       "      <td>564</td>\n",
       "    </tr>\n",
       "    <tr>\n",
       "      <th>3</th>\n",
       "      <td>French Defense</td>\n",
       "      <td>1501-1750</td>\n",
       "      <td>499</td>\n",
       "    </tr>\n",
       "    <tr>\n",
       "      <th>4</th>\n",
       "      <td>King's Pawn Game</td>\n",
       "      <td>1251-1500</td>\n",
       "      <td>468</td>\n",
       "    </tr>\n",
       "    <tr>\n",
       "      <th>...</th>\n",
       "      <td>...</td>\n",
       "      <td>...</td>\n",
       "      <td>...</td>\n",
       "    </tr>\n",
       "    <tr>\n",
       "      <th>590</th>\n",
       "      <td>Scotch Gambit</td>\n",
       "      <td>1251-1500</td>\n",
       "      <td>1</td>\n",
       "    </tr>\n",
       "    <tr>\n",
       "      <th>591</th>\n",
       "      <td>Scandinavian Defense</td>\n",
       "      <td>2251-2500</td>\n",
       "      <td>1</td>\n",
       "    </tr>\n",
       "    <tr>\n",
       "      <th>592</th>\n",
       "      <td>Italian Game</td>\n",
       "      <td>751-1000</td>\n",
       "      <td>1</td>\n",
       "    </tr>\n",
       "    <tr>\n",
       "      <th>593</th>\n",
       "      <td>Kadas Opening</td>\n",
       "      <td>2001-2250</td>\n",
       "      <td>1</td>\n",
       "    </tr>\n",
       "    <tr>\n",
       "      <th>594</th>\n",
       "      <td>Lion Defense</td>\n",
       "      <td>1751-2000</td>\n",
       "      <td>1</td>\n",
       "    </tr>\n",
       "  </tbody>\n",
       "</table>\n",
       "<p>595 rows × 3 columns</p>\n",
       "</div>"
      ],
      "text/plain": [
       "        opening_shortname rating_interval  count\n",
       "0        Sicilian Defense       1501-1750    948\n",
       "1        Sicilian Defense       1751-2000    703\n",
       "2        Sicilian Defense       1251-1500    564\n",
       "3          French Defense       1501-1750    499\n",
       "4        King's Pawn Game       1251-1500    468\n",
       "..                    ...             ...    ...\n",
       "590         Scotch Gambit       1251-1500      1\n",
       "591  Scandinavian Defense       2251-2500      1\n",
       "592          Italian Game        751-1000      1\n",
       "593         Kadas Opening       2001-2250      1\n",
       "594          Lion Defense       1751-2000      1\n",
       "\n",
       "[595 rows x 3 columns]"
      ]
     },
     "execution_count": 20,
     "metadata": {},
     "output_type": "execute_result"
    }
   ],
   "source": [
    "para_treemap = para_treemap.reset_index(name = 'count')\n",
    "para_treemap"
   ]
  },
  {
   "cell_type": "code",
   "execution_count": 21,
   "id": "bc7f021f",
   "metadata": {},
   "outputs": [
    {
     "name": "stderr",
     "output_type": "stream",
     "text": [
      "C:\\Users\\bryan\\AppData\\Local\\Temp\\ipykernel_18552\\2689855120.py:2: FutureWarning:\n",
      "\n",
      "The default of observed=False is deprecated and will be changed to True in a future version of pandas. Pass observed=False to retain current behavior or observed=True to adopt the future default and silence this warning.\n",
      "\n"
     ]
    }
   ],
   "source": [
    "# Calcular la suma de los valores que tengan menos de 50 en cada intervalo de rating\n",
    "suma_menor_50_por_intervalo = para_treemap.groupby('rating_interval').apply(lambda x: x[x['count'] < 10]['count'].sum())\n",
    "\n",
    "# Crear una nueva fila para 'Otros' en cada intervalo de rating\n",
    "filas_otros = pd.DataFrame({'rating_interval': suma_menor_50_por_intervalo.index, 'count': suma_menor_50_por_intervalo.values, 'opening_shortname': 'Otros'})\n",
    "\n",
    "# Agregar las filas de 'Otros' al DataFrame original\n",
    "treemap1 = pd.concat([para_treemap, filas_otros], ignore_index=True) \n",
    "\n",
    "# Eliminar las filas originales que tengan menos de 50   \n",
    "treemap1 = para_treemap[para_treemap['count'] >= 10] "
   ]
  },
  {
   "cell_type": "code",
   "execution_count": 30,
   "id": "f485cb79",
   "metadata": {
    "scrolled": false
   },
   "outputs": [
    {
     "name": "stderr",
     "output_type": "stream",
     "text": [
      "c:\\Users\\bryan\\AppData\\Local\\Programs\\Python\\Python312\\Lib\\site-packages\\plotly\\express\\_core.py:1706: FutureWarning:\n",
      "\n",
      "The default of observed=False is deprecated and will be changed to True in a future version of pandas. Pass observed=False to retain current behavior or observed=True to adopt the future default and silence this warning.\n",
      "\n"
     ]
    },
    {
     "data": {
      "application/vnd.plotly.v1+json": {
       "config": {
        "plotlyServerURL": "https://plot.ly"
       },
       "data": [
        {
         "branchvalues": "total",
         "customdata": [
          [
           null
          ],
          [
           null
          ],
          [
           null
          ],
          [
           null
          ],
          [
           null
          ],
          [
           null
          ],
          [
           null
          ],
          [
           null
          ],
          [
           null
          ],
          [
           null
          ],
          [
           null
          ],
          [
           null
          ],
          [
           null
          ],
          [
           null
          ],
          [
           null
          ],
          [
           null
          ],
          [
           null
          ],
          [
           null
          ],
          [
           null
          ],
          [
           null
          ],
          [
           null
          ],
          [
           null
          ],
          [
           null
          ],
          [
           null
          ],
          [
           null
          ],
          [
           null
          ],
          [
           null
          ],
          [
           null
          ],
          [
           null
          ],
          [
           null
          ],
          [
           null
          ],
          [
           null
          ],
          [
           18
          ],
          [
           null
          ],
          [
           null
          ],
          [
           null
          ],
          [
           null
          ],
          [
           null
          ],
          [
           null
          ],
          [
           null
          ],
          [
           null
          ],
          [
           null
          ],
          [
           null
          ],
          [
           null
          ],
          [
           null
          ],
          [
           null
          ],
          [
           null
          ],
          [
           null
          ],
          [
           null
          ],
          [
           null
          ],
          [
           null
          ],
          [
           null
          ],
          [
           null
          ],
          [
           null
          ],
          [
           null
          ],
          [
           null
          ],
          [
           null
          ],
          [
           null
          ],
          [
           null
          ],
          [
           null
          ],
          [
           null
          ],
          [
           null
          ],
          [
           null
          ],
          [
           null
          ],
          [
           null
          ],
          [
           null
          ],
          [
           null
          ],
          [
           null
          ],
          [
           null
          ],
          [
           null
          ],
          [
           null
          ],
          [
           null
          ],
          [
           null
          ],
          [
           33
          ],
          [
           null
          ],
          [
           null
          ],
          [
           null
          ],
          [
           10
          ],
          [
           32
          ],
          [
           null
          ],
          [
           null
          ],
          [
           23
          ],
          [
           20
          ],
          [
           null
          ],
          [
           null
          ],
          [
           null
          ],
          [
           null
          ],
          [
           null
          ],
          [
           43
          ],
          [
           13
          ],
          [
           52
          ],
          [
           130
          ],
          [
           null
          ],
          [
           null
          ],
          [
           null
          ],
          [
           null
          ],
          [
           27
          ],
          [
           29
          ],
          [
           10
          ],
          [
           48
          ],
          [
           null
          ],
          [
           12
          ],
          [
           null
          ],
          [
           null
          ],
          [
           31
          ],
          [
           156
          ],
          [
           null
          ],
          [
           14
          ],
          [
           null
          ],
          [
           17
          ],
          [
           null
          ],
          [
           11
          ],
          [
           28
          ],
          [
           null
          ],
          [
           null
          ],
          [
           null
          ],
          [
           null
          ],
          [
           17
          ],
          [
           68
          ],
          [
           21
          ],
          [
           null
          ],
          [
           null
          ],
          [
           null
          ],
          [
           37
          ],
          [
           null
          ],
          [
           13
          ],
          [
           105
          ],
          [
           null
          ],
          [
           null
          ],
          [
           null
          ],
          [
           33
          ],
          [
           37
          ],
          [
           null
          ],
          [
           99
          ],
          [
           21
          ],
          [
           null
          ],
          [
           110
          ],
          [
           10
          ],
          [
           null
          ],
          [
           null
          ],
          [
           null
          ],
          [
           null
          ],
          [
           13
          ],
          [
           87
          ],
          [
           18
          ],
          [
           39
          ],
          [
           66
          ],
          [
           null
          ],
          [
           null
          ],
          [
           11
          ],
          [
           51
          ],
          [
           123
          ],
          [
           22
          ],
          [
           null
          ],
          [
           135
          ],
          [
           88
          ],
          [
           null
          ],
          [
           15
          ],
          [
           18
          ],
          [
           41
          ],
          [
           19
          ],
          [
           212
          ],
          [
           39
          ],
          [
           152
          ],
          [
           328
          ],
          [
           37
          ],
          [
           11
          ],
          [
           12
          ],
          [
           null
          ],
          [
           60
          ],
          [
           60
          ],
          [
           56
          ],
          [
           338
          ],
          [
           14
          ],
          [
           58
          ],
          [
           11
          ],
          [
           18
          ],
          [
           86
          ],
          [
           468
          ],
          [
           11
          ],
          [
           43
          ],
          [
           19
          ],
          [
           63
          ],
          [
           14
          ],
          [
           40
          ],
          [
           92
          ],
          [
           11
          ],
          [
           11
          ],
          [
           12
          ],
          [
           60
          ],
          [
           26
          ],
          [
           268
          ],
          [
           67
          ],
          [
           24
          ],
          [
           21
          ],
          [
           10
          ],
          [
           223
          ],
          [
           null
          ],
          [
           34
          ],
          [
           383
          ],
          [
           26
          ],
          [
           15
          ],
          [
           15
          ],
          [
           83
          ],
          [
           249
          ],
          [
           18
          ],
          [
           243
          ],
          [
           137
          ],
          [
           11
          ],
          [
           564
          ],
          [
           47
          ],
          [
           18
          ],
          [
           null
          ],
          [
           46
          ],
          [
           null
          ],
          [
           21
          ],
          [
           186
          ],
          [
           61
          ],
          [
           100
          ],
          [
           52
          ],
          [
           15
          ],
          [
           null
          ],
          [
           18
          ],
          [
           56
          ],
          [
           132
          ],
          [
           24
          ],
          [
           10
          ],
          [
           223
          ],
          [
           54
          ],
          [
           10
          ],
          [
           42
          ],
          [
           31
          ],
          [
           16
          ],
          [
           20
          ],
          [
           250
          ],
          [
           18
          ],
          [
           110
          ],
          [
           499
          ],
          [
           47
          ],
          [
           null
          ],
          [
           13
          ],
          [
           22
          ],
          [
           74
          ],
          [
           61
          ],
          [
           120
          ],
          [
           391
          ],
          [
           null
          ],
          [
           107
          ],
          [
           25
          ],
          [
           55
          ],
          [
           54
          ],
          [
           243
          ],
          [
           null
          ],
          [
           34
          ],
          [
           10
          ],
          [
           73
          ],
          [
           37
          ],
          [
           55
          ],
          [
           65
          ],
          [
           null
          ],
          [
           14
          ],
          [
           14
          ],
          [
           76
          ],
          [
           27
          ],
          [
           261
          ],
          [
           110
          ],
          [
           28
          ],
          [
           16
          ],
          [
           null
          ],
          [
           369
          ],
          [
           null
          ],
          [
           55
          ],
          [
           414
          ],
          [
           31
          ],
          [
           20
          ],
          [
           11
          ],
          [
           87
          ],
          [
           301
          ],
          [
           15
          ],
          [
           199
          ],
          [
           212
          ],
          [
           42
          ],
          [
           948
          ],
          [
           93
          ],
          [
           19
          ],
          [
           11
          ],
          [
           52
          ],
          [
           10
          ],
          [
           15
          ],
          [
           76
          ],
          [
           34
          ],
          [
           89
          ],
          [
           33
          ],
          [
           null
          ],
          [
           10
          ],
          [
           20
          ],
          [
           28
          ],
          [
           30
          ],
          [
           null
          ],
          [
           11
          ],
          [
           154
          ],
          [
           null
          ],
          [
           null
          ],
          [
           11
          ],
          [
           58
          ],
          [
           null
          ],
          [
           18
          ],
          [
           142
          ],
          [
           10
          ],
          [
           37
          ],
          [
           343
          ],
          [
           16
          ],
          [
           null
          ],
          [
           null
          ],
          [
           24
          ],
          [
           35
          ],
          [
           18
          ],
          [
           94
          ],
          [
           150
          ],
          [
           null
          ],
          [
           49
          ],
          [
           40
          ],
          [
           87
          ],
          [
           null
          ],
          [
           28
          ],
          [
           null
          ],
          [
           12
          ],
          [
           null
          ],
          [
           42
          ],
          [
           54
          ],
          [
           46
          ],
          [
           28
          ],
          [
           null
          ],
          [
           11
          ],
          [
           null
          ],
          [
           19
          ],
          [
           13
          ],
          [
           82
          ],
          [
           66
          ],
          [
           22
          ],
          [
           19
          ],
          [
           null
          ],
          [
           206
          ],
          [
           25
          ],
          [
           23
          ],
          [
           244
          ],
          [
           25
          ],
          [
           18
          ],
          [
           11
          ],
          [
           30
          ],
          [
           192
          ],
          [
           null
          ],
          [
           119
          ],
          [
           70
          ],
          [
           39
          ],
          [
           703
          ],
          [
           77
          ],
          [
           null
          ],
          [
           null
          ],
          [
           null
          ],
          [
           11
          ],
          [
           null
          ],
          [
           18
          ],
          [
           16
          ],
          [
           89
          ],
          [
           null
          ],
          [
           null
          ],
          [
           null
          ],
          [
           null
          ],
          [
           10
          ],
          [
           null
          ],
          [
           null
          ],
          [
           null
          ],
          [
           57
          ],
          [
           null
          ],
          [
           null
          ],
          [
           null
          ],
          [
           14
          ],
          [
           null
          ],
          [
           null
          ],
          [
           66
          ],
          [
           null
          ],
          [
           15
          ],
          [
           99
          ],
          [
           null
          ],
          [
           null
          ],
          [
           null
          ],
          [
           10
          ],
          [
           11
          ],
          [
           null
          ],
          [
           32
          ],
          [
           44
          ],
          [
           null
          ],
          [
           11
          ],
          [
           null
          ],
          [
           32
          ],
          [
           null
          ],
          [
           null
          ],
          [
           null
          ],
          [
           null
          ],
          [
           null
          ],
          [
           21
          ],
          [
           41
          ],
          [
           null
          ],
          [
           null
          ],
          [
           null
          ],
          [
           null
          ],
          [
           null
          ],
          [
           null
          ],
          [
           null
          ],
          [
           11
          ],
          [
           22
          ],
          [
           null
          ],
          [
           null
          ],
          [
           null
          ],
          [
           66
          ],
          [
           13
          ],
          [
           null
          ],
          [
           69
          ],
          [
           null
          ],
          [
           10
          ],
          [
           null
          ],
          [
           17
          ],
          [
           71
          ],
          [
           null
          ],
          [
           47
          ],
          [
           23
          ],
          [
           14
          ],
          [
           269
          ],
          [
           13
          ],
          [
           null
          ],
          [
           null
          ],
          [
           null
          ],
          [
           null
          ],
          [
           null
          ],
          [
           null
          ],
          [
           null
          ],
          [
           17
          ],
          [
           null
          ],
          [
           null
          ],
          [
           null
          ],
          [
           null
          ],
          [
           null
          ],
          [
           null
          ],
          [
           null
          ],
          [
           null
          ],
          [
           null
          ],
          [
           null
          ],
          [
           null
          ],
          [
           null
          ],
          [
           null
          ],
          [
           null
          ],
          [
           null
          ],
          [
           null
          ],
          [
           null
          ],
          [
           null
          ],
          [
           null
          ],
          [
           null
          ],
          [
           null
          ],
          [
           null
          ],
          [
           null
          ],
          [
           null
          ],
          [
           null
          ],
          [
           null
          ],
          [
           null
          ],
          [
           null
          ],
          [
           null
          ],
          [
           null
          ],
          [
           null
          ],
          [
           null
          ],
          [
           null
          ],
          [
           null
          ],
          [
           null
          ],
          [
           null
          ],
          [
           null
          ],
          [
           null
          ],
          [
           null
          ],
          [
           null
          ],
          [
           null
          ],
          [
           null
          ],
          [
           null
          ],
          [
           null
          ],
          [
           null
          ],
          [
           null
          ],
          [
           null
          ],
          [
           null
          ],
          [
           null
          ],
          [
           null
          ],
          [
           null
          ],
          [
           null
          ],
          [
           null
          ],
          [
           11
          ],
          [
           null
          ],
          [
           null
          ],
          [
           null
          ],
          [
           null
          ],
          [
           null
          ],
          [
           null
          ],
          [
           null
          ],
          [
           null
          ],
          [
           null
          ],
          [
           33
          ],
          [
           null
          ],
          [
           null
          ],
          [
           null
          ],
          [
           null
          ],
          [
           null
          ],
          [
           null
          ],
          [
           null
          ],
          [
           null
          ],
          [
           null
          ],
          [
           50.20652173913044
          ],
          [
           15
          ],
          [
           10
          ],
          [
           17.244897959183675
          ],
          [
           43.36129032258064
          ],
          [
           108.7602523659306
          ],
          [
           23.043478260869566
          ],
          [
           10.523809523809524
          ],
          [
           161.22972972972974
          ],
          [
           68.27160493827161
          ],
          [
           10
          ],
          [
           31.029411764705884
          ],
          [
           40.04132231404959
          ],
          [
           33.98245614035088
          ],
          [
           19.035087719298247
          ],
          [
           187.67601683029454
          ],
          [
           26.425
          ],
          [
           107.92896174863388
          ],
          [
           358.06647605432454
          ],
          [
           38.34
          ],
          [
           11
          ],
          [
           12.52
          ],
          [
           20.714285714285715
          ],
          [
           53.869565217391305
          ],
          [
           50.51190476190476
          ],
          [
           88.12820512820512
          ],
          [
           302.64160659114316
          ],
          [
           14
          ],
          [
           73.75105485232068
          ],
          [
           30.86842105263158
          ],
          [
           62.197916666666664
          ],
          [
           65.92397660818713
          ],
          [
           332.4392113910186
          ],
          [
           11
          ],
          [
           32.47572815533981
          ],
          [
           15.89655172413793
          ],
          [
           54.592592592592595
          ],
          [
           42.205479452054796
          ],
          [
           45.14473684210526
          ],
          [
           66.93427230046949
          ],
          [
           11
          ],
          [
           12.166666666666666
          ],
          [
           13.076923076923077
          ],
          [
           62.81935483870968
          ],
          [
           22.44578313253012
          ],
          [
           219.44057971014493
          ],
          [
           76.46853146853147
          ],
          [
           24.91891891891892
          ],
          [
           18.892857142857142
          ],
          [
           10
          ],
          [
           259.7680355160932
          ],
          [
           20.894736842105264
          ],
          [
           39.032
          ],
          [
           320.9853181076672
          ],
          [
           27.585365853658537
          ],
          [
           16.650793650793652
          ],
          [
           12.621621621621621
          ],
          [
           66.944
          ],
          [
           230.44235294117647
          ],
          [
           16.636363636363637
          ],
          [
           176.55021216407354
          ],
          [
           150.28725701943844
          ],
          [
           33.9811320754717
          ],
          [
           683.8823753330796
          ],
          [
           71.06666666666666
          ],
          [
           18.513513513513512
          ],
          [
           11
          ],
          [
           49.183673469387756
          ],
          [
           10.523809523809524
          ],
          [
           17.040816326530614
          ],
          [
           131.51226158038148
          ],
          [
           42.30232558139535
          ],
          [
           82.79041916167665
          ]
         ],
         "domain": {
          "x": [
           0,
           1
          ],
          "y": [
           0,
           1
          ]
         },
         "hovertemplate": "labels=%{label}<br>count_sum=%{value}<br>parent=%{parent}<br>id=%{id}<br>count=%{color}<extra></extra>",
         "ids": [
          "Alekhine Defense/751-1000",
          "Anderssen Opening/751-1000",
          "Benko Gambit/751-1000",
          "Benoni Defense/751-1000",
          "Bird Opening/751-1000",
          "Bishop's Opening/751-1000",
          "Blackmar-Diemer Gambit/751-1000",
          "Budapest Defense/751-1000",
          "Caro-Kann Defense/751-1000",
          "Center Game/751-1000",
          "Colle System/751-1000",
          "Danish Gambit/751-1000",
          "Dutch Defense/751-1000",
          "Elephant Gambit/751-1000",
          "English Defense/751-1000",
          "English Opening/751-1000",
          "Englund Gambit/751-1000",
          "Four Knights Game/751-1000",
          "French Defense/751-1000",
          "Giuoco Piano/751-1000",
          "Goldsmith Defense/751-1000",
          "Grob Opening/751-1000",
          "Gruenfeld Defense/751-1000",
          "Horwitz Defense/751-1000",
          "Hungarian Opening/751-1000",
          "Indian Game/751-1000",
          "Italian Game/751-1000",
          "Kadas Opening/751-1000",
          "King's Gambit/751-1000",
          "King's Indian Attack/751-1000",
          "King's Indian Defense/751-1000",
          "King's Knight Opening/751-1000",
          "King's Pawn Game/751-1000",
          "Latvian Gambit/751-1000",
          "Mieses Opening/751-1000",
          "Mikenas Defense/751-1000",
          "Modern Defense/751-1000",
          "Nimzo-Indian Defense/751-1000",
          "Nimzo-Larsen Attack/751-1000",
          "Nimzowitsch Defense/751-1000",
          "Nimzowitsch-Larsen Attack/751-1000",
          "Old Benoni Defense/751-1000",
          "Old Indian Defense/751-1000",
          "Owen Defense/751-1000",
          "Petrov's Defense/751-1000",
          "Philidor Defense/751-1000",
          "Pirc Defense/751-1000",
          "Polish Opening/751-1000",
          "Ponziani Opening/751-1000",
          "Portuguese Opening/751-1000",
          "Queen's Gambit/751-1000",
          "Queen's Indian Defense/751-1000",
          "Queen's Pawn/751-1000",
          "Queen's Pawn Game/751-1000",
          "Rat Defense/751-1000",
          "Reti Opening/751-1000",
          "Robatsch (Modern) Defense/751-1000",
          "Russian Game/751-1000",
          "Ruy Lopez/751-1000",
          "Saragossa Opening/751-1000",
          "Scandinavian Defense/751-1000",
          "Scotch Game/751-1000",
          "Semi-Slav Defense/751-1000",
          "Sicilian Defense/751-1000",
          "Slav Defense/751-1000",
          "St. George Defense/751-1000",
          "Tarrasch Defense/751-1000",
          "Three Knights Opening/751-1000",
          "Torre Attack/751-1000",
          "Van Geet Opening/751-1000",
          "Van't Kruijs Opening/751-1000",
          "Vienna Game/751-1000",
          "Zukertort Opening/751-1000",
          "Alekhine Defense/1001-1250",
          "Anderssen Opening/1001-1250",
          "Benko Gambit/1001-1250",
          "Benoni Defense/1001-1250",
          "Bird Opening/1001-1250",
          "Bishop's Opening/1001-1250",
          "Blackmar-Diemer Gambit/1001-1250",
          "Budapest Defense/1001-1250",
          "Caro-Kann Defense/1001-1250",
          "Center Game/1001-1250",
          "Colle System/1001-1250",
          "Danish Gambit/1001-1250",
          "Dutch Defense/1001-1250",
          "Elephant Gambit/1001-1250",
          "English Defense/1001-1250",
          "English Opening/1001-1250",
          "Englund Gambit/1001-1250",
          "Four Knights Game/1001-1250",
          "French Defense/1001-1250",
          "Giuoco Piano/1001-1250",
          "Goldsmith Defense/1001-1250",
          "Grob Opening/1001-1250",
          "Gruenfeld Defense/1001-1250",
          "Horwitz Defense/1001-1250",
          "Hungarian Opening/1001-1250",
          "Indian Game/1001-1250",
          "Italian Game/1001-1250",
          "Kadas Opening/1001-1250",
          "King's Gambit/1001-1250",
          "King's Indian Attack/1001-1250",
          "King's Indian Defense/1001-1250",
          "King's Knight Opening/1001-1250",
          "King's Pawn Game/1001-1250",
          "Latvian Gambit/1001-1250",
          "Mieses Opening/1001-1250",
          "Mikenas Defense/1001-1250",
          "Modern Defense/1001-1250",
          "Nimzo-Indian Defense/1001-1250",
          "Nimzo-Larsen Attack/1001-1250",
          "Nimzowitsch Defense/1001-1250",
          "Nimzowitsch-Larsen Attack/1001-1250",
          "Old Benoni Defense/1001-1250",
          "Old Indian Defense/1001-1250",
          "Owen Defense/1001-1250",
          "Petrov's Defense/1001-1250",
          "Philidor Defense/1001-1250",
          "Pirc Defense/1001-1250",
          "Polish Opening/1001-1250",
          "Ponziani Opening/1001-1250",
          "Portuguese Opening/1001-1250",
          "Queen's Gambit/1001-1250",
          "Queen's Indian Defense/1001-1250",
          "Queen's Pawn/1001-1250",
          "Queen's Pawn Game/1001-1250",
          "Rat Defense/1001-1250",
          "Reti Opening/1001-1250",
          "Robatsch (Modern) Defense/1001-1250",
          "Russian Game/1001-1250",
          "Ruy Lopez/1001-1250",
          "Saragossa Opening/1001-1250",
          "Scandinavian Defense/1001-1250",
          "Scotch Game/1001-1250",
          "Semi-Slav Defense/1001-1250",
          "Sicilian Defense/1001-1250",
          "Slav Defense/1001-1250",
          "St. George Defense/1001-1250",
          "Tarrasch Defense/1001-1250",
          "Three Knights Opening/1001-1250",
          "Torre Attack/1001-1250",
          "Van Geet Opening/1001-1250",
          "Van't Kruijs Opening/1001-1250",
          "Vienna Game/1001-1250",
          "Zukertort Opening/1001-1250",
          "Alekhine Defense/1251-1500",
          "Anderssen Opening/1251-1500",
          "Benko Gambit/1251-1500",
          "Benoni Defense/1251-1500",
          "Bird Opening/1251-1500",
          "Bishop's Opening/1251-1500",
          "Blackmar-Diemer Gambit/1251-1500",
          "Budapest Defense/1251-1500",
          "Caro-Kann Defense/1251-1500",
          "Center Game/1251-1500",
          "Colle System/1251-1500",
          "Danish Gambit/1251-1500",
          "Dutch Defense/1251-1500",
          "Elephant Gambit/1251-1500",
          "English Defense/1251-1500",
          "English Opening/1251-1500",
          "Englund Gambit/1251-1500",
          "Four Knights Game/1251-1500",
          "French Defense/1251-1500",
          "Giuoco Piano/1251-1500",
          "Goldsmith Defense/1251-1500",
          "Grob Opening/1251-1500",
          "Gruenfeld Defense/1251-1500",
          "Horwitz Defense/1251-1500",
          "Hungarian Opening/1251-1500",
          "Indian Game/1251-1500",
          "Italian Game/1251-1500",
          "Kadas Opening/1251-1500",
          "King's Gambit/1251-1500",
          "King's Indian Attack/1251-1500",
          "King's Indian Defense/1251-1500",
          "King's Knight Opening/1251-1500",
          "King's Pawn Game/1251-1500",
          "Latvian Gambit/1251-1500",
          "Mieses Opening/1251-1500",
          "Mikenas Defense/1251-1500",
          "Modern Defense/1251-1500",
          "Nimzo-Indian Defense/1251-1500",
          "Nimzo-Larsen Attack/1251-1500",
          "Nimzowitsch Defense/1251-1500",
          "Nimzowitsch-Larsen Attack/1251-1500",
          "Old Benoni Defense/1251-1500",
          "Old Indian Defense/1251-1500",
          "Owen Defense/1251-1500",
          "Petrov's Defense/1251-1500",
          "Philidor Defense/1251-1500",
          "Pirc Defense/1251-1500",
          "Polish Opening/1251-1500",
          "Ponziani Opening/1251-1500",
          "Portuguese Opening/1251-1500",
          "Queen's Gambit/1251-1500",
          "Queen's Indian Defense/1251-1500",
          "Queen's Pawn/1251-1500",
          "Queen's Pawn Game/1251-1500",
          "Rat Defense/1251-1500",
          "Reti Opening/1251-1500",
          "Robatsch (Modern) Defense/1251-1500",
          "Russian Game/1251-1500",
          "Ruy Lopez/1251-1500",
          "Saragossa Opening/1251-1500",
          "Scandinavian Defense/1251-1500",
          "Scotch Game/1251-1500",
          "Semi-Slav Defense/1251-1500",
          "Sicilian Defense/1251-1500",
          "Slav Defense/1251-1500",
          "St. George Defense/1251-1500",
          "Tarrasch Defense/1251-1500",
          "Three Knights Opening/1251-1500",
          "Torre Attack/1251-1500",
          "Van Geet Opening/1251-1500",
          "Van't Kruijs Opening/1251-1500",
          "Vienna Game/1251-1500",
          "Zukertort Opening/1251-1500",
          "Alekhine Defense/1501-1750",
          "Anderssen Opening/1501-1750",
          "Benko Gambit/1501-1750",
          "Benoni Defense/1501-1750",
          "Bird Opening/1501-1750",
          "Bishop's Opening/1501-1750",
          "Blackmar-Diemer Gambit/1501-1750",
          "Budapest Defense/1501-1750",
          "Caro-Kann Defense/1501-1750",
          "Center Game/1501-1750",
          "Colle System/1501-1750",
          "Danish Gambit/1501-1750",
          "Dutch Defense/1501-1750",
          "Elephant Gambit/1501-1750",
          "English Defense/1501-1750",
          "English Opening/1501-1750",
          "Englund Gambit/1501-1750",
          "Four Knights Game/1501-1750",
          "French Defense/1501-1750",
          "Giuoco Piano/1501-1750",
          "Goldsmith Defense/1501-1750",
          "Grob Opening/1501-1750",
          "Gruenfeld Defense/1501-1750",
          "Horwitz Defense/1501-1750",
          "Hungarian Opening/1501-1750",
          "Indian Game/1501-1750",
          "Italian Game/1501-1750",
          "Kadas Opening/1501-1750",
          "King's Gambit/1501-1750",
          "King's Indian Attack/1501-1750",
          "King's Indian Defense/1501-1750",
          "King's Knight Opening/1501-1750",
          "King's Pawn Game/1501-1750",
          "Latvian Gambit/1501-1750",
          "Mieses Opening/1501-1750",
          "Mikenas Defense/1501-1750",
          "Modern Defense/1501-1750",
          "Nimzo-Indian Defense/1501-1750",
          "Nimzo-Larsen Attack/1501-1750",
          "Nimzowitsch Defense/1501-1750",
          "Nimzowitsch-Larsen Attack/1501-1750",
          "Old Benoni Defense/1501-1750",
          "Old Indian Defense/1501-1750",
          "Owen Defense/1501-1750",
          "Petrov's Defense/1501-1750",
          "Philidor Defense/1501-1750",
          "Pirc Defense/1501-1750",
          "Polish Opening/1501-1750",
          "Ponziani Opening/1501-1750",
          "Portuguese Opening/1501-1750",
          "Queen's Gambit/1501-1750",
          "Queen's Indian Defense/1501-1750",
          "Queen's Pawn/1501-1750",
          "Queen's Pawn Game/1501-1750",
          "Rat Defense/1501-1750",
          "Reti Opening/1501-1750",
          "Robatsch (Modern) Defense/1501-1750",
          "Russian Game/1501-1750",
          "Ruy Lopez/1501-1750",
          "Saragossa Opening/1501-1750",
          "Scandinavian Defense/1501-1750",
          "Scotch Game/1501-1750",
          "Semi-Slav Defense/1501-1750",
          "Sicilian Defense/1501-1750",
          "Slav Defense/1501-1750",
          "St. George Defense/1501-1750",
          "Tarrasch Defense/1501-1750",
          "Three Knights Opening/1501-1750",
          "Torre Attack/1501-1750",
          "Van Geet Opening/1501-1750",
          "Van't Kruijs Opening/1501-1750",
          "Vienna Game/1501-1750",
          "Zukertort Opening/1501-1750",
          "Alekhine Defense/1751-2000",
          "Anderssen Opening/1751-2000",
          "Benko Gambit/1751-2000",
          "Benoni Defense/1751-2000",
          "Bird Opening/1751-2000",
          "Bishop's Opening/1751-2000",
          "Blackmar-Diemer Gambit/1751-2000",
          "Budapest Defense/1751-2000",
          "Caro-Kann Defense/1751-2000",
          "Center Game/1751-2000",
          "Colle System/1751-2000",
          "Danish Gambit/1751-2000",
          "Dutch Defense/1751-2000",
          "Elephant Gambit/1751-2000",
          "English Defense/1751-2000",
          "English Opening/1751-2000",
          "Englund Gambit/1751-2000",
          "Four Knights Game/1751-2000",
          "French Defense/1751-2000",
          "Giuoco Piano/1751-2000",
          "Goldsmith Defense/1751-2000",
          "Grob Opening/1751-2000",
          "Gruenfeld Defense/1751-2000",
          "Horwitz Defense/1751-2000",
          "Hungarian Opening/1751-2000",
          "Indian Game/1751-2000",
          "Italian Game/1751-2000",
          "Kadas Opening/1751-2000",
          "King's Gambit/1751-2000",
          "King's Indian Attack/1751-2000",
          "King's Indian Defense/1751-2000",
          "King's Knight Opening/1751-2000",
          "King's Pawn Game/1751-2000",
          "Latvian Gambit/1751-2000",
          "Mieses Opening/1751-2000",
          "Mikenas Defense/1751-2000",
          "Modern Defense/1751-2000",
          "Nimzo-Indian Defense/1751-2000",
          "Nimzo-Larsen Attack/1751-2000",
          "Nimzowitsch Defense/1751-2000",
          "Nimzowitsch-Larsen Attack/1751-2000",
          "Old Benoni Defense/1751-2000",
          "Old Indian Defense/1751-2000",
          "Owen Defense/1751-2000",
          "Petrov's Defense/1751-2000",
          "Philidor Defense/1751-2000",
          "Pirc Defense/1751-2000",
          "Polish Opening/1751-2000",
          "Ponziani Opening/1751-2000",
          "Portuguese Opening/1751-2000",
          "Queen's Gambit/1751-2000",
          "Queen's Indian Defense/1751-2000",
          "Queen's Pawn/1751-2000",
          "Queen's Pawn Game/1751-2000",
          "Rat Defense/1751-2000",
          "Reti Opening/1751-2000",
          "Robatsch (Modern) Defense/1751-2000",
          "Russian Game/1751-2000",
          "Ruy Lopez/1751-2000",
          "Saragossa Opening/1751-2000",
          "Scandinavian Defense/1751-2000",
          "Scotch Game/1751-2000",
          "Semi-Slav Defense/1751-2000",
          "Sicilian Defense/1751-2000",
          "Slav Defense/1751-2000",
          "St. George Defense/1751-2000",
          "Tarrasch Defense/1751-2000",
          "Three Knights Opening/1751-2000",
          "Torre Attack/1751-2000",
          "Van Geet Opening/1751-2000",
          "Van't Kruijs Opening/1751-2000",
          "Vienna Game/1751-2000",
          "Zukertort Opening/1751-2000",
          "Alekhine Defense/2001-2250",
          "Anderssen Opening/2001-2250",
          "Benko Gambit/2001-2250",
          "Benoni Defense/2001-2250",
          "Bird Opening/2001-2250",
          "Bishop's Opening/2001-2250",
          "Blackmar-Diemer Gambit/2001-2250",
          "Budapest Defense/2001-2250",
          "Caro-Kann Defense/2001-2250",
          "Center Game/2001-2250",
          "Colle System/2001-2250",
          "Danish Gambit/2001-2250",
          "Dutch Defense/2001-2250",
          "Elephant Gambit/2001-2250",
          "English Defense/2001-2250",
          "English Opening/2001-2250",
          "Englund Gambit/2001-2250",
          "Four Knights Game/2001-2250",
          "French Defense/2001-2250",
          "Giuoco Piano/2001-2250",
          "Goldsmith Defense/2001-2250",
          "Grob Opening/2001-2250",
          "Gruenfeld Defense/2001-2250",
          "Horwitz Defense/2001-2250",
          "Hungarian Opening/2001-2250",
          "Indian Game/2001-2250",
          "Italian Game/2001-2250",
          "Kadas Opening/2001-2250",
          "King's Gambit/2001-2250",
          "King's Indian Attack/2001-2250",
          "King's Indian Defense/2001-2250",
          "King's Knight Opening/2001-2250",
          "King's Pawn Game/2001-2250",
          "Latvian Gambit/2001-2250",
          "Mieses Opening/2001-2250",
          "Mikenas Defense/2001-2250",
          "Modern Defense/2001-2250",
          "Nimzo-Indian Defense/2001-2250",
          "Nimzo-Larsen Attack/2001-2250",
          "Nimzowitsch Defense/2001-2250",
          "Nimzowitsch-Larsen Attack/2001-2250",
          "Old Benoni Defense/2001-2250",
          "Old Indian Defense/2001-2250",
          "Owen Defense/2001-2250",
          "Petrov's Defense/2001-2250",
          "Philidor Defense/2001-2250",
          "Pirc Defense/2001-2250",
          "Polish Opening/2001-2250",
          "Ponziani Opening/2001-2250",
          "Portuguese Opening/2001-2250",
          "Queen's Gambit/2001-2250",
          "Queen's Indian Defense/2001-2250",
          "Queen's Pawn/2001-2250",
          "Queen's Pawn Game/2001-2250",
          "Rat Defense/2001-2250",
          "Reti Opening/2001-2250",
          "Robatsch (Modern) Defense/2001-2250",
          "Russian Game/2001-2250",
          "Ruy Lopez/2001-2250",
          "Saragossa Opening/2001-2250",
          "Scandinavian Defense/2001-2250",
          "Scotch Game/2001-2250",
          "Semi-Slav Defense/2001-2250",
          "Sicilian Defense/2001-2250",
          "Slav Defense/2001-2250",
          "St. George Defense/2001-2250",
          "Tarrasch Defense/2001-2250",
          "Three Knights Opening/2001-2250",
          "Torre Attack/2001-2250",
          "Van Geet Opening/2001-2250",
          "Van't Kruijs Opening/2001-2250",
          "Vienna Game/2001-2250",
          "Zukertort Opening/2001-2250",
          "Alekhine Defense/2251-2500",
          "Anderssen Opening/2251-2500",
          "Benko Gambit/2251-2500",
          "Benoni Defense/2251-2500",
          "Bird Opening/2251-2500",
          "Bishop's Opening/2251-2500",
          "Blackmar-Diemer Gambit/2251-2500",
          "Budapest Defense/2251-2500",
          "Caro-Kann Defense/2251-2500",
          "Center Game/2251-2500",
          "Colle System/2251-2500",
          "Danish Gambit/2251-2500",
          "Dutch Defense/2251-2500",
          "Elephant Gambit/2251-2500",
          "English Defense/2251-2500",
          "English Opening/2251-2500",
          "Englund Gambit/2251-2500",
          "Four Knights Game/2251-2500",
          "French Defense/2251-2500",
          "Giuoco Piano/2251-2500",
          "Goldsmith Defense/2251-2500",
          "Grob Opening/2251-2500",
          "Gruenfeld Defense/2251-2500",
          "Horwitz Defense/2251-2500",
          "Hungarian Opening/2251-2500",
          "Indian Game/2251-2500",
          "Italian Game/2251-2500",
          "Kadas Opening/2251-2500",
          "King's Gambit/2251-2500",
          "King's Indian Attack/2251-2500",
          "King's Indian Defense/2251-2500",
          "King's Knight Opening/2251-2500",
          "King's Pawn Game/2251-2500",
          "Latvian Gambit/2251-2500",
          "Mieses Opening/2251-2500",
          "Mikenas Defense/2251-2500",
          "Modern Defense/2251-2500",
          "Nimzo-Indian Defense/2251-2500",
          "Nimzo-Larsen Attack/2251-2500",
          "Nimzowitsch Defense/2251-2500",
          "Nimzowitsch-Larsen Attack/2251-2500",
          "Old Benoni Defense/2251-2500",
          "Old Indian Defense/2251-2500",
          "Owen Defense/2251-2500",
          "Petrov's Defense/2251-2500",
          "Philidor Defense/2251-2500",
          "Pirc Defense/2251-2500",
          "Polish Opening/2251-2500",
          "Ponziani Opening/2251-2500",
          "Portuguese Opening/2251-2500",
          "Queen's Gambit/2251-2500",
          "Queen's Indian Defense/2251-2500",
          "Queen's Pawn/2251-2500",
          "Queen's Pawn Game/2251-2500",
          "Rat Defense/2251-2500",
          "Reti Opening/2251-2500",
          "Robatsch (Modern) Defense/2251-2500",
          "Russian Game/2251-2500",
          "Ruy Lopez/2251-2500",
          "Saragossa Opening/2251-2500",
          "Scandinavian Defense/2251-2500",
          "Scotch Game/2251-2500",
          "Semi-Slav Defense/2251-2500",
          "Sicilian Defense/2251-2500",
          "Slav Defense/2251-2500",
          "St. George Defense/2251-2500",
          "Tarrasch Defense/2251-2500",
          "Three Knights Opening/2251-2500",
          "Torre Attack/2251-2500",
          "Van Geet Opening/2251-2500",
          "Van't Kruijs Opening/2251-2500",
          "Vienna Game/2251-2500",
          "Zukertort Opening/2251-2500",
          "Alekhine Defense",
          "Anderssen Opening",
          "Benko Gambit",
          "Benoni Defense",
          "Bird Opening",
          "Bishop's Opening",
          "Blackmar-Diemer Gambit",
          "Budapest Defense",
          "Caro-Kann Defense",
          "Center Game",
          "Colle System",
          "Danish Gambit",
          "Dutch Defense",
          "Elephant Gambit",
          "English Defense",
          "English Opening",
          "Englund Gambit",
          "Four Knights Game",
          "French Defense",
          "Giuoco Piano",
          "Goldsmith Defense",
          "Grob Opening",
          "Gruenfeld Defense",
          "Horwitz Defense",
          "Hungarian Opening",
          "Indian Game",
          "Italian Game",
          "Kadas Opening",
          "King's Gambit",
          "King's Indian Attack",
          "King's Indian Defense",
          "King's Knight Opening",
          "King's Pawn Game",
          "Latvian Gambit",
          "Mieses Opening",
          "Mikenas Defense",
          "Modern Defense",
          "Nimzo-Indian Defense",
          "Nimzo-Larsen Attack",
          "Nimzowitsch Defense",
          "Nimzowitsch-Larsen Attack",
          "Old Benoni Defense",
          "Old Indian Defense",
          "Owen Defense",
          "Petrov's Defense",
          "Philidor Defense",
          "Pirc Defense",
          "Polish Opening",
          "Ponziani Opening",
          "Portuguese Opening",
          "Queen's Gambit",
          "Queen's Indian Defense",
          "Queen's Pawn",
          "Queen's Pawn Game",
          "Rat Defense",
          "Reti Opening",
          "Robatsch (Modern) Defense",
          "Russian Game",
          "Ruy Lopez",
          "Saragossa Opening",
          "Scandinavian Defense",
          "Scotch Game",
          "Semi-Slav Defense",
          "Sicilian Defense",
          "Slav Defense",
          "St. George Defense",
          "Tarrasch Defense",
          "Three Knights Opening",
          "Torre Attack",
          "Van Geet Opening",
          "Van't Kruijs Opening",
          "Vienna Game",
          "Zukertort Opening"
         ],
         "labels": [
          "751-1000",
          "751-1000",
          "751-1000",
          "751-1000",
          "751-1000",
          "751-1000",
          "751-1000",
          "751-1000",
          "751-1000",
          "751-1000",
          "751-1000",
          "751-1000",
          "751-1000",
          "751-1000",
          "751-1000",
          "751-1000",
          "751-1000",
          "751-1000",
          "751-1000",
          "751-1000",
          "751-1000",
          "751-1000",
          "751-1000",
          "751-1000",
          "751-1000",
          "751-1000",
          "751-1000",
          "751-1000",
          "751-1000",
          "751-1000",
          "751-1000",
          "751-1000",
          "751-1000",
          "751-1000",
          "751-1000",
          "751-1000",
          "751-1000",
          "751-1000",
          "751-1000",
          "751-1000",
          "751-1000",
          "751-1000",
          "751-1000",
          "751-1000",
          "751-1000",
          "751-1000",
          "751-1000",
          "751-1000",
          "751-1000",
          "751-1000",
          "751-1000",
          "751-1000",
          "751-1000",
          "751-1000",
          "751-1000",
          "751-1000",
          "751-1000",
          "751-1000",
          "751-1000",
          "751-1000",
          "751-1000",
          "751-1000",
          "751-1000",
          "751-1000",
          "751-1000",
          "751-1000",
          "751-1000",
          "751-1000",
          "751-1000",
          "751-1000",
          "751-1000",
          "751-1000",
          "751-1000",
          "1001-1250",
          "1001-1250",
          "1001-1250",
          "1001-1250",
          "1001-1250",
          "1001-1250",
          "1001-1250",
          "1001-1250",
          "1001-1250",
          "1001-1250",
          "1001-1250",
          "1001-1250",
          "1001-1250",
          "1001-1250",
          "1001-1250",
          "1001-1250",
          "1001-1250",
          "1001-1250",
          "1001-1250",
          "1001-1250",
          "1001-1250",
          "1001-1250",
          "1001-1250",
          "1001-1250",
          "1001-1250",
          "1001-1250",
          "1001-1250",
          "1001-1250",
          "1001-1250",
          "1001-1250",
          "1001-1250",
          "1001-1250",
          "1001-1250",
          "1001-1250",
          "1001-1250",
          "1001-1250",
          "1001-1250",
          "1001-1250",
          "1001-1250",
          "1001-1250",
          "1001-1250",
          "1001-1250",
          "1001-1250",
          "1001-1250",
          "1001-1250",
          "1001-1250",
          "1001-1250",
          "1001-1250",
          "1001-1250",
          "1001-1250",
          "1001-1250",
          "1001-1250",
          "1001-1250",
          "1001-1250",
          "1001-1250",
          "1001-1250",
          "1001-1250",
          "1001-1250",
          "1001-1250",
          "1001-1250",
          "1001-1250",
          "1001-1250",
          "1001-1250",
          "1001-1250",
          "1001-1250",
          "1001-1250",
          "1001-1250",
          "1001-1250",
          "1001-1250",
          "1001-1250",
          "1001-1250",
          "1001-1250",
          "1001-1250",
          "1251-1500",
          "1251-1500",
          "1251-1500",
          "1251-1500",
          "1251-1500",
          "1251-1500",
          "1251-1500",
          "1251-1500",
          "1251-1500",
          "1251-1500",
          "1251-1500",
          "1251-1500",
          "1251-1500",
          "1251-1500",
          "1251-1500",
          "1251-1500",
          "1251-1500",
          "1251-1500",
          "1251-1500",
          "1251-1500",
          "1251-1500",
          "1251-1500",
          "1251-1500",
          "1251-1500",
          "1251-1500",
          "1251-1500",
          "1251-1500",
          "1251-1500",
          "1251-1500",
          "1251-1500",
          "1251-1500",
          "1251-1500",
          "1251-1500",
          "1251-1500",
          "1251-1500",
          "1251-1500",
          "1251-1500",
          "1251-1500",
          "1251-1500",
          "1251-1500",
          "1251-1500",
          "1251-1500",
          "1251-1500",
          "1251-1500",
          "1251-1500",
          "1251-1500",
          "1251-1500",
          "1251-1500",
          "1251-1500",
          "1251-1500",
          "1251-1500",
          "1251-1500",
          "1251-1500",
          "1251-1500",
          "1251-1500",
          "1251-1500",
          "1251-1500",
          "1251-1500",
          "1251-1500",
          "1251-1500",
          "1251-1500",
          "1251-1500",
          "1251-1500",
          "1251-1500",
          "1251-1500",
          "1251-1500",
          "1251-1500",
          "1251-1500",
          "1251-1500",
          "1251-1500",
          "1251-1500",
          "1251-1500",
          "1251-1500",
          "1501-1750",
          "1501-1750",
          "1501-1750",
          "1501-1750",
          "1501-1750",
          "1501-1750",
          "1501-1750",
          "1501-1750",
          "1501-1750",
          "1501-1750",
          "1501-1750",
          "1501-1750",
          "1501-1750",
          "1501-1750",
          "1501-1750",
          "1501-1750",
          "1501-1750",
          "1501-1750",
          "1501-1750",
          "1501-1750",
          "1501-1750",
          "1501-1750",
          "1501-1750",
          "1501-1750",
          "1501-1750",
          "1501-1750",
          "1501-1750",
          "1501-1750",
          "1501-1750",
          "1501-1750",
          "1501-1750",
          "1501-1750",
          "1501-1750",
          "1501-1750",
          "1501-1750",
          "1501-1750",
          "1501-1750",
          "1501-1750",
          "1501-1750",
          "1501-1750",
          "1501-1750",
          "1501-1750",
          "1501-1750",
          "1501-1750",
          "1501-1750",
          "1501-1750",
          "1501-1750",
          "1501-1750",
          "1501-1750",
          "1501-1750",
          "1501-1750",
          "1501-1750",
          "1501-1750",
          "1501-1750",
          "1501-1750",
          "1501-1750",
          "1501-1750",
          "1501-1750",
          "1501-1750",
          "1501-1750",
          "1501-1750",
          "1501-1750",
          "1501-1750",
          "1501-1750",
          "1501-1750",
          "1501-1750",
          "1501-1750",
          "1501-1750",
          "1501-1750",
          "1501-1750",
          "1501-1750",
          "1501-1750",
          "1501-1750",
          "1751-2000",
          "1751-2000",
          "1751-2000",
          "1751-2000",
          "1751-2000",
          "1751-2000",
          "1751-2000",
          "1751-2000",
          "1751-2000",
          "1751-2000",
          "1751-2000",
          "1751-2000",
          "1751-2000",
          "1751-2000",
          "1751-2000",
          "1751-2000",
          "1751-2000",
          "1751-2000",
          "1751-2000",
          "1751-2000",
          "1751-2000",
          "1751-2000",
          "1751-2000",
          "1751-2000",
          "1751-2000",
          "1751-2000",
          "1751-2000",
          "1751-2000",
          "1751-2000",
          "1751-2000",
          "1751-2000",
          "1751-2000",
          "1751-2000",
          "1751-2000",
          "1751-2000",
          "1751-2000",
          "1751-2000",
          "1751-2000",
          "1751-2000",
          "1751-2000",
          "1751-2000",
          "1751-2000",
          "1751-2000",
          "1751-2000",
          "1751-2000",
          "1751-2000",
          "1751-2000",
          "1751-2000",
          "1751-2000",
          "1751-2000",
          "1751-2000",
          "1751-2000",
          "1751-2000",
          "1751-2000",
          "1751-2000",
          "1751-2000",
          "1751-2000",
          "1751-2000",
          "1751-2000",
          "1751-2000",
          "1751-2000",
          "1751-2000",
          "1751-2000",
          "1751-2000",
          "1751-2000",
          "1751-2000",
          "1751-2000",
          "1751-2000",
          "1751-2000",
          "1751-2000",
          "1751-2000",
          "1751-2000",
          "1751-2000",
          "2001-2250",
          "2001-2250",
          "2001-2250",
          "2001-2250",
          "2001-2250",
          "2001-2250",
          "2001-2250",
          "2001-2250",
          "2001-2250",
          "2001-2250",
          "2001-2250",
          "2001-2250",
          "2001-2250",
          "2001-2250",
          "2001-2250",
          "2001-2250",
          "2001-2250",
          "2001-2250",
          "2001-2250",
          "2001-2250",
          "2001-2250",
          "2001-2250",
          "2001-2250",
          "2001-2250",
          "2001-2250",
          "2001-2250",
          "2001-2250",
          "2001-2250",
          "2001-2250",
          "2001-2250",
          "2001-2250",
          "2001-2250",
          "2001-2250",
          "2001-2250",
          "2001-2250",
          "2001-2250",
          "2001-2250",
          "2001-2250",
          "2001-2250",
          "2001-2250",
          "2001-2250",
          "2001-2250",
          "2001-2250",
          "2001-2250",
          "2001-2250",
          "2001-2250",
          "2001-2250",
          "2001-2250",
          "2001-2250",
          "2001-2250",
          "2001-2250",
          "2001-2250",
          "2001-2250",
          "2001-2250",
          "2001-2250",
          "2001-2250",
          "2001-2250",
          "2001-2250",
          "2001-2250",
          "2001-2250",
          "2001-2250",
          "2001-2250",
          "2001-2250",
          "2001-2250",
          "2001-2250",
          "2001-2250",
          "2001-2250",
          "2001-2250",
          "2001-2250",
          "2001-2250",
          "2001-2250",
          "2001-2250",
          "2001-2250",
          "2251-2500",
          "2251-2500",
          "2251-2500",
          "2251-2500",
          "2251-2500",
          "2251-2500",
          "2251-2500",
          "2251-2500",
          "2251-2500",
          "2251-2500",
          "2251-2500",
          "2251-2500",
          "2251-2500",
          "2251-2500",
          "2251-2500",
          "2251-2500",
          "2251-2500",
          "2251-2500",
          "2251-2500",
          "2251-2500",
          "2251-2500",
          "2251-2500",
          "2251-2500",
          "2251-2500",
          "2251-2500",
          "2251-2500",
          "2251-2500",
          "2251-2500",
          "2251-2500",
          "2251-2500",
          "2251-2500",
          "2251-2500",
          "2251-2500",
          "2251-2500",
          "2251-2500",
          "2251-2500",
          "2251-2500",
          "2251-2500",
          "2251-2500",
          "2251-2500",
          "2251-2500",
          "2251-2500",
          "2251-2500",
          "2251-2500",
          "2251-2500",
          "2251-2500",
          "2251-2500",
          "2251-2500",
          "2251-2500",
          "2251-2500",
          "2251-2500",
          "2251-2500",
          "2251-2500",
          "2251-2500",
          "2251-2500",
          "2251-2500",
          "2251-2500",
          "2251-2500",
          "2251-2500",
          "2251-2500",
          "2251-2500",
          "2251-2500",
          "2251-2500",
          "2251-2500",
          "2251-2500",
          "2251-2500",
          "2251-2500",
          "2251-2500",
          "2251-2500",
          "2251-2500",
          "2251-2500",
          "2251-2500",
          "2251-2500",
          "Alekhine Defense",
          "Anderssen Opening",
          "Benko Gambit",
          "Benoni Defense",
          "Bird Opening",
          "Bishop's Opening",
          "Blackmar-Diemer Gambit",
          "Budapest Defense",
          "Caro-Kann Defense",
          "Center Game",
          "Colle System",
          "Danish Gambit",
          "Dutch Defense",
          "Elephant Gambit",
          "English Defense",
          "English Opening",
          "Englund Gambit",
          "Four Knights Game",
          "French Defense",
          "Giuoco Piano",
          "Goldsmith Defense",
          "Grob Opening",
          "Gruenfeld Defense",
          "Horwitz Defense",
          "Hungarian Opening",
          "Indian Game",
          "Italian Game",
          "Kadas Opening",
          "King's Gambit",
          "King's Indian Attack",
          "King's Indian Defense",
          "King's Knight Opening",
          "King's Pawn Game",
          "Latvian Gambit",
          "Mieses Opening",
          "Mikenas Defense",
          "Modern Defense",
          "Nimzo-Indian Defense",
          "Nimzo-Larsen Attack",
          "Nimzowitsch Defense",
          "Nimzowitsch-Larsen Attack",
          "Old Benoni Defense",
          "Old Indian Defense",
          "Owen Defense",
          "Petrov's Defense",
          "Philidor Defense",
          "Pirc Defense",
          "Polish Opening",
          "Ponziani Opening",
          "Portuguese Opening",
          "Queen's Gambit",
          "Queen's Indian Defense",
          "Queen's Pawn",
          "Queen's Pawn Game",
          "Rat Defense",
          "Reti Opening",
          "Robatsch (Modern) Defense",
          "Russian Game",
          "Ruy Lopez",
          "Saragossa Opening",
          "Scandinavian Defense",
          "Scotch Game",
          "Semi-Slav Defense",
          "Sicilian Defense",
          "Slav Defense",
          "St. George Defense",
          "Tarrasch Defense",
          "Three Knights Opening",
          "Torre Attack",
          "Van Geet Opening",
          "Van't Kruijs Opening",
          "Vienna Game",
          "Zukertort Opening"
         ],
         "marker": {
          "coloraxis": "coloraxis",
          "colors": [
           null,
           null,
           null,
           null,
           null,
           null,
           null,
           null,
           null,
           null,
           null,
           null,
           null,
           null,
           null,
           null,
           null,
           null,
           null,
           null,
           null,
           null,
           null,
           null,
           null,
           null,
           null,
           null,
           null,
           null,
           null,
           null,
           18,
           null,
           null,
           null,
           null,
           null,
           null,
           null,
           null,
           null,
           null,
           null,
           null,
           null,
           null,
           null,
           null,
           null,
           null,
           null,
           null,
           null,
           null,
           null,
           null,
           null,
           null,
           null,
           null,
           null,
           null,
           null,
           null,
           null,
           null,
           null,
           null,
           null,
           null,
           null,
           null,
           33,
           null,
           null,
           null,
           10,
           32,
           null,
           null,
           23,
           20,
           null,
           null,
           null,
           null,
           null,
           43,
           13,
           52,
           130,
           null,
           null,
           null,
           null,
           27,
           29,
           10,
           48,
           null,
           12,
           null,
           null,
           31,
           156,
           null,
           14,
           null,
           17,
           null,
           11,
           28,
           null,
           null,
           null,
           null,
           17,
           68,
           21,
           null,
           null,
           null,
           37,
           null,
           13,
           105,
           null,
           null,
           null,
           33,
           37,
           null,
           99,
           21,
           null,
           110,
           10,
           null,
           null,
           null,
           null,
           13,
           87,
           18,
           39,
           66,
           null,
           null,
           11,
           51,
           123,
           22,
           null,
           135,
           88,
           null,
           15,
           18,
           41,
           19,
           212,
           39,
           152,
           328,
           37,
           11,
           12,
           null,
           60,
           60,
           56,
           338,
           14,
           58,
           11,
           18,
           86,
           468,
           11,
           43,
           19,
           63,
           14,
           40,
           92,
           11,
           11,
           12,
           60,
           26,
           268,
           67,
           24,
           21,
           10,
           223,
           null,
           34,
           383,
           26,
           15,
           15,
           83,
           249,
           18,
           243,
           137,
           11,
           564,
           47,
           18,
           null,
           46,
           null,
           21,
           186,
           61,
           100,
           52,
           15,
           null,
           18,
           56,
           132,
           24,
           10,
           223,
           54,
           10,
           42,
           31,
           16,
           20,
           250,
           18,
           110,
           499,
           47,
           null,
           13,
           22,
           74,
           61,
           120,
           391,
           null,
           107,
           25,
           55,
           54,
           243,
           null,
           34,
           10,
           73,
           37,
           55,
           65,
           null,
           14,
           14,
           76,
           27,
           261,
           110,
           28,
           16,
           null,
           369,
           null,
           55,
           414,
           31,
           20,
           11,
           87,
           301,
           15,
           199,
           212,
           42,
           948,
           93,
           19,
           11,
           52,
           10,
           15,
           76,
           34,
           89,
           33,
           null,
           10,
           20,
           28,
           30,
           null,
           11,
           154,
           null,
           null,
           11,
           58,
           null,
           18,
           142,
           10,
           37,
           343,
           16,
           null,
           null,
           24,
           35,
           18,
           94,
           150,
           null,
           49,
           40,
           87,
           null,
           28,
           null,
           12,
           null,
           42,
           54,
           46,
           28,
           null,
           11,
           null,
           19,
           13,
           82,
           66,
           22,
           19,
           null,
           206,
           25,
           23,
           244,
           25,
           18,
           11,
           30,
           192,
           null,
           119,
           70,
           39,
           703,
           77,
           null,
           null,
           null,
           11,
           null,
           18,
           16,
           89,
           null,
           null,
           null,
           null,
           10,
           null,
           null,
           null,
           57,
           null,
           null,
           null,
           14,
           null,
           null,
           66,
           null,
           15,
           99,
           null,
           null,
           null,
           10,
           11,
           null,
           32,
           44,
           null,
           11,
           null,
           32,
           null,
           null,
           null,
           null,
           null,
           21,
           41,
           null,
           null,
           null,
           null,
           null,
           null,
           null,
           11,
           22,
           null,
           null,
           null,
           66,
           13,
           null,
           69,
           null,
           10,
           null,
           17,
           71,
           null,
           47,
           23,
           14,
           269,
           13,
           null,
           null,
           null,
           null,
           null,
           null,
           null,
           17,
           null,
           null,
           null,
           null,
           null,
           null,
           null,
           null,
           null,
           null,
           null,
           null,
           null,
           null,
           null,
           null,
           null,
           null,
           null,
           null,
           null,
           null,
           null,
           null,
           null,
           null,
           null,
           null,
           null,
           null,
           null,
           null,
           null,
           null,
           null,
           null,
           null,
           null,
           null,
           null,
           null,
           null,
           null,
           null,
           null,
           null,
           null,
           null,
           null,
           null,
           null,
           null,
           null,
           11,
           null,
           null,
           null,
           null,
           null,
           null,
           null,
           null,
           null,
           33,
           null,
           null,
           null,
           null,
           null,
           null,
           null,
           null,
           null,
           50.20652173913044,
           15,
           10,
           17.244897959183675,
           43.36129032258064,
           108.7602523659306,
           23.043478260869566,
           10.523809523809524,
           161.22972972972974,
           68.27160493827161,
           10,
           31.029411764705884,
           40.04132231404959,
           33.98245614035088,
           19.035087719298247,
           187.67601683029454,
           26.425,
           107.92896174863388,
           358.06647605432454,
           38.34,
           11,
           12.52,
           20.714285714285715,
           53.869565217391305,
           50.51190476190476,
           88.12820512820512,
           302.64160659114316,
           14,
           73.75105485232068,
           30.86842105263158,
           62.197916666666664,
           65.92397660818713,
           332.4392113910186,
           11,
           32.47572815533981,
           15.89655172413793,
           54.592592592592595,
           42.205479452054796,
           45.14473684210526,
           66.93427230046949,
           11,
           12.166666666666666,
           13.076923076923077,
           62.81935483870968,
           22.44578313253012,
           219.44057971014493,
           76.46853146853147,
           24.91891891891892,
           18.892857142857142,
           10,
           259.7680355160932,
           20.894736842105264,
           39.032,
           320.9853181076672,
           27.585365853658537,
           16.650793650793652,
           12.621621621621621,
           66.944,
           230.44235294117647,
           16.636363636363637,
           176.55021216407354,
           150.28725701943844,
           33.9811320754717,
           683.8823753330796,
           71.06666666666666,
           18.513513513513512,
           11,
           49.183673469387756,
           10.523809523809524,
           17.040816326530614,
           131.51226158038148,
           42.30232558139535,
           82.79041916167665
          ]
         },
         "name": "",
         "parents": [
          "Alekhine Defense",
          "Anderssen Opening",
          "Benko Gambit",
          "Benoni Defense",
          "Bird Opening",
          "Bishop's Opening",
          "Blackmar-Diemer Gambit",
          "Budapest Defense",
          "Caro-Kann Defense",
          "Center Game",
          "Colle System",
          "Danish Gambit",
          "Dutch Defense",
          "Elephant Gambit",
          "English Defense",
          "English Opening",
          "Englund Gambit",
          "Four Knights Game",
          "French Defense",
          "Giuoco Piano",
          "Goldsmith Defense",
          "Grob Opening",
          "Gruenfeld Defense",
          "Horwitz Defense",
          "Hungarian Opening",
          "Indian Game",
          "Italian Game",
          "Kadas Opening",
          "King's Gambit",
          "King's Indian Attack",
          "King's Indian Defense",
          "King's Knight Opening",
          "King's Pawn Game",
          "Latvian Gambit",
          "Mieses Opening",
          "Mikenas Defense",
          "Modern Defense",
          "Nimzo-Indian Defense",
          "Nimzo-Larsen Attack",
          "Nimzowitsch Defense",
          "Nimzowitsch-Larsen Attack",
          "Old Benoni Defense",
          "Old Indian Defense",
          "Owen Defense",
          "Petrov's Defense",
          "Philidor Defense",
          "Pirc Defense",
          "Polish Opening",
          "Ponziani Opening",
          "Portuguese Opening",
          "Queen's Gambit",
          "Queen's Indian Defense",
          "Queen's Pawn",
          "Queen's Pawn Game",
          "Rat Defense",
          "Reti Opening",
          "Robatsch (Modern) Defense",
          "Russian Game",
          "Ruy Lopez",
          "Saragossa Opening",
          "Scandinavian Defense",
          "Scotch Game",
          "Semi-Slav Defense",
          "Sicilian Defense",
          "Slav Defense",
          "St. George Defense",
          "Tarrasch Defense",
          "Three Knights Opening",
          "Torre Attack",
          "Van Geet Opening",
          "Van't Kruijs Opening",
          "Vienna Game",
          "Zukertort Opening",
          "Alekhine Defense",
          "Anderssen Opening",
          "Benko Gambit",
          "Benoni Defense",
          "Bird Opening",
          "Bishop's Opening",
          "Blackmar-Diemer Gambit",
          "Budapest Defense",
          "Caro-Kann Defense",
          "Center Game",
          "Colle System",
          "Danish Gambit",
          "Dutch Defense",
          "Elephant Gambit",
          "English Defense",
          "English Opening",
          "Englund Gambit",
          "Four Knights Game",
          "French Defense",
          "Giuoco Piano",
          "Goldsmith Defense",
          "Grob Opening",
          "Gruenfeld Defense",
          "Horwitz Defense",
          "Hungarian Opening",
          "Indian Game",
          "Italian Game",
          "Kadas Opening",
          "King's Gambit",
          "King's Indian Attack",
          "King's Indian Defense",
          "King's Knight Opening",
          "King's Pawn Game",
          "Latvian Gambit",
          "Mieses Opening",
          "Mikenas Defense",
          "Modern Defense",
          "Nimzo-Indian Defense",
          "Nimzo-Larsen Attack",
          "Nimzowitsch Defense",
          "Nimzowitsch-Larsen Attack",
          "Old Benoni Defense",
          "Old Indian Defense",
          "Owen Defense",
          "Petrov's Defense",
          "Philidor Defense",
          "Pirc Defense",
          "Polish Opening",
          "Ponziani Opening",
          "Portuguese Opening",
          "Queen's Gambit",
          "Queen's Indian Defense",
          "Queen's Pawn",
          "Queen's Pawn Game",
          "Rat Defense",
          "Reti Opening",
          "Robatsch (Modern) Defense",
          "Russian Game",
          "Ruy Lopez",
          "Saragossa Opening",
          "Scandinavian Defense",
          "Scotch Game",
          "Semi-Slav Defense",
          "Sicilian Defense",
          "Slav Defense",
          "St. George Defense",
          "Tarrasch Defense",
          "Three Knights Opening",
          "Torre Attack",
          "Van Geet Opening",
          "Van't Kruijs Opening",
          "Vienna Game",
          "Zukertort Opening",
          "Alekhine Defense",
          "Anderssen Opening",
          "Benko Gambit",
          "Benoni Defense",
          "Bird Opening",
          "Bishop's Opening",
          "Blackmar-Diemer Gambit",
          "Budapest Defense",
          "Caro-Kann Defense",
          "Center Game",
          "Colle System",
          "Danish Gambit",
          "Dutch Defense",
          "Elephant Gambit",
          "English Defense",
          "English Opening",
          "Englund Gambit",
          "Four Knights Game",
          "French Defense",
          "Giuoco Piano",
          "Goldsmith Defense",
          "Grob Opening",
          "Gruenfeld Defense",
          "Horwitz Defense",
          "Hungarian Opening",
          "Indian Game",
          "Italian Game",
          "Kadas Opening",
          "King's Gambit",
          "King's Indian Attack",
          "King's Indian Defense",
          "King's Knight Opening",
          "King's Pawn Game",
          "Latvian Gambit",
          "Mieses Opening",
          "Mikenas Defense",
          "Modern Defense",
          "Nimzo-Indian Defense",
          "Nimzo-Larsen Attack",
          "Nimzowitsch Defense",
          "Nimzowitsch-Larsen Attack",
          "Old Benoni Defense",
          "Old Indian Defense",
          "Owen Defense",
          "Petrov's Defense",
          "Philidor Defense",
          "Pirc Defense",
          "Polish Opening",
          "Ponziani Opening",
          "Portuguese Opening",
          "Queen's Gambit",
          "Queen's Indian Defense",
          "Queen's Pawn",
          "Queen's Pawn Game",
          "Rat Defense",
          "Reti Opening",
          "Robatsch (Modern) Defense",
          "Russian Game",
          "Ruy Lopez",
          "Saragossa Opening",
          "Scandinavian Defense",
          "Scotch Game",
          "Semi-Slav Defense",
          "Sicilian Defense",
          "Slav Defense",
          "St. George Defense",
          "Tarrasch Defense",
          "Three Knights Opening",
          "Torre Attack",
          "Van Geet Opening",
          "Van't Kruijs Opening",
          "Vienna Game",
          "Zukertort Opening",
          "Alekhine Defense",
          "Anderssen Opening",
          "Benko Gambit",
          "Benoni Defense",
          "Bird Opening",
          "Bishop's Opening",
          "Blackmar-Diemer Gambit",
          "Budapest Defense",
          "Caro-Kann Defense",
          "Center Game",
          "Colle System",
          "Danish Gambit",
          "Dutch Defense",
          "Elephant Gambit",
          "English Defense",
          "English Opening",
          "Englund Gambit",
          "Four Knights Game",
          "French Defense",
          "Giuoco Piano",
          "Goldsmith Defense",
          "Grob Opening",
          "Gruenfeld Defense",
          "Horwitz Defense",
          "Hungarian Opening",
          "Indian Game",
          "Italian Game",
          "Kadas Opening",
          "King's Gambit",
          "King's Indian Attack",
          "King's Indian Defense",
          "King's Knight Opening",
          "King's Pawn Game",
          "Latvian Gambit",
          "Mieses Opening",
          "Mikenas Defense",
          "Modern Defense",
          "Nimzo-Indian Defense",
          "Nimzo-Larsen Attack",
          "Nimzowitsch Defense",
          "Nimzowitsch-Larsen Attack",
          "Old Benoni Defense",
          "Old Indian Defense",
          "Owen Defense",
          "Petrov's Defense",
          "Philidor Defense",
          "Pirc Defense",
          "Polish Opening",
          "Ponziani Opening",
          "Portuguese Opening",
          "Queen's Gambit",
          "Queen's Indian Defense",
          "Queen's Pawn",
          "Queen's Pawn Game",
          "Rat Defense",
          "Reti Opening",
          "Robatsch (Modern) Defense",
          "Russian Game",
          "Ruy Lopez",
          "Saragossa Opening",
          "Scandinavian Defense",
          "Scotch Game",
          "Semi-Slav Defense",
          "Sicilian Defense",
          "Slav Defense",
          "St. George Defense",
          "Tarrasch Defense",
          "Three Knights Opening",
          "Torre Attack",
          "Van Geet Opening",
          "Van't Kruijs Opening",
          "Vienna Game",
          "Zukertort Opening",
          "Alekhine Defense",
          "Anderssen Opening",
          "Benko Gambit",
          "Benoni Defense",
          "Bird Opening",
          "Bishop's Opening",
          "Blackmar-Diemer Gambit",
          "Budapest Defense",
          "Caro-Kann Defense",
          "Center Game",
          "Colle System",
          "Danish Gambit",
          "Dutch Defense",
          "Elephant Gambit",
          "English Defense",
          "English Opening",
          "Englund Gambit",
          "Four Knights Game",
          "French Defense",
          "Giuoco Piano",
          "Goldsmith Defense",
          "Grob Opening",
          "Gruenfeld Defense",
          "Horwitz Defense",
          "Hungarian Opening",
          "Indian Game",
          "Italian Game",
          "Kadas Opening",
          "King's Gambit",
          "King's Indian Attack",
          "King's Indian Defense",
          "King's Knight Opening",
          "King's Pawn Game",
          "Latvian Gambit",
          "Mieses Opening",
          "Mikenas Defense",
          "Modern Defense",
          "Nimzo-Indian Defense",
          "Nimzo-Larsen Attack",
          "Nimzowitsch Defense",
          "Nimzowitsch-Larsen Attack",
          "Old Benoni Defense",
          "Old Indian Defense",
          "Owen Defense",
          "Petrov's Defense",
          "Philidor Defense",
          "Pirc Defense",
          "Polish Opening",
          "Ponziani Opening",
          "Portuguese Opening",
          "Queen's Gambit",
          "Queen's Indian Defense",
          "Queen's Pawn",
          "Queen's Pawn Game",
          "Rat Defense",
          "Reti Opening",
          "Robatsch (Modern) Defense",
          "Russian Game",
          "Ruy Lopez",
          "Saragossa Opening",
          "Scandinavian Defense",
          "Scotch Game",
          "Semi-Slav Defense",
          "Sicilian Defense",
          "Slav Defense",
          "St. George Defense",
          "Tarrasch Defense",
          "Three Knights Opening",
          "Torre Attack",
          "Van Geet Opening",
          "Van't Kruijs Opening",
          "Vienna Game",
          "Zukertort Opening",
          "Alekhine Defense",
          "Anderssen Opening",
          "Benko Gambit",
          "Benoni Defense",
          "Bird Opening",
          "Bishop's Opening",
          "Blackmar-Diemer Gambit",
          "Budapest Defense",
          "Caro-Kann Defense",
          "Center Game",
          "Colle System",
          "Danish Gambit",
          "Dutch Defense",
          "Elephant Gambit",
          "English Defense",
          "English Opening",
          "Englund Gambit",
          "Four Knights Game",
          "French Defense",
          "Giuoco Piano",
          "Goldsmith Defense",
          "Grob Opening",
          "Gruenfeld Defense",
          "Horwitz Defense",
          "Hungarian Opening",
          "Indian Game",
          "Italian Game",
          "Kadas Opening",
          "King's Gambit",
          "King's Indian Attack",
          "King's Indian Defense",
          "King's Knight Opening",
          "King's Pawn Game",
          "Latvian Gambit",
          "Mieses Opening",
          "Mikenas Defense",
          "Modern Defense",
          "Nimzo-Indian Defense",
          "Nimzo-Larsen Attack",
          "Nimzowitsch Defense",
          "Nimzowitsch-Larsen Attack",
          "Old Benoni Defense",
          "Old Indian Defense",
          "Owen Defense",
          "Petrov's Defense",
          "Philidor Defense",
          "Pirc Defense",
          "Polish Opening",
          "Ponziani Opening",
          "Portuguese Opening",
          "Queen's Gambit",
          "Queen's Indian Defense",
          "Queen's Pawn",
          "Queen's Pawn Game",
          "Rat Defense",
          "Reti Opening",
          "Robatsch (Modern) Defense",
          "Russian Game",
          "Ruy Lopez",
          "Saragossa Opening",
          "Scandinavian Defense",
          "Scotch Game",
          "Semi-Slav Defense",
          "Sicilian Defense",
          "Slav Defense",
          "St. George Defense",
          "Tarrasch Defense",
          "Three Knights Opening",
          "Torre Attack",
          "Van Geet Opening",
          "Van't Kruijs Opening",
          "Vienna Game",
          "Zukertort Opening",
          "Alekhine Defense",
          "Anderssen Opening",
          "Benko Gambit",
          "Benoni Defense",
          "Bird Opening",
          "Bishop's Opening",
          "Blackmar-Diemer Gambit",
          "Budapest Defense",
          "Caro-Kann Defense",
          "Center Game",
          "Colle System",
          "Danish Gambit",
          "Dutch Defense",
          "Elephant Gambit",
          "English Defense",
          "English Opening",
          "Englund Gambit",
          "Four Knights Game",
          "French Defense",
          "Giuoco Piano",
          "Goldsmith Defense",
          "Grob Opening",
          "Gruenfeld Defense",
          "Horwitz Defense",
          "Hungarian Opening",
          "Indian Game",
          "Italian Game",
          "Kadas Opening",
          "King's Gambit",
          "King's Indian Attack",
          "King's Indian Defense",
          "King's Knight Opening",
          "King's Pawn Game",
          "Latvian Gambit",
          "Mieses Opening",
          "Mikenas Defense",
          "Modern Defense",
          "Nimzo-Indian Defense",
          "Nimzo-Larsen Attack",
          "Nimzowitsch Defense",
          "Nimzowitsch-Larsen Attack",
          "Old Benoni Defense",
          "Old Indian Defense",
          "Owen Defense",
          "Petrov's Defense",
          "Philidor Defense",
          "Pirc Defense",
          "Polish Opening",
          "Ponziani Opening",
          "Portuguese Opening",
          "Queen's Gambit",
          "Queen's Indian Defense",
          "Queen's Pawn",
          "Queen's Pawn Game",
          "Rat Defense",
          "Reti Opening",
          "Robatsch (Modern) Defense",
          "Russian Game",
          "Ruy Lopez",
          "Saragossa Opening",
          "Scandinavian Defense",
          "Scotch Game",
          "Semi-Slav Defense",
          "Sicilian Defense",
          "Slav Defense",
          "St. George Defense",
          "Tarrasch Defense",
          "Three Knights Opening",
          "Torre Attack",
          "Van Geet Opening",
          "Van't Kruijs Opening",
          "Vienna Game",
          "Zukertort Opening",
          "",
          "",
          "",
          "",
          "",
          "",
          "",
          "",
          "",
          "",
          "",
          "",
          "",
          "",
          "",
          "",
          "",
          "",
          "",
          "",
          "",
          "",
          "",
          "",
          "",
          "",
          "",
          "",
          "",
          "",
          "",
          "",
          "",
          "",
          "",
          "",
          "",
          "",
          "",
          "",
          "",
          "",
          "",
          "",
          "",
          "",
          "",
          "",
          "",
          "",
          "",
          "",
          "",
          "",
          "",
          "",
          "",
          "",
          "",
          "",
          "",
          "",
          "",
          "",
          "",
          "",
          "",
          "",
          "",
          "",
          "",
          "",
          ""
         ],
         "type": "treemap",
         "values": [
          0,
          0,
          0,
          0,
          0,
          0,
          0,
          0,
          0,
          0,
          0,
          0,
          0,
          0,
          0,
          0,
          0,
          0,
          0,
          0,
          0,
          0,
          0,
          0,
          0,
          0,
          0,
          0,
          0,
          0,
          0,
          0,
          18,
          0,
          0,
          0,
          0,
          0,
          0,
          0,
          0,
          0,
          0,
          0,
          0,
          0,
          0,
          0,
          0,
          0,
          0,
          0,
          0,
          0,
          0,
          0,
          0,
          0,
          0,
          0,
          0,
          0,
          0,
          0,
          0,
          0,
          0,
          0,
          0,
          0,
          0,
          0,
          0,
          33,
          0,
          0,
          0,
          10,
          32,
          0,
          0,
          23,
          20,
          0,
          0,
          0,
          0,
          0,
          43,
          13,
          52,
          130,
          0,
          0,
          0,
          0,
          27,
          29,
          10,
          48,
          0,
          12,
          0,
          0,
          31,
          156,
          0,
          14,
          0,
          17,
          0,
          11,
          28,
          0,
          0,
          0,
          0,
          17,
          68,
          21,
          0,
          0,
          0,
          37,
          0,
          13,
          105,
          0,
          0,
          0,
          33,
          37,
          0,
          99,
          21,
          0,
          110,
          10,
          0,
          0,
          0,
          0,
          13,
          87,
          18,
          39,
          66,
          0,
          0,
          11,
          51,
          123,
          22,
          0,
          135,
          88,
          0,
          15,
          18,
          41,
          19,
          212,
          39,
          152,
          328,
          37,
          11,
          12,
          0,
          60,
          60,
          56,
          338,
          14,
          58,
          11,
          18,
          86,
          468,
          11,
          43,
          19,
          63,
          14,
          40,
          92,
          11,
          11,
          12,
          60,
          26,
          268,
          67,
          24,
          21,
          10,
          223,
          0,
          34,
          383,
          26,
          15,
          15,
          83,
          249,
          18,
          243,
          137,
          11,
          564,
          47,
          18,
          0,
          46,
          0,
          21,
          186,
          61,
          100,
          52,
          15,
          0,
          18,
          56,
          132,
          24,
          10,
          223,
          54,
          10,
          42,
          31,
          16,
          20,
          250,
          18,
          110,
          499,
          47,
          0,
          13,
          22,
          74,
          61,
          120,
          391,
          0,
          107,
          25,
          55,
          54,
          243,
          0,
          34,
          10,
          73,
          37,
          55,
          65,
          0,
          14,
          14,
          76,
          27,
          261,
          110,
          28,
          16,
          0,
          369,
          0,
          55,
          414,
          31,
          20,
          11,
          87,
          301,
          15,
          199,
          212,
          42,
          948,
          93,
          19,
          11,
          52,
          10,
          15,
          76,
          34,
          89,
          33,
          0,
          10,
          20,
          28,
          30,
          0,
          11,
          154,
          0,
          0,
          11,
          58,
          0,
          18,
          142,
          10,
          37,
          343,
          16,
          0,
          0,
          24,
          35,
          18,
          94,
          150,
          0,
          49,
          40,
          87,
          0,
          28,
          0,
          12,
          0,
          42,
          54,
          46,
          28,
          0,
          11,
          0,
          19,
          13,
          82,
          66,
          22,
          19,
          0,
          206,
          25,
          23,
          244,
          25,
          18,
          11,
          30,
          192,
          0,
          119,
          70,
          39,
          703,
          77,
          0,
          0,
          0,
          11,
          0,
          18,
          16,
          89,
          0,
          0,
          0,
          0,
          10,
          0,
          0,
          0,
          57,
          0,
          0,
          0,
          14,
          0,
          0,
          66,
          0,
          15,
          99,
          0,
          0,
          0,
          10,
          11,
          0,
          32,
          44,
          0,
          11,
          0,
          32,
          0,
          0,
          0,
          0,
          0,
          21,
          41,
          0,
          0,
          0,
          0,
          0,
          0,
          0,
          11,
          22,
          0,
          0,
          0,
          66,
          13,
          0,
          69,
          0,
          10,
          0,
          17,
          71,
          0,
          47,
          23,
          14,
          269,
          13,
          0,
          0,
          0,
          0,
          0,
          0,
          0,
          17,
          0,
          0,
          0,
          0,
          0,
          0,
          0,
          0,
          0,
          0,
          0,
          0,
          0,
          0,
          0,
          0,
          0,
          0,
          0,
          0,
          0,
          0,
          0,
          0,
          0,
          0,
          0,
          0,
          0,
          0,
          0,
          0,
          0,
          0,
          0,
          0,
          0,
          0,
          0,
          0,
          0,
          0,
          0,
          0,
          0,
          0,
          0,
          0,
          0,
          0,
          0,
          0,
          0,
          11,
          0,
          0,
          0,
          0,
          0,
          0,
          0,
          0,
          0,
          33,
          0,
          0,
          0,
          0,
          0,
          0,
          0,
          0,
          0,
          184,
          15,
          10,
          49,
          155,
          317,
          46,
          21,
          592,
          162,
          10,
          68,
          121,
          57,
          57,
          713,
          80,
          366,
          1399,
          100,
          11,
          25,
          56,
          207,
          168,
          312,
          971,
          14,
          237,
          76,
          192,
          171,
          913,
          11,
          103,
          29,
          216,
          146,
          152,
          213,
          11,
          36,
          26,
          155,
          83,
          690,
          286,
          74,
          56,
          10,
          901,
          38,
          125,
          1226,
          82,
          63,
          37,
          250,
          850,
          33,
          707,
          463,
          106,
          2627,
          240,
          37,
          11,
          98,
          21,
          49,
          367,
          129,
          334
         ]
        }
       ],
       "layout": {
        "coloraxis": {
         "colorbar": {
          "title": {
           "text": "count"
          }
         },
         "colorscale": [
          [
           0,
           "rgb(0, 147, 146)"
          ],
          [
           0.16666666666666666,
           "rgb(114, 170, 161)"
          ],
          [
           0.3333333333333333,
           "rgb(177, 199, 179)"
          ],
          [
           0.5,
           "rgb(241, 234, 200)"
          ],
          [
           0.6666666666666666,
           "rgb(229, 185, 173)"
          ],
          [
           0.8333333333333334,
           "rgb(217, 137, 148)"
          ],
          [
           1,
           "rgb(208, 88, 126)"
          ]
         ]
        },
        "legend": {
         "tracegroupgap": 0
        },
        "template": {
         "data": {
          "bar": [
           {
            "error_x": {
             "color": "#2a3f5f"
            },
            "error_y": {
             "color": "#2a3f5f"
            },
            "marker": {
             "line": {
              "color": "#E5ECF6",
              "width": 0.5
             },
             "pattern": {
              "fillmode": "overlay",
              "size": 10,
              "solidity": 0.2
             }
            },
            "type": "bar"
           }
          ],
          "barpolar": [
           {
            "marker": {
             "line": {
              "color": "#E5ECF6",
              "width": 0.5
             },
             "pattern": {
              "fillmode": "overlay",
              "size": 10,
              "solidity": 0.2
             }
            },
            "type": "barpolar"
           }
          ],
          "carpet": [
           {
            "aaxis": {
             "endlinecolor": "#2a3f5f",
             "gridcolor": "white",
             "linecolor": "white",
             "minorgridcolor": "white",
             "startlinecolor": "#2a3f5f"
            },
            "baxis": {
             "endlinecolor": "#2a3f5f",
             "gridcolor": "white",
             "linecolor": "white",
             "minorgridcolor": "white",
             "startlinecolor": "#2a3f5f"
            },
            "type": "carpet"
           }
          ],
          "choropleth": [
           {
            "colorbar": {
             "outlinewidth": 0,
             "ticks": ""
            },
            "type": "choropleth"
           }
          ],
          "contour": [
           {
            "colorbar": {
             "outlinewidth": 0,
             "ticks": ""
            },
            "colorscale": [
             [
              0,
              "#0d0887"
             ],
             [
              0.1111111111111111,
              "#46039f"
             ],
             [
              0.2222222222222222,
              "#7201a8"
             ],
             [
              0.3333333333333333,
              "#9c179e"
             ],
             [
              0.4444444444444444,
              "#bd3786"
             ],
             [
              0.5555555555555556,
              "#d8576b"
             ],
             [
              0.6666666666666666,
              "#ed7953"
             ],
             [
              0.7777777777777778,
              "#fb9f3a"
             ],
             [
              0.8888888888888888,
              "#fdca26"
             ],
             [
              1,
              "#f0f921"
             ]
            ],
            "type": "contour"
           }
          ],
          "contourcarpet": [
           {
            "colorbar": {
             "outlinewidth": 0,
             "ticks": ""
            },
            "type": "contourcarpet"
           }
          ],
          "heatmap": [
           {
            "colorbar": {
             "outlinewidth": 0,
             "ticks": ""
            },
            "colorscale": [
             [
              0,
              "#0d0887"
             ],
             [
              0.1111111111111111,
              "#46039f"
             ],
             [
              0.2222222222222222,
              "#7201a8"
             ],
             [
              0.3333333333333333,
              "#9c179e"
             ],
             [
              0.4444444444444444,
              "#bd3786"
             ],
             [
              0.5555555555555556,
              "#d8576b"
             ],
             [
              0.6666666666666666,
              "#ed7953"
             ],
             [
              0.7777777777777778,
              "#fb9f3a"
             ],
             [
              0.8888888888888888,
              "#fdca26"
             ],
             [
              1,
              "#f0f921"
             ]
            ],
            "type": "heatmap"
           }
          ],
          "heatmapgl": [
           {
            "colorbar": {
             "outlinewidth": 0,
             "ticks": ""
            },
            "colorscale": [
             [
              0,
              "#0d0887"
             ],
             [
              0.1111111111111111,
              "#46039f"
             ],
             [
              0.2222222222222222,
              "#7201a8"
             ],
             [
              0.3333333333333333,
              "#9c179e"
             ],
             [
              0.4444444444444444,
              "#bd3786"
             ],
             [
              0.5555555555555556,
              "#d8576b"
             ],
             [
              0.6666666666666666,
              "#ed7953"
             ],
             [
              0.7777777777777778,
              "#fb9f3a"
             ],
             [
              0.8888888888888888,
              "#fdca26"
             ],
             [
              1,
              "#f0f921"
             ]
            ],
            "type": "heatmapgl"
           }
          ],
          "histogram": [
           {
            "marker": {
             "pattern": {
              "fillmode": "overlay",
              "size": 10,
              "solidity": 0.2
             }
            },
            "type": "histogram"
           }
          ],
          "histogram2d": [
           {
            "colorbar": {
             "outlinewidth": 0,
             "ticks": ""
            },
            "colorscale": [
             [
              0,
              "#0d0887"
             ],
             [
              0.1111111111111111,
              "#46039f"
             ],
             [
              0.2222222222222222,
              "#7201a8"
             ],
             [
              0.3333333333333333,
              "#9c179e"
             ],
             [
              0.4444444444444444,
              "#bd3786"
             ],
             [
              0.5555555555555556,
              "#d8576b"
             ],
             [
              0.6666666666666666,
              "#ed7953"
             ],
             [
              0.7777777777777778,
              "#fb9f3a"
             ],
             [
              0.8888888888888888,
              "#fdca26"
             ],
             [
              1,
              "#f0f921"
             ]
            ],
            "type": "histogram2d"
           }
          ],
          "histogram2dcontour": [
           {
            "colorbar": {
             "outlinewidth": 0,
             "ticks": ""
            },
            "colorscale": [
             [
              0,
              "#0d0887"
             ],
             [
              0.1111111111111111,
              "#46039f"
             ],
             [
              0.2222222222222222,
              "#7201a8"
             ],
             [
              0.3333333333333333,
              "#9c179e"
             ],
             [
              0.4444444444444444,
              "#bd3786"
             ],
             [
              0.5555555555555556,
              "#d8576b"
             ],
             [
              0.6666666666666666,
              "#ed7953"
             ],
             [
              0.7777777777777778,
              "#fb9f3a"
             ],
             [
              0.8888888888888888,
              "#fdca26"
             ],
             [
              1,
              "#f0f921"
             ]
            ],
            "type": "histogram2dcontour"
           }
          ],
          "mesh3d": [
           {
            "colorbar": {
             "outlinewidth": 0,
             "ticks": ""
            },
            "type": "mesh3d"
           }
          ],
          "parcoords": [
           {
            "line": {
             "colorbar": {
              "outlinewidth": 0,
              "ticks": ""
             }
            },
            "type": "parcoords"
           }
          ],
          "pie": [
           {
            "automargin": true,
            "type": "pie"
           }
          ],
          "scatter": [
           {
            "fillpattern": {
             "fillmode": "overlay",
             "size": 10,
             "solidity": 0.2
            },
            "type": "scatter"
           }
          ],
          "scatter3d": [
           {
            "line": {
             "colorbar": {
              "outlinewidth": 0,
              "ticks": ""
             }
            },
            "marker": {
             "colorbar": {
              "outlinewidth": 0,
              "ticks": ""
             }
            },
            "type": "scatter3d"
           }
          ],
          "scattercarpet": [
           {
            "marker": {
             "colorbar": {
              "outlinewidth": 0,
              "ticks": ""
             }
            },
            "type": "scattercarpet"
           }
          ],
          "scattergeo": [
           {
            "marker": {
             "colorbar": {
              "outlinewidth": 0,
              "ticks": ""
             }
            },
            "type": "scattergeo"
           }
          ],
          "scattergl": [
           {
            "marker": {
             "colorbar": {
              "outlinewidth": 0,
              "ticks": ""
             }
            },
            "type": "scattergl"
           }
          ],
          "scattermapbox": [
           {
            "marker": {
             "colorbar": {
              "outlinewidth": 0,
              "ticks": ""
             }
            },
            "type": "scattermapbox"
           }
          ],
          "scatterpolar": [
           {
            "marker": {
             "colorbar": {
              "outlinewidth": 0,
              "ticks": ""
             }
            },
            "type": "scatterpolar"
           }
          ],
          "scatterpolargl": [
           {
            "marker": {
             "colorbar": {
              "outlinewidth": 0,
              "ticks": ""
             }
            },
            "type": "scatterpolargl"
           }
          ],
          "scatterternary": [
           {
            "marker": {
             "colorbar": {
              "outlinewidth": 0,
              "ticks": ""
             }
            },
            "type": "scatterternary"
           }
          ],
          "surface": [
           {
            "colorbar": {
             "outlinewidth": 0,
             "ticks": ""
            },
            "colorscale": [
             [
              0,
              "#0d0887"
             ],
             [
              0.1111111111111111,
              "#46039f"
             ],
             [
              0.2222222222222222,
              "#7201a8"
             ],
             [
              0.3333333333333333,
              "#9c179e"
             ],
             [
              0.4444444444444444,
              "#bd3786"
             ],
             [
              0.5555555555555556,
              "#d8576b"
             ],
             [
              0.6666666666666666,
              "#ed7953"
             ],
             [
              0.7777777777777778,
              "#fb9f3a"
             ],
             [
              0.8888888888888888,
              "#fdca26"
             ],
             [
              1,
              "#f0f921"
             ]
            ],
            "type": "surface"
           }
          ],
          "table": [
           {
            "cells": {
             "fill": {
              "color": "#EBF0F8"
             },
             "line": {
              "color": "white"
             }
            },
            "header": {
             "fill": {
              "color": "#C8D4E3"
             },
             "line": {
              "color": "white"
             }
            },
            "type": "table"
           }
          ]
         },
         "layout": {
          "annotationdefaults": {
           "arrowcolor": "#2a3f5f",
           "arrowhead": 0,
           "arrowwidth": 1
          },
          "autotypenumbers": "strict",
          "coloraxis": {
           "colorbar": {
            "outlinewidth": 0,
            "ticks": ""
           }
          },
          "colorscale": {
           "diverging": [
            [
             0,
             "#8e0152"
            ],
            [
             0.1,
             "#c51b7d"
            ],
            [
             0.2,
             "#de77ae"
            ],
            [
             0.3,
             "#f1b6da"
            ],
            [
             0.4,
             "#fde0ef"
            ],
            [
             0.5,
             "#f7f7f7"
            ],
            [
             0.6,
             "#e6f5d0"
            ],
            [
             0.7,
             "#b8e186"
            ],
            [
             0.8,
             "#7fbc41"
            ],
            [
             0.9,
             "#4d9221"
            ],
            [
             1,
             "#276419"
            ]
           ],
           "sequential": [
            [
             0,
             "#0d0887"
            ],
            [
             0.1111111111111111,
             "#46039f"
            ],
            [
             0.2222222222222222,
             "#7201a8"
            ],
            [
             0.3333333333333333,
             "#9c179e"
            ],
            [
             0.4444444444444444,
             "#bd3786"
            ],
            [
             0.5555555555555556,
             "#d8576b"
            ],
            [
             0.6666666666666666,
             "#ed7953"
            ],
            [
             0.7777777777777778,
             "#fb9f3a"
            ],
            [
             0.8888888888888888,
             "#fdca26"
            ],
            [
             1,
             "#f0f921"
            ]
           ],
           "sequentialminus": [
            [
             0,
             "#0d0887"
            ],
            [
             0.1111111111111111,
             "#46039f"
            ],
            [
             0.2222222222222222,
             "#7201a8"
            ],
            [
             0.3333333333333333,
             "#9c179e"
            ],
            [
             0.4444444444444444,
             "#bd3786"
            ],
            [
             0.5555555555555556,
             "#d8576b"
            ],
            [
             0.6666666666666666,
             "#ed7953"
            ],
            [
             0.7777777777777778,
             "#fb9f3a"
            ],
            [
             0.8888888888888888,
             "#fdca26"
            ],
            [
             1,
             "#f0f921"
            ]
           ]
          },
          "colorway": [
           "#636efa",
           "#EF553B",
           "#00cc96",
           "#ab63fa",
           "#FFA15A",
           "#19d3f3",
           "#FF6692",
           "#B6E880",
           "#FF97FF",
           "#FECB52"
          ],
          "font": {
           "color": "#2a3f5f"
          },
          "geo": {
           "bgcolor": "white",
           "lakecolor": "white",
           "landcolor": "#E5ECF6",
           "showlakes": true,
           "showland": true,
           "subunitcolor": "white"
          },
          "hoverlabel": {
           "align": "left"
          },
          "hovermode": "closest",
          "mapbox": {
           "style": "light"
          },
          "paper_bgcolor": "white",
          "plot_bgcolor": "#E5ECF6",
          "polar": {
           "angularaxis": {
            "gridcolor": "white",
            "linecolor": "white",
            "ticks": ""
           },
           "bgcolor": "#E5ECF6",
           "radialaxis": {
            "gridcolor": "white",
            "linecolor": "white",
            "ticks": ""
           }
          },
          "scene": {
           "xaxis": {
            "backgroundcolor": "#E5ECF6",
            "gridcolor": "white",
            "gridwidth": 2,
            "linecolor": "white",
            "showbackground": true,
            "ticks": "",
            "zerolinecolor": "white"
           },
           "yaxis": {
            "backgroundcolor": "#E5ECF6",
            "gridcolor": "white",
            "gridwidth": 2,
            "linecolor": "white",
            "showbackground": true,
            "ticks": "",
            "zerolinecolor": "white"
           },
           "zaxis": {
            "backgroundcolor": "#E5ECF6",
            "gridcolor": "white",
            "gridwidth": 2,
            "linecolor": "white",
            "showbackground": true,
            "ticks": "",
            "zerolinecolor": "white"
           }
          },
          "shapedefaults": {
           "line": {
            "color": "#2a3f5f"
           }
          },
          "ternary": {
           "aaxis": {
            "gridcolor": "white",
            "linecolor": "white",
            "ticks": ""
           },
           "baxis": {
            "gridcolor": "white",
            "linecolor": "white",
            "ticks": ""
           },
           "bgcolor": "#E5ECF6",
           "caxis": {
            "gridcolor": "white",
            "linecolor": "white",
            "ticks": ""
           }
          },
          "title": {
           "x": 0.05
          },
          "xaxis": {
           "automargin": true,
           "gridcolor": "white",
           "linecolor": "white",
           "ticks": "",
           "title": {
            "standoff": 15
           },
           "zerolinecolor": "white",
           "zerolinewidth": 2
          },
          "yaxis": {
           "automargin": true,
           "gridcolor": "white",
           "linecolor": "white",
           "ticks": "",
           "title": {
            "standoff": 15
           },
           "zerolinecolor": "white",
           "zerolinewidth": 2
          }
         }
        },
        "title": {
         "text": "Cantidad de partidas por apertura y rating"
        }
       }
      }
     },
     "metadata": {},
     "output_type": "display_data"
    }
   ],
   "source": [
    "\n",
    "\n",
    "fig = px.treemap(treemap1, path=['opening_shortname', 'rating_interval'], values='count', color='count',\n",
    "                 color_continuous_scale='tealrose', title='Cantidad de partidas por apertura y rating')\n",
    "fig.show()"
   ]
  },
  {
   "cell_type": "markdown",
   "id": "d2d1586a",
   "metadata": {},
   "source": [
    "En casi todas las aperturas nos sale como que se juegan más entre 1501 y 1750, pero claro... es en dónde más partidas existen en general por mucha diferencia. Entonces se requiere un análisis comparativo más audaz."
   ]
  },
  {
   "cell_type": "code",
   "execution_count": 23,
   "id": "886b2161",
   "metadata": {},
   "outputs": [
    {
     "data": {
      "text/html": [
       "<div>\n",
       "<style scoped>\n",
       "    .dataframe tbody tr th:only-of-type {\n",
       "        vertical-align: middle;\n",
       "    }\n",
       "\n",
       "    .dataframe tbody tr th {\n",
       "        vertical-align: top;\n",
       "    }\n",
       "\n",
       "    .dataframe thead th {\n",
       "        text-align: right;\n",
       "    }\n",
       "</style>\n",
       "<table border=\"1\" class=\"dataframe\">\n",
       "  <thead>\n",
       "    <tr style=\"text-align: right;\">\n",
       "      <th></th>\n",
       "      <th>rating_interval</th>\n",
       "      <th>count_x</th>\n",
       "      <th>opening_shortname</th>\n",
       "      <th>count_y</th>\n",
       "      <th>Percent</th>\n",
       "    </tr>\n",
       "  </thead>\n",
       "  <tbody>\n",
       "    <tr>\n",
       "      <th>594</th>\n",
       "      <td>751-1000</td>\n",
       "      <td>93</td>\n",
       "      <td>Italian Game</td>\n",
       "      <td>1</td>\n",
       "      <td>1.075269</td>\n",
       "    </tr>\n",
       "    <tr>\n",
       "      <th>563</th>\n",
       "      <td>751-1000</td>\n",
       "      <td>93</td>\n",
       "      <td>King's Pawn Game</td>\n",
       "      <td>18</td>\n",
       "      <td>19.354839</td>\n",
       "    </tr>\n",
       "    <tr>\n",
       "      <th>564</th>\n",
       "      <td>751-1000</td>\n",
       "      <td>93</td>\n",
       "      <td>Scandinavian Defense</td>\n",
       "      <td>8</td>\n",
       "      <td>8.602151</td>\n",
       "    </tr>\n",
       "    <tr>\n",
       "      <th>565</th>\n",
       "      <td>751-1000</td>\n",
       "      <td>93</td>\n",
       "      <td>Queen's Pawn Game</td>\n",
       "      <td>7</td>\n",
       "      <td>7.526882</td>\n",
       "    </tr>\n",
       "    <tr>\n",
       "      <th>566</th>\n",
       "      <td>751-1000</td>\n",
       "      <td>93</td>\n",
       "      <td>French Defense</td>\n",
       "      <td>5</td>\n",
       "      <td>5.376344</td>\n",
       "    </tr>\n",
       "    <tr>\n",
       "      <th>...</th>\n",
       "      <td>...</td>\n",
       "      <td>...</td>\n",
       "      <td>...</td>\n",
       "      <td>...</td>\n",
       "      <td>...</td>\n",
       "    </tr>\n",
       "    <tr>\n",
       "      <th>545</th>\n",
       "      <td>2251-2500</td>\n",
       "      <td>160</td>\n",
       "      <td>Blumenfeld Countergambit</td>\n",
       "      <td>1</td>\n",
       "      <td>0.625000</td>\n",
       "    </tr>\n",
       "    <tr>\n",
       "      <th>544</th>\n",
       "      <td>2251-2500</td>\n",
       "      <td>160</td>\n",
       "      <td>System</td>\n",
       "      <td>1</td>\n",
       "      <td>0.625000</td>\n",
       "    </tr>\n",
       "    <tr>\n",
       "      <th>543</th>\n",
       "      <td>2251-2500</td>\n",
       "      <td>160</td>\n",
       "      <td>Tarrasch Defense</td>\n",
       "      <td>1</td>\n",
       "      <td>0.625000</td>\n",
       "    </tr>\n",
       "    <tr>\n",
       "      <th>549</th>\n",
       "      <td>2251-2500</td>\n",
       "      <td>160</td>\n",
       "      <td>Queen's Indian Defense</td>\n",
       "      <td>1</td>\n",
       "      <td>0.625000</td>\n",
       "    </tr>\n",
       "    <tr>\n",
       "      <th>542</th>\n",
       "      <td>2251-2500</td>\n",
       "      <td>160</td>\n",
       "      <td>Bird Opening</td>\n",
       "      <td>2</td>\n",
       "      <td>1.250000</td>\n",
       "    </tr>\n",
       "  </tbody>\n",
       "</table>\n",
       "<p>595 rows × 5 columns</p>\n",
       "</div>"
      ],
      "text/plain": [
       "    rating_interval  count_x         opening_shortname  count_y    Percent\n",
       "594        751-1000       93              Italian Game        1   1.075269\n",
       "563        751-1000       93          King's Pawn Game       18  19.354839\n",
       "564        751-1000       93      Scandinavian Defense        8   8.602151\n",
       "565        751-1000       93         Queen's Pawn Game        7   7.526882\n",
       "566        751-1000       93            French Defense        5   5.376344\n",
       "..              ...      ...                       ...      ...        ...\n",
       "545       2251-2500      160  Blumenfeld Countergambit        1   0.625000\n",
       "544       2251-2500      160                    System        1   0.625000\n",
       "543       2251-2500      160          Tarrasch Defense        1   0.625000\n",
       "549       2251-2500      160    Queen's Indian Defense        1   0.625000\n",
       "542       2251-2500      160              Bird Opening        2   1.250000\n",
       "\n",
       "[595 rows x 5 columns]"
      ]
     },
     "execution_count": 23,
     "metadata": {},
     "output_type": "execute_result"
    }
   ],
   "source": [
    "treemap2 = para_treemap\n",
    "\n",
    "# Calcular porcentaje\n",
    "merged_df = pd.merge(registros_por_intervalo, treemap2, on=\"rating_interval\", how=\"inner\")\n",
    "merged_df[\"Percent\"] = (merged_df[\"count_y\"] / merged_df[\"count_x\"]) * 100\n",
    "treemap_percent = merged_df.sort_values(by=\"rating_interval\")\n",
    "treemap_percent"
   ]
  },
  {
   "cell_type": "markdown",
   "id": "b67b28a9",
   "metadata": {},
   "source": [
    "Nota: Se intentó hacer un apartado de \"otras aperturas\" para mejorar la legibilidad del treemap, pero el resultado no fue el esperado. Se consideró entonces dejar mejor tal cual, pues se considera suficientemente legible así."
   ]
  },
  {
   "cell_type": "code",
   "execution_count": 24,
   "id": "31a57117",
   "metadata": {},
   "outputs": [
    {
     "name": "stderr",
     "output_type": "stream",
     "text": [
      "c:\\Users\\bryan\\AppData\\Local\\Programs\\Python\\Python312\\Lib\\site-packages\\plotly\\express\\_core.py:1706: FutureWarning:\n",
      "\n",
      "The default of observed=False is deprecated and will be changed to True in a future version of pandas. Pass observed=False to retain current behavior or observed=True to adopt the future default and silence this warning.\n",
      "\n"
     ]
    },
    {
     "data": {
      "application/vnd.plotly.v1+json": {
       "config": {
        "plotlyServerURL": "https://plot.ly"
       },
       "data": [
        {
         "branchvalues": "total",
         "customdata": [
          [
           4.301075268817205
          ],
          [
           null
          ],
          [
           null
          ],
          [
           null
          ],
          [
           null
          ],
          [
           1.0752688172043012
          ],
          [
           null
          ],
          [
           null
          ],
          [
           null
          ],
          [
           null
          ],
          [
           null
          ],
          [
           1.0752688172043012
          ],
          [
           null
          ],
          [
           null
          ],
          [
           null
          ],
          [
           null
          ],
          [
           null
          ],
          [
           null
          ],
          [
           null
          ],
          [
           null
          ],
          [
           2.1505376344086025
          ],
          [
           null
          ],
          [
           null
          ],
          [
           null
          ],
          [
           null
          ],
          [
           null
          ],
          [
           null
          ],
          [
           null
          ],
          [
           null
          ],
          [
           null
          ],
          [
           null
          ],
          [
           null
          ],
          [
           null
          ],
          [
           1.0752688172043012
          ],
          [
           4.301075268817205
          ],
          [
           null
          ],
          [
           null
          ],
          [
           null
          ],
          [
           5.376344086021505
          ],
          [
           null
          ],
          [
           null
          ],
          [
           null
          ],
          [
           1.0752688172043012
          ],
          [
           null
          ],
          [
           null
          ],
          [
           null
          ],
          [
           null
          ],
          [
           null
          ],
          [
           null
          ],
          [
           5.376344086021505
          ],
          [
           2.1505376344086025
          ],
          [
           null
          ],
          [
           1.0752688172043012
          ],
          [
           3.225806451612903
          ],
          [
           null
          ],
          [
           null
          ],
          [
           null
          ],
          [
           null
          ],
          [
           null
          ],
          [
           3.225806451612903
          ],
          [
           null
          ],
          [
           19.35483870967742
          ],
          [
           null
          ],
          [
           null
          ],
          [
           null
          ],
          [
           null
          ],
          [
           null
          ],
          [
           null
          ],
          [
           null
          ],
          [
           null
          ],
          [
           4.301075268817205
          ],
          [
           null
          ],
          [
           null
          ],
          [
           2.1505376344086025
          ],
          [
           2.1505376344086025
          ],
          [
           null
          ],
          [
           null
          ],
          [
           null
          ],
          [
           null
          ],
          [
           null
          ],
          [
           null
          ],
          [
           null
          ],
          [
           1.0752688172043012
          ],
          [
           1.0752688172043012
          ],
          [
           1.0752688172043012
          ],
          [
           null
          ],
          [
           1.0752688172043012
          ],
          [
           1.0752688172043012
          ],
          [
           1.0752688172043012
          ],
          [
           null
          ],
          [
           2.1505376344086025
          ],
          [
           null
          ],
          [
           null
          ],
          [
           null
          ],
          [
           7.526881720430108
          ],
          [
           null
          ],
          [
           2.1505376344086025
          ],
          [
           null
          ],
          [
           null
          ],
          [
           null
          ],
          [
           null
          ],
          [
           1.0752688172043012
          ],
          [
           null
          ],
          [
           null
          ],
          [
           8.60215053763441
          ],
          [
           null
          ],
          [
           1.0752688172043012
          ],
          [
           null
          ],
          [
           null
          ],
          [
           5.376344086021505
          ],
          [
           null
          ],
          [
           null
          ],
          [
           null
          ],
          [
           null
          ],
          [
           null
          ],
          [
           null
          ],
          [
           null
          ],
          [
           null
          ],
          [
           null
          ],
          [
           null
          ],
          [
           1.0752688172043012
          ],
          [
           1.0752688172043012
          ],
          [
           null
          ],
          [
           null
          ],
          [
           null
          ],
          [
           null
          ],
          [
           null
          ],
          [
           null
          ],
          [
           2.010968921389397
          ],
          [
           0.1218769043266301
          ],
          [
           0.1218769043266301
          ],
          [
           0.06093845216331505
          ],
          [
           null
          ],
          [
           0.30469226081657524
          ],
          [
           null
          ],
          [
           null
          ],
          [
           0.1218769043266301
          ],
          [
           0.6093845216331505
          ],
          [
           1.9500304692260817
          ],
          [
           0.4875076173065204
          ],
          [
           null
          ],
          [
           null
          ],
          [
           0.18281535648994518
          ],
          [
           null
          ],
          [
           0.06093845216331505
          ],
          [
           1.401584399756246
          ],
          [
           null
          ],
          [
           null
          ],
          [
           1.218769043266301
          ],
          [
           0.06093845216331505
          ],
          [
           0.18281535648994518
          ],
          [
           0.2437538086532602
          ],
          [
           0.1218769043266301
          ],
          [
           null
          ],
          [
           0.06093845216331505
          ],
          [
           null
          ],
          [
           0.1218769043266301
          ],
          [
           0.1218769043266301
          ],
          [
           0.06093845216331505
          ],
          [
           0.4875076173065204
          ],
          [
           0.5484460694698354
          ],
          [
           2.6203534430225472
          ],
          [
           0.7921998781230957
          ],
          [
           0.1218769043266301
          ],
          [
           3.1687995124923827
          ],
          [
           null
          ],
          [
           7.921998781230958
          ],
          [
           0.06093845216331505
          ],
          [
           0.1218769043266301
          ],
          [
           null
          ],
          [
           0.18281535648994518
          ],
          [
           0.30469226081657524
          ],
          [
           null
          ],
          [
           null
          ],
          [
           0.1218769043266301
          ],
          [
           0.1218769043266301
          ],
          [
           1.6453382084095063
          ],
          [
           1.7672151127361362
          ],
          [
           0.6093845216331505
          ],
          [
           0.1218769043266301
          ],
          [
           2.925045703839123
          ],
          [
           0.18281535648994518
          ],
          [
           0.06093845216331505
          ],
          [
           0.7312614259597807
          ],
          [
           null
          ],
          [
           0.06093845216331505
          ],
          [
           0.06093845216331505
          ],
          [
           1.8890920170627667
          ],
          [
           0.18281535648994518
          ],
          [
           9.506398537477148
          ],
          [
           0.18281535648994518
          ],
          [
           0.1218769043266301
          ],
          [
           0.06093845216331505
          ],
          [
           null
          ],
          [
           null
          ],
          [
           null
          ],
          [
           0.8531383302864107
          ],
          [
           0.36563071297989036
          ],
          [
           1.035953686776356
          ],
          [
           null
          ],
          [
           0.18281535648994518
          ],
          [
           0.6703229737964655
          ],
          [
           1.7062766605728215
          ],
          [
           null
          ],
          [
           0.1218769043266301
          ],
          [
           null
          ],
          [
           0.06093845216331505
          ],
          [
           0.5484460694698354
          ],
          [
           0.18281535648994518
          ],
          [
           null
          ],
          [
           1.035953686776356
          ],
          [
           4.143814747105424
          ],
          [
           1.2797074954296161
          ],
          [
           0.1218769043266301
          ],
          [
           0.18281535648994518
          ],
          [
           0.36563071297989036
          ],
          [
           0.2437538086532602
          ],
          [
           null
          ],
          [
           2.2547227300426567
          ],
          [
           null
          ],
          [
           null
          ],
          [
           0.7921998781230957
          ],
          [
           6.39853747714808
          ],
          [
           0.06093845216331505
          ],
          [
           0.06093845216331505
          ],
          [
           0.36563071297989036
          ],
          [
           0.18281535648994518
          ],
          [
           null
          ],
          [
           null
          ],
          [
           2.010968921389397
          ],
          [
           2.2547227300426567
          ],
          [
           0.30469226081657524
          ],
          [
           6.032906764168191
          ],
          [
           null
          ],
          [
           1.2797074954296161
          ],
          [
           null
          ],
          [
           0.06093845216331505
          ],
          [
           6.703229737964654
          ],
          [
           0.6093845216331505
          ],
          [
           null
          ],
          [
           null
          ],
          [
           0.18281535648994518
          ],
          [
           null
          ],
          [
           0.1218769043266301
          ],
          [
           0.42656916514320536
          ],
          [
           0.18281535648994518
          ],
          [
           0.1218769043266301
          ],
          [
           null
          ],
          [
           0.7921998781230957
          ],
          [
           5.301645338208409
          ],
          [
           1.0968921389396709
          ],
          [
           null
          ],
          [
           0.06093845216331505
          ],
          [
           0.5484460694698354
          ],
          [
           null
          ],
          [
           2.376599634369287
          ],
          [
           1.101468624833111
          ],
          [
           0.08344459279038718
          ],
          [
           0.05006675567423231
          ],
          [
           0.11682242990654204
          ],
          [
           null
          ],
          [
           0.06675567423230974
          ],
          [
           0.016688918558077435
          ],
          [
           null
          ],
          [
           0.18357810413885178
          ],
          [
           0.8511348464619493
          ],
          [
           2.0527369826435247
          ],
          [
           0.36715620827770357
          ],
          [
           null
          ],
          [
           0.016688918558077435
          ],
          [
           0.11682242990654204
          ],
          [
           0.016688918558077435
          ],
          [
           null
          ],
          [
           2.253004005340454
          ],
          [
           0.05006675567423231
          ],
          [
           null
          ],
          [
           1.4686248331108143
          ],
          [
           0.03337783711615487
          ],
          [
           0.10013351134846463
          ],
          [
           0.03337783711615487
          ],
          [
           0.016688918558077435
          ],
          [
           null
          ],
          [
           0.25033377837116155
          ],
          [
           null
          ],
          [
           0.06675567423230974
          ],
          [
           0.30040053404539385
          ],
          [
           0.08344459279038718
          ],
          [
           0.6842456608811749
          ],
          [
           0.31708945260347127
          ],
          [
           3.538050734312417
          ],
          [
           0.6508678237650201
          ],
          [
           0.15020026702269693
          ],
          [
           2.53671562082777
          ],
          [
           0.05006675567423231
          ],
          [
           5.473965287049399
          ],
          [
           0.11682242990654204
          ],
          [
           0.6174899866488652
          ],
          [
           0.016688918558077435
          ],
          [
           0.18357810413885178
          ],
          [
           0.20026702269692925
          ],
          [
           0.08344459279038718
          ],
          [
           0.05006675567423231
          ],
          [
           0.11682242990654204
          ],
          [
           0.016688918558077435
          ],
          [
           1.0013351134846462
          ],
          [
           1.0013351134846462
          ],
          [
           0.9345794392523363
          ],
          [
           0.016688918558077435
          ],
          [
           5.640854472630174
          ],
          [
           0.23364485981308408
          ],
          [
           0.05006675567423231
          ],
          [
           0.9679572763684912
          ],
          [
           null
          ],
          [
           0.18357810413885178
          ],
          [
           0.30040053404539385
          ],
          [
           1.4352469959946597
          ],
          [
           0.06675567423230974
          ],
          [
           7.810413885180241
          ],
          [
           0.08344459279038718
          ],
          [
           0.18357810413885178
          ],
          [
           0.016688918558077435
          ],
          [
           0.03337783711615487
          ],
          [
           0.05006675567423231
          ],
          [
           0.016688918558077435
          ],
          [
           0.7176234979973298
          ],
          [
           0.31708945260347127
          ],
          [
           1.0514018691588785
          ],
          [
           null
          ],
          [
           0.23364485981308408
          ],
          [
           0.6675567423230975
          ],
          [
           1.5353805073431241
          ],
          [
           0.18357810413885178
          ],
          [
           0.18357810413885178
          ],
          [
           0.016688918558077435
          ],
          [
           0.20026702269692925
          ],
          [
           1.0013351134846462
          ],
          [
           0.05006675567423231
          ],
          [
           0.05006675567423231
          ],
          [
           0.43391188251001334
          ],
          [
           4.472630173564753
          ],
          [
           1.1181575433911883
          ],
          [
           0.06675567423230974
          ],
          [
           0.4005340453938585
          ],
          [
           0.35046728971962615
          ],
          [
           0.16688918558077437
          ],
          [
           null
          ],
          [
           3.7216288384512684
          ],
          [
           0.03337783711615487
          ],
          [
           0.05006675567423231
          ],
          [
           0.5674232309746329
          ],
          [
           6.391855807743658
          ],
          [
           0.15020026702269693
          ],
          [
           0.43391188251001334
          ],
          [
           0.25033377837116155
          ],
          [
           0.05006675567423231
          ],
          [
           0.25033377837116155
          ],
          [
           null
          ],
          [
           1.3851802403204272
          ],
          [
           4.155540720961282
          ],
          [
           0.30040053404539385
          ],
          [
           4.0554072096128175
          ],
          [
           0.016688918558077435
          ],
          [
           2.286381842456609
          ],
          [
           0.016688918558077435
          ],
          [
           0.18357810413885178
          ],
          [
           9.412550066755674
          ],
          [
           0.7843791722296396
          ],
          [
           0.03337783711615487
          ],
          [
           0.05006675567423231
          ],
          [
           0.30040053404539385
          ],
          [
           null
          ],
          [
           0.05006675567423231
          ],
          [
           0.7676902536715621
          ],
          [
           0.05006675567423231
          ],
          [
           0.06675567423230974
          ],
          [
           null
          ],
          [
           0.35046728971962615
          ],
          [
           3.1041388518024036
          ],
          [
           1.0180240320427236
          ],
          [
           null
          ],
          [
           0.10013351134846463
          ],
          [
           0.13351134846461948
          ],
          [
           0.06675567423230974
          ],
          [
           1.6688918558077435
          ],
          [
           0.7540603248259862
          ],
          [
           0.014501160092807424
          ],
          [
           0.014501160092807424
          ],
          [
           0.21751740139211137
          ],
          [
           0.014501160092807424
          ],
          [
           0.058004640371229696
          ],
          [
           0.014501160092807424
          ],
          [
           0.029002320185614848
          ],
          [
           0.2610208816705336
          ],
          [
           0.8120649651972157
          ],
          [
           1.91415313225058
          ],
          [
           0.34802784222737815
          ],
          [
           0.029002320185614848
          ],
          [
           0.029002320185614848
          ],
          [
           0.029002320185614848
          ],
          [
           0.14501160092807425
          ],
          [
           0.014501160092807424
          ],
          [
           3.2337587006960558
          ],
          [
           0.029002320185614848
          ],
          [
           0.029002320185614848
          ],
          [
           0.7830626450116009
          ],
          [
           0.058004640371229696
          ],
          [
           0.14501160092807425
          ],
          [
           0.029002320185614848
          ],
          [
           0.029002320185614848
          ],
          [
           0.04350348027842227
          ],
          [
           0.6090487238979118
          ],
          [
           null
          ],
          [
           0.058004640371229696
          ],
          [
           0.4495359628770301
          ],
          [
           0.08700696055684454
          ],
          [
           0.23201856148491878
          ],
          [
           0.2900232018561485
          ],
          [
           3.625290023201856
          ],
          [
           0.2610208816705336
          ],
          [
           0.11600928074245939
          ],
          [
           1.5951276102088168
          ],
          [
           0.029002320185614848
          ],
          [
           7.236078886310906
          ],
          [
           0.08700696055684454
          ],
          [
           0.681554524361949
          ],
          [
           null
          ],
          [
           0.029002320185614848
          ],
          [
           0.18851508120649654
          ],
          [
           0.3190255220417633
          ],
          [
           0.029002320185614848
          ],
          [
           0.014501160092807424
          ],
          [
           0.04350348027842227
          ],
          [
           1.0730858468677493
          ],
          [
           0.8845707656612529
          ],
          [
           1.740139211136891
          ],
          [
           null
          ],
          [
           5.669953596287702
          ],
          [
           0.08700696055684454
          ],
          [
           0.029002320185614848
          ],
          [
           1.5516241299303946
          ],
          [
           null
          ],
          [
           0.3625290023201856
          ],
          [
           0.7975638051044084
          ],
          [
           0.7830626450116009
          ],
          [
           0.04350348027842227
          ],
          [
           3.5237819025522046
          ],
          [
           0.07250580046403712
          ],
          [
           0.058004640371229696
          ],
          [
           0.014501160092807424
          ],
          [
           0.029002320185614848
          ],
          [
           0.11600928074245939
          ],
          [
           0.07250580046403712
          ],
          [
           0.4930394431554524
          ],
          [
           0.14501160092807425
          ],
          [
           1.058584686774942
          ],
          [
           0.014501160092807424
          ],
          [
           0.5365429234338747
          ],
          [
           0.7975638051044084
          ],
          [
           0.9425754060324827
          ],
          [
           0.1305104408352668
          ],
          [
           0.20301624129930393
          ],
          [
           0.04350348027842227
          ],
          [
           0.20301624129930393
          ],
          [
           1.1020881670533642
          ],
          [
           0.029002320185614848
          ],
          [
           0.07250580046403712
          ],
          [
           0.39153132250580047
          ],
          [
           3.784802784222738
          ],
          [
           1.5951276102088168
          ],
          [
           0.04350348027842227
          ],
          [
           0.40603248259860786
          ],
          [
           0.23201856148491878
          ],
          [
           0.10150812064965196
          ],
          [
           null
          ],
          [
           5.35092807424594
          ],
          [
           0.029002320185614848
          ],
          [
           0.11600928074245939
          ],
          [
           0.7975638051044084
          ],
          [
           6.003480278422274
          ],
          [
           0.029002320185614848
          ],
          [
           0.4495359628770301
          ],
          [
           0.2900232018561485
          ],
          [
           0.04350348027842227
          ],
          [
           0.15951276102088166
          ],
          [
           0.029002320185614848
          ],
          [
           1.261600928074246
          ],
          [
           4.364849187935035
          ],
          [
           0.21751740139211137
          ],
          [
           2.8857308584686776
          ],
          [
           0.04350348027842227
          ],
          [
           3.074245939675174
          ],
          [
           0.014501160092807424
          ],
          [
           0.6090487238979118
          ],
          [
           13.74709976798144
          ],
          [
           1.3486078886310906
          ],
          [
           0.014501160092807424
          ],
          [
           0.014501160092807424
          ],
          [
           0.27552204176334105
          ],
          [
           0.029002320185614848
          ],
          [
           0.15951276102088166
          ],
          [
           0.7540603248259862
          ],
          [
           0.14501160092807425
          ],
          [
           0.10150812064965196
          ],
          [
           null
          ],
          [
           0.21751740139211137
          ],
          [
           1.1020881670533642
          ],
          [
           0.4930394431554524
          ],
          [
           null
          ],
          [
           0.058004640371229696
          ],
          [
           0.08700696055684454
          ],
          [
           0.10150812064965196
          ],
          [
           1.2906032482598608
          ],
          [
           0.8382016764033527
          ],
          [
           0.0762001524003048
          ],
          [
           null
          ],
          [
           0.025400050800101593
          ],
          [
           null
          ],
          [
           0.025400050800101593
          ],
          [
           null
          ],
          [
           0.25400050800101603
          ],
          [
           0.5080010160020321
          ],
          [
           0.7112014224028448
          ],
          [
           0.7620015240030481
          ],
          [
           0.10160020320040637
          ],
          [
           0.10160020320040637
          ],
          [
           0.050800101600203186
          ],
          [
           0.025400050800101593
          ],
          [
           0.27940055880111764
          ],
          [
           0.025400050800101593
          ],
          [
           3.911607823215647
          ],
          [
           null
          ],
          [
           0.0762001524003048
          ],
          [
           0.1778003556007112
          ],
          [
           null
          ],
          [
           0.1524003048006096
          ],
          [
           null
          ],
          [
           null
          ],
          [
           0.025400050800101593
          ],
          [
           0.27940055880111764
          ],
          [
           null
          ],
          [
           0.050800101600203186
          ],
          [
           1.4732029464058927
          ],
          [
           0.20320040640081274
          ],
          [
           0.10160020320040637
          ],
          [
           0.4572009144018288
          ],
          [
           3.606807213614427
          ],
          [
           0.25400050800101603
          ],
          [
           0.0762001524003048
          ],
          [
           0.9398018796037593
          ],
          [
           0.050800101600203186
          ],
          [
           8.712217424434849
          ],
          [
           0.10160020320040637
          ],
          [
           0.4064008128016255
          ],
          [
           null
          ],
          [
           null
          ],
          [
           0.12700025400050802
          ],
          [
           0.6096012192024384
          ],
          [
           null
          ],
          [
           0.025400050800101593
          ],
          [
           null
          ],
          [
           0.889001778003556
          ],
          [
           0.4572009144018288
          ],
          [
           2.3876047752095504
          ],
          [
           null
          ],
          [
           3.8100076200152397
          ],
          [
           0.050800101600203186
          ],
          [
           null
          ],
          [
           1.2446024892049785
          ],
          [
           null
          ],
          [
           1.0160020320040641
          ],
          [
           2.2098044196088393
          ],
          [
           0.2286004572009144
          ],
          [
           0.050800101600203186
          ],
          [
           0.7112014224028448
          ],
          [
           null
          ],
          [
           0.0762001524003048
          ],
          [
           null
          ],
          [
           0.025400050800101593
          ],
          [
           0.050800101600203186
          ],
          [
           null
          ],
          [
           0.3048006096012192
          ],
          [
           0.050800101600203186
          ],
          [
           1.0668021336042672
          ],
          [
           0.10160020320040637
          ],
          [
           1.3716027432054865
          ],
          [
           1.1684023368046736
          ],
          [
           0.7112014224028448
          ],
          [
           0.050800101600203186
          ],
          [
           0.27940055880111764
          ],
          [
           null
          ],
          [
           0.1778003556007112
          ],
          [
           0.4826009652019304
          ],
          [
           0.050800101600203186
          ],
          [
           0.025400050800101593
          ],
          [
           0.3302006604013208
          ],
          [
           2.082804165608331
          ],
          [
           1.6764033528067055
          ],
          [
           0.12700025400050802
          ],
          [
           0.5588011176022353
          ],
          [
           0.4826009652019304
          ],
          [
           null
          ],
          [
           0.025400050800101593
          ],
          [
           5.232410464820929
          ],
          [
           null
          ],
          [
           0.63500127000254
          ],
          [
           0.5842011684023368
          ],
          [
           6.19761239522479
          ],
          [
           0.050800101600203186
          ],
          [
           0.63500127000254
          ],
          [
           0.4572009144018288
          ],
          [
           0.050800101600203186
          ],
          [
           0.27940055880111764
          ],
          [
           null
          ],
          [
           0.7620015240030481
          ],
          [
           4.876809753619507
          ],
          [
           0.10160020320040637
          ],
          [
           3.022606045212091
          ],
          [
           0.050800101600203186
          ],
          [
           1.778003556007112
          ],
          [
           0.025400050800101593
          ],
          [
           0.9906019812039624
          ],
          [
           17.856235712471424
          ],
          [
           1.9558039116078234
          ],
          [
           0.025400050800101593
          ],
          [
           null
          ],
          [
           0.1524003048006096
          ],
          [
           null
          ],
          [
           0.1524003048006096
          ],
          [
           0.2286004572009144
          ],
          [
           0.27940055880111764
          ],
          [
           0.1778003556007112
          ],
          [
           0.025400050800101593
          ],
          [
           0.12700025400050802
          ],
          [
           0.4572009144018288
          ],
          [
           0.4064008128016255
          ],
          [
           0.050800101600203186
          ],
          [
           null
          ],
          [
           null
          ],
          [
           0.1778003556007112
          ],
          [
           2.2606045212090424
          ],
          [
           0.2987303958177745
          ],
          [
           0.22404779686333084
          ],
          [
           null
          ],
          [
           0.14936519790888725
          ],
          [
           null
          ],
          [
           0.07468259895444362
          ],
          [
           null
          ],
          [
           0.37341299477221807
          ],
          [
           0.6721433905899925
          ],
          [
           0.7468259895444361
          ],
          [
           0.4480955937266617
          ],
          [
           0.14936519790888725
          ],
          [
           0.5227781926811054
          ],
          [
           0.37341299477221807
          ],
          [
           null
          ],
          [
           0.22404779686333084
          ],
          [
           0.07468259895444362
          ],
          [
           4.256908140403286
          ],
          [
           null
          ],
          [
           0.07468259895444362
          ],
          [
           0.07468259895444362
          ],
          [
           0.07468259895444362
          ],
          [
           0.07468259895444362
          ],
          [
           null
          ],
          [
           null
          ],
          [
           null
          ],
          [
           0.07468259895444362
          ],
          [
           0.07468259895444362
          ],
          [
           null
          ],
          [
           1.0455563853622107
          ],
          [
           0.14936519790888725
          ],
          [
           0.22404779686333084
          ],
          [
           0.14936519790888725
          ],
          [
           4.929051530993279
          ],
          [
           0.14936519790888725
          ],
          [
           0.22404779686333084
          ],
          [
           1.1202389843166543
          ],
          [
           0.07468259895444362
          ],
          [
           7.3935772964899185
          ],
          [
           0.22404779686333084
          ],
          [
           0.37341299477221807
          ],
          [
           null
          ],
          [
           null
          ],
          [
           0.14936519790888725
          ],
          [
           0.7468259895444361
          ],
          [
           null
          ],
          [
           null
          ],
          [
           null
          ],
          [
           0.8215085884988798
          ],
          [
           0.37341299477221807
          ],
          [
           2.389843166542196
          ],
          [
           null
          ],
          [
           3.286034353995519
          ],
          [
           0.07468259895444362
          ],
          [
           null
          ],
          [
           0.8215085884988798
          ],
          [
           0.22404779686333084
          ],
          [
           0.6721433905899925
          ],
          [
           2.389843166542196
          ],
          [
           null
          ],
          [
           0.4480955937266617
          ],
          [
           0.22404779686333084
          ],
          [
           null
          ],
          [
           null
          ],
          [
           null
          ],
          [
           null
          ],
          [
           0.5227781926811054
          ],
          [
           null
          ],
          [
           null
          ],
          [
           0.07468259895444362
          ],
          [
           1.568334578043316
          ],
          [
           0.2987303958177745
          ],
          [
           3.061986557132188
          ],
          [
           0.6721433905899925
          ],
          [
           0.5227781926811054
          ],
          [
           0.07468259895444362
          ],
          [
           0.07468259895444362
          ],
          [
           null
          ],
          [
           0.22404779686333084
          ],
          [
           0.5227781926811054
          ],
          [
           null
          ],
          [
           null
          ],
          [
           0.07468259895444362
          ],
          [
           0.8215085884988798
          ],
          [
           1.6430171769977595
          ],
          [
           null
          ],
          [
           0.37341299477221807
          ],
          [
           0.22404779686333084
          ],
          [
           null
          ],
          [
           null
          ],
          [
           4.929051530993279
          ],
          [
           null
          ],
          [
           0.9708737864077669
          ],
          [
           0.2987303958177745
          ],
          [
           5.1530993278566095
          ],
          [
           null
          ],
          [
           0.4480955937266617
          ],
          [
           0.7468259895444361
          ],
          [
           0.07468259895444362
          ],
          [
           0.37341299477221807
          ],
          [
           null
          ],
          [
           1.2696041822255415
          ],
          [
           5.3024645257654965
          ],
          [
           0.597460791635549
          ],
          [
           3.51008215085885
          ],
          [
           0.07468259895444362
          ],
          [
           1.7176997759522032
          ],
          [
           null
          ],
          [
           1.0455563853622107
          ],
          [
           20.089619118745333
          ],
          [
           0.9708737864077669
          ],
          [
           0.07468259895444362
          ],
          [
           null
          ],
          [
           0.14936519790888725
          ],
          [
           null
          ],
          [
           0.22404779686333084
          ],
          [
           0.22404779686333084
          ],
          [
           0.4480955937266617
          ],
          [
           0.6721433905899925
          ],
          [
           null
          ],
          [
           0.14936519790888725
          ],
          [
           null
          ],
          [
           0.4480955937266617
          ],
          [
           null
          ],
          [
           0.07468259895444362
          ],
          [
           0.07468259895444362
          ],
          [
           0.14936519790888725
          ],
          [
           1.2696041822255415
          ],
          [
           null
          ],
          [
           null
          ],
          [
           null
          ],
          [
           null
          ],
          [
           null
          ],
          [
           null
          ],
          [
           null
          ],
          [
           1.875
          ],
          [
           3.125
          ],
          [
           1.25
          ],
          [
           null
          ],
          [
           null
          ],
          [
           0.625
          ],
          [
           null
          ],
          [
           null
          ],
          [
           null
          ],
          [
           null
          ],
          [
           3.125
          ],
          [
           null
          ],
          [
           null
          ],
          [
           null
          ],
          [
           0.625
          ],
          [
           null
          ],
          [
           null
          ],
          [
           null
          ],
          [
           null
          ],
          [
           null
          ],
          [
           null
          ],
          [
           null
          ],
          [
           1.25
          ],
          [
           null
          ],
          [
           null
          ],
          [
           null
          ],
          [
           3.75
          ],
          [
           0.625
          ],
          [
           null
          ],
          [
           2.5
          ],
          [
           null
          ],
          [
           5
          ],
          [
           null
          ],
          [
           0.625
          ],
          [
           null
          ],
          [
           null
          ],
          [
           null
          ],
          [
           null
          ],
          [
           null
          ],
          [
           null
          ],
          [
           null
          ],
          [
           1.25
          ],
          [
           0.625
          ],
          [
           3.125
          ],
          [
           null
          ],
          [
           5.625
          ],
          [
           null
          ],
          [
           null
          ],
          [
           null
          ],
          [
           null
          ],
          [
           1.25
          ],
          [
           2.5
          ],
          [
           null
          ],
          [
           null
          ],
          [
           0.625
          ],
          [
           null
          ],
          [
           1.875
          ],
          [
           null
          ],
          [
           null
          ],
          [
           null
          ],
          [
           null
          ],
          [
           null
          ],
          [
           null
          ],
          [
           3.125
          ],
          [
           null
          ],
          [
           5
          ],
          [
           0.625
          ],
          [
           1.25
          ],
          [
           null
          ],
          [
           null
          ],
          [
           null
          ],
          [
           null
          ],
          [
           null
          ],
          [
           null
          ],
          [
           null
          ],
          [
           null
          ],
          [
           null
          ],
          [
           0.625
          ],
          [
           null
          ],
          [
           null
          ],
          [
           null
          ],
          [
           null
          ],
          [
           null
          ],
          [
           5.625
          ],
          [
           null
          ],
          [
           0.625
          ],
          [
           null
          ],
          [
           6.875000000000001
          ],
          [
           null
          ],
          [
           0.625
          ],
          [
           0.625
          ],
          [
           null
          ],
          [
           null
          ],
          [
           null
          ],
          [
           0.625
          ],
          [
           5
          ],
          [
           null
          ],
          [
           0.625
          ],
          [
           null
          ],
          [
           0.625
          ],
          [
           null
          ],
          [
           0.625
          ],
          [
           20.625
          ],
          [
           null
          ],
          [
           0.625
          ],
          [
           null
          ],
          [
           null
          ],
          [
           0.625
          ],
          [
           0.625
          ],
          [
           null
          ],
          [
           null
          ],
          [
           0.625
          ],
          [
           null
          ],
          [
           0.625
          ],
          [
           null
          ],
          [
           1.25
          ],
          [
           null
          ],
          [
           null
          ],
          [
           null
          ],
          [
           null
          ],
          [
           1.25
          ],
          [
           2.6994349407077207
          ],
          [
           0.15003951588899755
          ],
          [
           0.09424205760822647
          ],
          [
           0.15372496129021046
          ],
          [
           0.014501160092807424
          ],
          [
           0.7870642653012648
          ],
          [
           0.015671767043187776
          ],
          [
           1.4696991397316392
          ],
          [
           2.1742568027484634
          ],
          [
           0.8796682567845319
          ],
          [
           1.7485246521827595
          ],
          [
           0.6652730866069984
          ],
          [
           0.5280788157430151
          ],
          [
           0.3046100213797033
          ],
          [
           0.1371461141968525
          ],
          [
           0.22486540612458467
          ],
          [
           0.05780709322626668
          ],
          [
           3.337679348857007
          ],
          [
           0.042340378504313374
          ],
          [
           0.06796054994383319
          ],
          [
           1.5182567998085752
          ],
          [
           0.47463958807289613
          ],
          [
           0.14240260488107434
          ],
          [
           0.20047149498166728
          ],
          [
           0.09532620040031145
          ],
          [
           0.036829975724912915
          ],
          [
           0.4087894895268923
          ],
          [
           0.07468259895444362
          ],
          [
           0.0849102877628314
          ],
          [
           1.1061548679824333
          ],
          [
           0.14015975244482226
          ],
          [
           0.47426796661176496
          ],
          [
           0.4067787329357554
          ],
          [
           3.6746920797736418
          ],
          [
           2.857177323772981
          ],
          [
           0.15526774709356886
          ],
          [
           2.3108964412345414
          ],
          [
           0.05624959954275004
          ],
          [
           6.994836361409455
          ],
          [
           0.14473053847430215
          ],
          [
           0.5506136264266418
          ],
          [
           0.016688918558077435
          ],
          [
           0.8323900230991148
          ],
          [
           0.213356075238686
          ],
          [
           0.5902010168392061
          ],
          [
           0.042340378504313374
          ],
          [
           0.10537275204867576
          ],
          [
           0.09350863825716804
          ],
          [
           1.180943904272588
          ],
          [
           3.2953836035303286
          ],
          [
           2.25501361697042
          ],
          [
           0.10920802471956993
          ],
          [
           4.660165036714876
          ],
          [
           2.726389450691736
          ],
          [
           0.0504352133892732
          ],
          [
           1.1478628220249816
          ],
          [
           0.22404779686333084
          ],
          [
           0.9069690677824915
          ],
          [
           2.1280548194714832
          ],
          [
           2.2084498673891324
          ],
          [
           0.307007305204577
          ],
          [
           12.916748077093326
          ],
          [
           0.13472892631522185
          ],
          [
           1.5437909708148851
          ],
          [
           0.04561343333707328
          ],
          [
           0.029623729808562555
          ],
          [
           0.39456609688505806
          ],
          [
           0.06206209475469541
          ],
          [
           0.6665619124260016
          ],
          [
           0.2763470904404502
          ],
          [
           2.6623348081027722
          ],
          [
           0.24051373147915395
          ],
          [
           3.526945497895805
          ],
          [
           1.2387495357280094
          ],
          [
           1.4881517927741672
          ],
          [
           0.13397608918793152
          ],
          [
           0.20104547109352197
          ],
          [
           0.03606888645309668
          ],
          [
           0.19264768044576364
          ],
          [
           0.826923342071196
          ],
          [
           0.12584542955783587
          ],
          [
           0.056827637758818494
          ],
          [
           0.8036959388700343
          ],
          [
           3.5205486275074422
          ],
          [
           1.3857164092225498
          ],
          [
           0.10394915754407354
          ],
          [
           0.6562225719145722
          ],
          [
           0.640889379589439
          ],
          [
           0.7898192670778755
          ],
          [
           0.025400050800101593
          ],
          [
           4.630417553664926
          ],
          [
           0.03134353408637555
          ],
          [
           0.7311005887958684
          ],
          [
           0.6631941031308152
          ],
          [
           6.436498846035819
          ],
          [
           0.10206669282074893
          ],
          [
           1.252030596053969
          ],
          [
           0.5257277283887456
          ],
          [
           0.11441267972370325
          ],
          [
           0.2875926747116276
          ],
          [
           0.029002320185614848
          ],
          [
           1.3461539526158794
          ],
          [
           4.558135220016784
          ],
          [
           0.3927745211293993
          ],
          [
           5.46442588487882
          ],
          [
           0.05563058127894005
          ],
          [
           2.0255302292658524
          ],
          [
           0.020038233492737603
          ],
          [
           0.8175493985518908
          ],
          [
           15.981713422802683
          ],
          [
           1.3358691895910553
          ],
          [
           0.5151251920273167
          ],
          [
           0.04207916014485083
          ],
          [
           0.2311262161715994
          ],
          [
           0.5985699476800715
          ],
          [
           0.3802622320778516
          ],
          [
           0.6007460896606879
          ],
          [
           0.3037940212915527
          ],
          [
           0.5119465557181372
          ],
          [
           0.025400050800101593
          ],
          [
           0.7141499013065791
          ],
          [
           3.6523284344727616
          ],
          [
           0.9360486747047552
          ],
          [
           0.050800101600203186
          ],
          [
           0.07721373056275124
          ],
          [
           0.39325225115148327
          ],
          [
           0.1386335864460165
          ],
          [
           1.8172458229780981
          ]
         ],
         "domain": {
          "x": [
           0,
           1
          ],
          "y": [
           0,
           1
          ]
         },
         "hovertemplate": "labels=%{label}<br>Percent_sum=%{value}<br>parent=%{parent}<br>id=%{id}<br>Percent=%{color}<extra></extra>",
         "ids": [
          "Alekhine Defense/751-1000",
          "Amar Opening/751-1000",
          "Amazon Attack/751-1000",
          "Anderssen Opening/751-1000",
          "Australian Defense/751-1000",
          "Barnes Defense/751-1000",
          "Barnes Opening/751-1000",
          "Benko Gambit/751-1000",
          "Benoni Defense/751-1000",
          "Bird Opening/751-1000",
          "Bishop's Opening/751-1000",
          "Blackmar-Diemer Gambit/751-1000",
          "Blumenfeld Countergambit/751-1000",
          "Bogo-Indian Defense/751-1000",
          "Borg Defense/751-1000",
          "Budapest Defense/751-1000",
          "Canard Opening/751-1000",
          "Caro-Kann Defense/751-1000",
          "Carr Defense/751-1000",
          "Catalan Opening/751-1000",
          "Center Game/751-1000",
          "Clemenz Opening/751-1000",
          "Colle System/751-1000",
          "Crab Opening/751-1000",
          "Creepy Crawly Formation/751-1000",
          "Czech Defense/751-1000",
          "Danish Gambit/751-1000",
          "Doery Defense/751-1000",
          "Duras Gambit/751-1000",
          "Dutch Defense/751-1000",
          "East Indian Defense/751-1000",
          "Elephant Gambit/751-1000",
          "English Defense/751-1000",
          "English Opening/751-1000",
          "Englund Gambit/751-1000",
          "Englund Gambit Complex/751-1000",
          "Four Knights Game/751-1000",
          "Franco-Benoni Defense/751-1000",
          "French Defense/751-1000",
          "Gedult's Opening/751-1000",
          "Giuoco Piano/751-1000",
          "Global Opening/751-1000",
          "Goldsmith Defense/751-1000",
          "Grob Opening/751-1000",
          "Gruenfeld Defense/751-1000",
          "Guatemala Defense/751-1000",
          "Gunderam Defense/751-1000",
          "Hippopotamus Defense/751-1000",
          "Horwitz Defense/751-1000",
          "Hungarian Opening/751-1000",
          "Indian Game/751-1000",
          "Irish Gambit/751-1000",
          "Italian Game/751-1000",
          "Kadas Opening/751-1000",
          "Kangaroo Defense/751-1000",
          "King's Gambit/751-1000",
          "King's Indian/751-1000",
          "King's Indian Attack/751-1000",
          "King's Indian Defense/751-1000",
          "King's Knight Opening/751-1000",
          "King's Pawn/751-1000",
          "King's Pawn Game/751-1000",
          "King's Pawn Opening/751-1000",
          "Latvian Gambit/751-1000",
          "Lemming Defense/751-1000",
          "Lion Defense/751-1000",
          "London System/751-1000",
          "Mexican Defense/751-1000",
          "Mieses Opening/751-1000",
          "Mikenas Defense/751-1000",
          "Modern Defense/751-1000",
          "Neo-Gruenfeld Defense/751-1000",
          "Nimzo-Indian Defense/751-1000",
          "Nimzo-Larsen Attack/751-1000",
          "Nimzowitsch Defense/751-1000",
          "Nimzowitsch-Larsen Attack/751-1000",
          "Old Benoni Defense/751-1000",
          "Old Indian/751-1000",
          "Old Indian Defense/751-1000",
          "Owen Defense/751-1000",
          "Paleface Attack/751-1000",
          "Petrov/751-1000",
          "Petrov's Defense/751-1000",
          "Philidor Defense/751-1000",
          "Pirc Defense/751-1000",
          "Polish Defense/751-1000",
          "Polish Opening/751-1000",
          "Ponziani Opening/751-1000",
          "Portuguese Opening/751-1000",
          "Pterodactyl Defense/751-1000",
          "Queen's Gambit/751-1000",
          "Queen's Indian Accelerated/751-1000",
          "Queen's Indian Defense/751-1000",
          "Queen's Pawn/751-1000",
          "Queen's Pawn Game/751-1000",
          "Queen's Pawn Opening/751-1000",
          "Rat Defense/751-1000",
          "Reti Opening/751-1000",
          "Richter-Veresov Attack/751-1000",
          "Robatsch (Modern) Defense/751-1000",
          "Rubinstein Opening/751-1000",
          "Russian Game/751-1000",
          "Ruy Lopez/751-1000",
          "Saragossa Opening/751-1000",
          "Scandinavian Defense/751-1000",
          "Scotch Gambit/751-1000",
          "Scotch Game/751-1000",
          "Semi-Bononi/751-1000",
          "Semi-Slav Defense/751-1000",
          "Sicilian Defense/751-1000",
          "Slav Defense/751-1000",
          "Slav Indian/751-1000",
          "Sodium Attack/751-1000",
          "St. George Defense/751-1000",
          "System/751-1000",
          "Tarrasch Defense/751-1000",
          "Three Knights Opening/751-1000",
          "Torre Attack/751-1000",
          "Trompowsky Attack/751-1000",
          "Valencia Opening/751-1000",
          "Van Geet Opening/751-1000",
          "Van't Kruijs Opening/751-1000",
          "Vienna Game/751-1000",
          "Wade Defense/751-1000",
          "Ware Defense/751-1000",
          "Ware Opening/751-1000",
          "Yusupov-Rubinstein System/751-1000",
          "Zukertort Opening/751-1000",
          "Alekhine Defense/1001-1250",
          "Amar Opening/1001-1250",
          "Amazon Attack/1001-1250",
          "Anderssen Opening/1001-1250",
          "Australian Defense/1001-1250",
          "Barnes Defense/1001-1250",
          "Barnes Opening/1001-1250",
          "Benko Gambit/1001-1250",
          "Benoni Defense/1001-1250",
          "Bird Opening/1001-1250",
          "Bishop's Opening/1001-1250",
          "Blackmar-Diemer Gambit/1001-1250",
          "Blumenfeld Countergambit/1001-1250",
          "Bogo-Indian Defense/1001-1250",
          "Borg Defense/1001-1250",
          "Budapest Defense/1001-1250",
          "Canard Opening/1001-1250",
          "Caro-Kann Defense/1001-1250",
          "Carr Defense/1001-1250",
          "Catalan Opening/1001-1250",
          "Center Game/1001-1250",
          "Clemenz Opening/1001-1250",
          "Colle System/1001-1250",
          "Crab Opening/1001-1250",
          "Creepy Crawly Formation/1001-1250",
          "Czech Defense/1001-1250",
          "Danish Gambit/1001-1250",
          "Doery Defense/1001-1250",
          "Duras Gambit/1001-1250",
          "Dutch Defense/1001-1250",
          "East Indian Defense/1001-1250",
          "Elephant Gambit/1001-1250",
          "English Defense/1001-1250",
          "English Opening/1001-1250",
          "Englund Gambit/1001-1250",
          "Englund Gambit Complex/1001-1250",
          "Four Knights Game/1001-1250",
          "Franco-Benoni Defense/1001-1250",
          "French Defense/1001-1250",
          "Gedult's Opening/1001-1250",
          "Giuoco Piano/1001-1250",
          "Global Opening/1001-1250",
          "Goldsmith Defense/1001-1250",
          "Grob Opening/1001-1250",
          "Gruenfeld Defense/1001-1250",
          "Guatemala Defense/1001-1250",
          "Gunderam Defense/1001-1250",
          "Hippopotamus Defense/1001-1250",
          "Horwitz Defense/1001-1250",
          "Hungarian Opening/1001-1250",
          "Indian Game/1001-1250",
          "Irish Gambit/1001-1250",
          "Italian Game/1001-1250",
          "Kadas Opening/1001-1250",
          "Kangaroo Defense/1001-1250",
          "King's Gambit/1001-1250",
          "King's Indian/1001-1250",
          "King's Indian Attack/1001-1250",
          "King's Indian Defense/1001-1250",
          "King's Knight Opening/1001-1250",
          "King's Pawn/1001-1250",
          "King's Pawn Game/1001-1250",
          "King's Pawn Opening/1001-1250",
          "Latvian Gambit/1001-1250",
          "Lemming Defense/1001-1250",
          "Lion Defense/1001-1250",
          "London System/1001-1250",
          "Mexican Defense/1001-1250",
          "Mieses Opening/1001-1250",
          "Mikenas Defense/1001-1250",
          "Modern Defense/1001-1250",
          "Neo-Gruenfeld Defense/1001-1250",
          "Nimzo-Indian Defense/1001-1250",
          "Nimzo-Larsen Attack/1001-1250",
          "Nimzowitsch Defense/1001-1250",
          "Nimzowitsch-Larsen Attack/1001-1250",
          "Old Benoni Defense/1001-1250",
          "Old Indian/1001-1250",
          "Old Indian Defense/1001-1250",
          "Owen Defense/1001-1250",
          "Paleface Attack/1001-1250",
          "Petrov/1001-1250",
          "Petrov's Defense/1001-1250",
          "Philidor Defense/1001-1250",
          "Pirc Defense/1001-1250",
          "Polish Defense/1001-1250",
          "Polish Opening/1001-1250",
          "Ponziani Opening/1001-1250",
          "Portuguese Opening/1001-1250",
          "Pterodactyl Defense/1001-1250",
          "Queen's Gambit/1001-1250",
          "Queen's Indian Accelerated/1001-1250",
          "Queen's Indian Defense/1001-1250",
          "Queen's Pawn/1001-1250",
          "Queen's Pawn Game/1001-1250",
          "Queen's Pawn Opening/1001-1250",
          "Rat Defense/1001-1250",
          "Reti Opening/1001-1250",
          "Richter-Veresov Attack/1001-1250",
          "Robatsch (Modern) Defense/1001-1250",
          "Rubinstein Opening/1001-1250",
          "Russian Game/1001-1250",
          "Ruy Lopez/1001-1250",
          "Saragossa Opening/1001-1250",
          "Scandinavian Defense/1001-1250",
          "Scotch Gambit/1001-1250",
          "Scotch Game/1001-1250",
          "Semi-Bononi/1001-1250",
          "Semi-Slav Defense/1001-1250",
          "Sicilian Defense/1001-1250",
          "Slav Defense/1001-1250",
          "Slav Indian/1001-1250",
          "Sodium Attack/1001-1250",
          "St. George Defense/1001-1250",
          "System/1001-1250",
          "Tarrasch Defense/1001-1250",
          "Three Knights Opening/1001-1250",
          "Torre Attack/1001-1250",
          "Trompowsky Attack/1001-1250",
          "Valencia Opening/1001-1250",
          "Van Geet Opening/1001-1250",
          "Van't Kruijs Opening/1001-1250",
          "Vienna Game/1001-1250",
          "Wade Defense/1001-1250",
          "Ware Defense/1001-1250",
          "Ware Opening/1001-1250",
          "Yusupov-Rubinstein System/1001-1250",
          "Zukertort Opening/1001-1250",
          "Alekhine Defense/1251-1500",
          "Amar Opening/1251-1500",
          "Amazon Attack/1251-1500",
          "Anderssen Opening/1251-1500",
          "Australian Defense/1251-1500",
          "Barnes Defense/1251-1500",
          "Barnes Opening/1251-1500",
          "Benko Gambit/1251-1500",
          "Benoni Defense/1251-1500",
          "Bird Opening/1251-1500",
          "Bishop's Opening/1251-1500",
          "Blackmar-Diemer Gambit/1251-1500",
          "Blumenfeld Countergambit/1251-1500",
          "Bogo-Indian Defense/1251-1500",
          "Borg Defense/1251-1500",
          "Budapest Defense/1251-1500",
          "Canard Opening/1251-1500",
          "Caro-Kann Defense/1251-1500",
          "Carr Defense/1251-1500",
          "Catalan Opening/1251-1500",
          "Center Game/1251-1500",
          "Clemenz Opening/1251-1500",
          "Colle System/1251-1500",
          "Crab Opening/1251-1500",
          "Creepy Crawly Formation/1251-1500",
          "Czech Defense/1251-1500",
          "Danish Gambit/1251-1500",
          "Doery Defense/1251-1500",
          "Duras Gambit/1251-1500",
          "Dutch Defense/1251-1500",
          "East Indian Defense/1251-1500",
          "Elephant Gambit/1251-1500",
          "English Defense/1251-1500",
          "English Opening/1251-1500",
          "Englund Gambit/1251-1500",
          "Englund Gambit Complex/1251-1500",
          "Four Knights Game/1251-1500",
          "Franco-Benoni Defense/1251-1500",
          "French Defense/1251-1500",
          "Gedult's Opening/1251-1500",
          "Giuoco Piano/1251-1500",
          "Global Opening/1251-1500",
          "Goldsmith Defense/1251-1500",
          "Grob Opening/1251-1500",
          "Gruenfeld Defense/1251-1500",
          "Guatemala Defense/1251-1500",
          "Gunderam Defense/1251-1500",
          "Hippopotamus Defense/1251-1500",
          "Horwitz Defense/1251-1500",
          "Hungarian Opening/1251-1500",
          "Indian Game/1251-1500",
          "Irish Gambit/1251-1500",
          "Italian Game/1251-1500",
          "Kadas Opening/1251-1500",
          "Kangaroo Defense/1251-1500",
          "King's Gambit/1251-1500",
          "King's Indian/1251-1500",
          "King's Indian Attack/1251-1500",
          "King's Indian Defense/1251-1500",
          "King's Knight Opening/1251-1500",
          "King's Pawn/1251-1500",
          "King's Pawn Game/1251-1500",
          "King's Pawn Opening/1251-1500",
          "Latvian Gambit/1251-1500",
          "Lemming Defense/1251-1500",
          "Lion Defense/1251-1500",
          "London System/1251-1500",
          "Mexican Defense/1251-1500",
          "Mieses Opening/1251-1500",
          "Mikenas Defense/1251-1500",
          "Modern Defense/1251-1500",
          "Neo-Gruenfeld Defense/1251-1500",
          "Nimzo-Indian Defense/1251-1500",
          "Nimzo-Larsen Attack/1251-1500",
          "Nimzowitsch Defense/1251-1500",
          "Nimzowitsch-Larsen Attack/1251-1500",
          "Old Benoni Defense/1251-1500",
          "Old Indian/1251-1500",
          "Old Indian Defense/1251-1500",
          "Owen Defense/1251-1500",
          "Paleface Attack/1251-1500",
          "Petrov/1251-1500",
          "Petrov's Defense/1251-1500",
          "Philidor Defense/1251-1500",
          "Pirc Defense/1251-1500",
          "Polish Defense/1251-1500",
          "Polish Opening/1251-1500",
          "Ponziani Opening/1251-1500",
          "Portuguese Opening/1251-1500",
          "Pterodactyl Defense/1251-1500",
          "Queen's Gambit/1251-1500",
          "Queen's Indian Accelerated/1251-1500",
          "Queen's Indian Defense/1251-1500",
          "Queen's Pawn/1251-1500",
          "Queen's Pawn Game/1251-1500",
          "Queen's Pawn Opening/1251-1500",
          "Rat Defense/1251-1500",
          "Reti Opening/1251-1500",
          "Richter-Veresov Attack/1251-1500",
          "Robatsch (Modern) Defense/1251-1500",
          "Rubinstein Opening/1251-1500",
          "Russian Game/1251-1500",
          "Ruy Lopez/1251-1500",
          "Saragossa Opening/1251-1500",
          "Scandinavian Defense/1251-1500",
          "Scotch Gambit/1251-1500",
          "Scotch Game/1251-1500",
          "Semi-Bononi/1251-1500",
          "Semi-Slav Defense/1251-1500",
          "Sicilian Defense/1251-1500",
          "Slav Defense/1251-1500",
          "Slav Indian/1251-1500",
          "Sodium Attack/1251-1500",
          "St. George Defense/1251-1500",
          "System/1251-1500",
          "Tarrasch Defense/1251-1500",
          "Three Knights Opening/1251-1500",
          "Torre Attack/1251-1500",
          "Trompowsky Attack/1251-1500",
          "Valencia Opening/1251-1500",
          "Van Geet Opening/1251-1500",
          "Van't Kruijs Opening/1251-1500",
          "Vienna Game/1251-1500",
          "Wade Defense/1251-1500",
          "Ware Defense/1251-1500",
          "Ware Opening/1251-1500",
          "Yusupov-Rubinstein System/1251-1500",
          "Zukertort Opening/1251-1500",
          "Alekhine Defense/1501-1750",
          "Amar Opening/1501-1750",
          "Amazon Attack/1501-1750",
          "Anderssen Opening/1501-1750",
          "Australian Defense/1501-1750",
          "Barnes Defense/1501-1750",
          "Barnes Opening/1501-1750",
          "Benko Gambit/1501-1750",
          "Benoni Defense/1501-1750",
          "Bird Opening/1501-1750",
          "Bishop's Opening/1501-1750",
          "Blackmar-Diemer Gambit/1501-1750",
          "Blumenfeld Countergambit/1501-1750",
          "Bogo-Indian Defense/1501-1750",
          "Borg Defense/1501-1750",
          "Budapest Defense/1501-1750",
          "Canard Opening/1501-1750",
          "Caro-Kann Defense/1501-1750",
          "Carr Defense/1501-1750",
          "Catalan Opening/1501-1750",
          "Center Game/1501-1750",
          "Clemenz Opening/1501-1750",
          "Colle System/1501-1750",
          "Crab Opening/1501-1750",
          "Creepy Crawly Formation/1501-1750",
          "Czech Defense/1501-1750",
          "Danish Gambit/1501-1750",
          "Doery Defense/1501-1750",
          "Duras Gambit/1501-1750",
          "Dutch Defense/1501-1750",
          "East Indian Defense/1501-1750",
          "Elephant Gambit/1501-1750",
          "English Defense/1501-1750",
          "English Opening/1501-1750",
          "Englund Gambit/1501-1750",
          "Englund Gambit Complex/1501-1750",
          "Four Knights Game/1501-1750",
          "Franco-Benoni Defense/1501-1750",
          "French Defense/1501-1750",
          "Gedult's Opening/1501-1750",
          "Giuoco Piano/1501-1750",
          "Global Opening/1501-1750",
          "Goldsmith Defense/1501-1750",
          "Grob Opening/1501-1750",
          "Gruenfeld Defense/1501-1750",
          "Guatemala Defense/1501-1750",
          "Gunderam Defense/1501-1750",
          "Hippopotamus Defense/1501-1750",
          "Horwitz Defense/1501-1750",
          "Hungarian Opening/1501-1750",
          "Indian Game/1501-1750",
          "Irish Gambit/1501-1750",
          "Italian Game/1501-1750",
          "Kadas Opening/1501-1750",
          "Kangaroo Defense/1501-1750",
          "King's Gambit/1501-1750",
          "King's Indian/1501-1750",
          "King's Indian Attack/1501-1750",
          "King's Indian Defense/1501-1750",
          "King's Knight Opening/1501-1750",
          "King's Pawn/1501-1750",
          "King's Pawn Game/1501-1750",
          "King's Pawn Opening/1501-1750",
          "Latvian Gambit/1501-1750",
          "Lemming Defense/1501-1750",
          "Lion Defense/1501-1750",
          "London System/1501-1750",
          "Mexican Defense/1501-1750",
          "Mieses Opening/1501-1750",
          "Mikenas Defense/1501-1750",
          "Modern Defense/1501-1750",
          "Neo-Gruenfeld Defense/1501-1750",
          "Nimzo-Indian Defense/1501-1750",
          "Nimzo-Larsen Attack/1501-1750",
          "Nimzowitsch Defense/1501-1750",
          "Nimzowitsch-Larsen Attack/1501-1750",
          "Old Benoni Defense/1501-1750",
          "Old Indian/1501-1750",
          "Old Indian Defense/1501-1750",
          "Owen Defense/1501-1750",
          "Paleface Attack/1501-1750",
          "Petrov/1501-1750",
          "Petrov's Defense/1501-1750",
          "Philidor Defense/1501-1750",
          "Pirc Defense/1501-1750",
          "Polish Defense/1501-1750",
          "Polish Opening/1501-1750",
          "Ponziani Opening/1501-1750",
          "Portuguese Opening/1501-1750",
          "Pterodactyl Defense/1501-1750",
          "Queen's Gambit/1501-1750",
          "Queen's Indian Accelerated/1501-1750",
          "Queen's Indian Defense/1501-1750",
          "Queen's Pawn/1501-1750",
          "Queen's Pawn Game/1501-1750",
          "Queen's Pawn Opening/1501-1750",
          "Rat Defense/1501-1750",
          "Reti Opening/1501-1750",
          "Richter-Veresov Attack/1501-1750",
          "Robatsch (Modern) Defense/1501-1750",
          "Rubinstein Opening/1501-1750",
          "Russian Game/1501-1750",
          "Ruy Lopez/1501-1750",
          "Saragossa Opening/1501-1750",
          "Scandinavian Defense/1501-1750",
          "Scotch Gambit/1501-1750",
          "Scotch Game/1501-1750",
          "Semi-Bononi/1501-1750",
          "Semi-Slav Defense/1501-1750",
          "Sicilian Defense/1501-1750",
          "Slav Defense/1501-1750",
          "Slav Indian/1501-1750",
          "Sodium Attack/1501-1750",
          "St. George Defense/1501-1750",
          "System/1501-1750",
          "Tarrasch Defense/1501-1750",
          "Three Knights Opening/1501-1750",
          "Torre Attack/1501-1750",
          "Trompowsky Attack/1501-1750",
          "Valencia Opening/1501-1750",
          "Van Geet Opening/1501-1750",
          "Van't Kruijs Opening/1501-1750",
          "Vienna Game/1501-1750",
          "Wade Defense/1501-1750",
          "Ware Defense/1501-1750",
          "Ware Opening/1501-1750",
          "Yusupov-Rubinstein System/1501-1750",
          "Zukertort Opening/1501-1750",
          "Alekhine Defense/1751-2000",
          "Amar Opening/1751-2000",
          "Amazon Attack/1751-2000",
          "Anderssen Opening/1751-2000",
          "Australian Defense/1751-2000",
          "Barnes Defense/1751-2000",
          "Barnes Opening/1751-2000",
          "Benko Gambit/1751-2000",
          "Benoni Defense/1751-2000",
          "Bird Opening/1751-2000",
          "Bishop's Opening/1751-2000",
          "Blackmar-Diemer Gambit/1751-2000",
          "Blumenfeld Countergambit/1751-2000",
          "Bogo-Indian Defense/1751-2000",
          "Borg Defense/1751-2000",
          "Budapest Defense/1751-2000",
          "Canard Opening/1751-2000",
          "Caro-Kann Defense/1751-2000",
          "Carr Defense/1751-2000",
          "Catalan Opening/1751-2000",
          "Center Game/1751-2000",
          "Clemenz Opening/1751-2000",
          "Colle System/1751-2000",
          "Crab Opening/1751-2000",
          "Creepy Crawly Formation/1751-2000",
          "Czech Defense/1751-2000",
          "Danish Gambit/1751-2000",
          "Doery Defense/1751-2000",
          "Duras Gambit/1751-2000",
          "Dutch Defense/1751-2000",
          "East Indian Defense/1751-2000",
          "Elephant Gambit/1751-2000",
          "English Defense/1751-2000",
          "English Opening/1751-2000",
          "Englund Gambit/1751-2000",
          "Englund Gambit Complex/1751-2000",
          "Four Knights Game/1751-2000",
          "Franco-Benoni Defense/1751-2000",
          "French Defense/1751-2000",
          "Gedult's Opening/1751-2000",
          "Giuoco Piano/1751-2000",
          "Global Opening/1751-2000",
          "Goldsmith Defense/1751-2000",
          "Grob Opening/1751-2000",
          "Gruenfeld Defense/1751-2000",
          "Guatemala Defense/1751-2000",
          "Gunderam Defense/1751-2000",
          "Hippopotamus Defense/1751-2000",
          "Horwitz Defense/1751-2000",
          "Hungarian Opening/1751-2000",
          "Indian Game/1751-2000",
          "Irish Gambit/1751-2000",
          "Italian Game/1751-2000",
          "Kadas Opening/1751-2000",
          "Kangaroo Defense/1751-2000",
          "King's Gambit/1751-2000",
          "King's Indian/1751-2000",
          "King's Indian Attack/1751-2000",
          "King's Indian Defense/1751-2000",
          "King's Knight Opening/1751-2000",
          "King's Pawn/1751-2000",
          "King's Pawn Game/1751-2000",
          "King's Pawn Opening/1751-2000",
          "Latvian Gambit/1751-2000",
          "Lemming Defense/1751-2000",
          "Lion Defense/1751-2000",
          "London System/1751-2000",
          "Mexican Defense/1751-2000",
          "Mieses Opening/1751-2000",
          "Mikenas Defense/1751-2000",
          "Modern Defense/1751-2000",
          "Neo-Gruenfeld Defense/1751-2000",
          "Nimzo-Indian Defense/1751-2000",
          "Nimzo-Larsen Attack/1751-2000",
          "Nimzowitsch Defense/1751-2000",
          "Nimzowitsch-Larsen Attack/1751-2000",
          "Old Benoni Defense/1751-2000",
          "Old Indian/1751-2000",
          "Old Indian Defense/1751-2000",
          "Owen Defense/1751-2000",
          "Paleface Attack/1751-2000",
          "Petrov/1751-2000",
          "Petrov's Defense/1751-2000",
          "Philidor Defense/1751-2000",
          "Pirc Defense/1751-2000",
          "Polish Defense/1751-2000",
          "Polish Opening/1751-2000",
          "Ponziani Opening/1751-2000",
          "Portuguese Opening/1751-2000",
          "Pterodactyl Defense/1751-2000",
          "Queen's Gambit/1751-2000",
          "Queen's Indian Accelerated/1751-2000",
          "Queen's Indian Defense/1751-2000",
          "Queen's Pawn/1751-2000",
          "Queen's Pawn Game/1751-2000",
          "Queen's Pawn Opening/1751-2000",
          "Rat Defense/1751-2000",
          "Reti Opening/1751-2000",
          "Richter-Veresov Attack/1751-2000",
          "Robatsch (Modern) Defense/1751-2000",
          "Rubinstein Opening/1751-2000",
          "Russian Game/1751-2000",
          "Ruy Lopez/1751-2000",
          "Saragossa Opening/1751-2000",
          "Scandinavian Defense/1751-2000",
          "Scotch Gambit/1751-2000",
          "Scotch Game/1751-2000",
          "Semi-Bononi/1751-2000",
          "Semi-Slav Defense/1751-2000",
          "Sicilian Defense/1751-2000",
          "Slav Defense/1751-2000",
          "Slav Indian/1751-2000",
          "Sodium Attack/1751-2000",
          "St. George Defense/1751-2000",
          "System/1751-2000",
          "Tarrasch Defense/1751-2000",
          "Three Knights Opening/1751-2000",
          "Torre Attack/1751-2000",
          "Trompowsky Attack/1751-2000",
          "Valencia Opening/1751-2000",
          "Van Geet Opening/1751-2000",
          "Van't Kruijs Opening/1751-2000",
          "Vienna Game/1751-2000",
          "Wade Defense/1751-2000",
          "Ware Defense/1751-2000",
          "Ware Opening/1751-2000",
          "Yusupov-Rubinstein System/1751-2000",
          "Zukertort Opening/1751-2000",
          "Alekhine Defense/2001-2250",
          "Amar Opening/2001-2250",
          "Amazon Attack/2001-2250",
          "Anderssen Opening/2001-2250",
          "Australian Defense/2001-2250",
          "Barnes Defense/2001-2250",
          "Barnes Opening/2001-2250",
          "Benko Gambit/2001-2250",
          "Benoni Defense/2001-2250",
          "Bird Opening/2001-2250",
          "Bishop's Opening/2001-2250",
          "Blackmar-Diemer Gambit/2001-2250",
          "Blumenfeld Countergambit/2001-2250",
          "Bogo-Indian Defense/2001-2250",
          "Borg Defense/2001-2250",
          "Budapest Defense/2001-2250",
          "Canard Opening/2001-2250",
          "Caro-Kann Defense/2001-2250",
          "Carr Defense/2001-2250",
          "Catalan Opening/2001-2250",
          "Center Game/2001-2250",
          "Clemenz Opening/2001-2250",
          "Colle System/2001-2250",
          "Crab Opening/2001-2250",
          "Creepy Crawly Formation/2001-2250",
          "Czech Defense/2001-2250",
          "Danish Gambit/2001-2250",
          "Doery Defense/2001-2250",
          "Duras Gambit/2001-2250",
          "Dutch Defense/2001-2250",
          "East Indian Defense/2001-2250",
          "Elephant Gambit/2001-2250",
          "English Defense/2001-2250",
          "English Opening/2001-2250",
          "Englund Gambit/2001-2250",
          "Englund Gambit Complex/2001-2250",
          "Four Knights Game/2001-2250",
          "Franco-Benoni Defense/2001-2250",
          "French Defense/2001-2250",
          "Gedult's Opening/2001-2250",
          "Giuoco Piano/2001-2250",
          "Global Opening/2001-2250",
          "Goldsmith Defense/2001-2250",
          "Grob Opening/2001-2250",
          "Gruenfeld Defense/2001-2250",
          "Guatemala Defense/2001-2250",
          "Gunderam Defense/2001-2250",
          "Hippopotamus Defense/2001-2250",
          "Horwitz Defense/2001-2250",
          "Hungarian Opening/2001-2250",
          "Indian Game/2001-2250",
          "Irish Gambit/2001-2250",
          "Italian Game/2001-2250",
          "Kadas Opening/2001-2250",
          "Kangaroo Defense/2001-2250",
          "King's Gambit/2001-2250",
          "King's Indian/2001-2250",
          "King's Indian Attack/2001-2250",
          "King's Indian Defense/2001-2250",
          "King's Knight Opening/2001-2250",
          "King's Pawn/2001-2250",
          "King's Pawn Game/2001-2250",
          "King's Pawn Opening/2001-2250",
          "Latvian Gambit/2001-2250",
          "Lemming Defense/2001-2250",
          "Lion Defense/2001-2250",
          "London System/2001-2250",
          "Mexican Defense/2001-2250",
          "Mieses Opening/2001-2250",
          "Mikenas Defense/2001-2250",
          "Modern Defense/2001-2250",
          "Neo-Gruenfeld Defense/2001-2250",
          "Nimzo-Indian Defense/2001-2250",
          "Nimzo-Larsen Attack/2001-2250",
          "Nimzowitsch Defense/2001-2250",
          "Nimzowitsch-Larsen Attack/2001-2250",
          "Old Benoni Defense/2001-2250",
          "Old Indian/2001-2250",
          "Old Indian Defense/2001-2250",
          "Owen Defense/2001-2250",
          "Paleface Attack/2001-2250",
          "Petrov/2001-2250",
          "Petrov's Defense/2001-2250",
          "Philidor Defense/2001-2250",
          "Pirc Defense/2001-2250",
          "Polish Defense/2001-2250",
          "Polish Opening/2001-2250",
          "Ponziani Opening/2001-2250",
          "Portuguese Opening/2001-2250",
          "Pterodactyl Defense/2001-2250",
          "Queen's Gambit/2001-2250",
          "Queen's Indian Accelerated/2001-2250",
          "Queen's Indian Defense/2001-2250",
          "Queen's Pawn/2001-2250",
          "Queen's Pawn Game/2001-2250",
          "Queen's Pawn Opening/2001-2250",
          "Rat Defense/2001-2250",
          "Reti Opening/2001-2250",
          "Richter-Veresov Attack/2001-2250",
          "Robatsch (Modern) Defense/2001-2250",
          "Rubinstein Opening/2001-2250",
          "Russian Game/2001-2250",
          "Ruy Lopez/2001-2250",
          "Saragossa Opening/2001-2250",
          "Scandinavian Defense/2001-2250",
          "Scotch Gambit/2001-2250",
          "Scotch Game/2001-2250",
          "Semi-Bononi/2001-2250",
          "Semi-Slav Defense/2001-2250",
          "Sicilian Defense/2001-2250",
          "Slav Defense/2001-2250",
          "Slav Indian/2001-2250",
          "Sodium Attack/2001-2250",
          "St. George Defense/2001-2250",
          "System/2001-2250",
          "Tarrasch Defense/2001-2250",
          "Three Knights Opening/2001-2250",
          "Torre Attack/2001-2250",
          "Trompowsky Attack/2001-2250",
          "Valencia Opening/2001-2250",
          "Van Geet Opening/2001-2250",
          "Van't Kruijs Opening/2001-2250",
          "Vienna Game/2001-2250",
          "Wade Defense/2001-2250",
          "Ware Defense/2001-2250",
          "Ware Opening/2001-2250",
          "Yusupov-Rubinstein System/2001-2250",
          "Zukertort Opening/2001-2250",
          "Alekhine Defense/2251-2500",
          "Amar Opening/2251-2500",
          "Amazon Attack/2251-2500",
          "Anderssen Opening/2251-2500",
          "Australian Defense/2251-2500",
          "Barnes Defense/2251-2500",
          "Barnes Opening/2251-2500",
          "Benko Gambit/2251-2500",
          "Benoni Defense/2251-2500",
          "Bird Opening/2251-2500",
          "Bishop's Opening/2251-2500",
          "Blackmar-Diemer Gambit/2251-2500",
          "Blumenfeld Countergambit/2251-2500",
          "Bogo-Indian Defense/2251-2500",
          "Borg Defense/2251-2500",
          "Budapest Defense/2251-2500",
          "Canard Opening/2251-2500",
          "Caro-Kann Defense/2251-2500",
          "Carr Defense/2251-2500",
          "Catalan Opening/2251-2500",
          "Center Game/2251-2500",
          "Clemenz Opening/2251-2500",
          "Colle System/2251-2500",
          "Crab Opening/2251-2500",
          "Creepy Crawly Formation/2251-2500",
          "Czech Defense/2251-2500",
          "Danish Gambit/2251-2500",
          "Doery Defense/2251-2500",
          "Duras Gambit/2251-2500",
          "Dutch Defense/2251-2500",
          "East Indian Defense/2251-2500",
          "Elephant Gambit/2251-2500",
          "English Defense/2251-2500",
          "English Opening/2251-2500",
          "Englund Gambit/2251-2500",
          "Englund Gambit Complex/2251-2500",
          "Four Knights Game/2251-2500",
          "Franco-Benoni Defense/2251-2500",
          "French Defense/2251-2500",
          "Gedult's Opening/2251-2500",
          "Giuoco Piano/2251-2500",
          "Global Opening/2251-2500",
          "Goldsmith Defense/2251-2500",
          "Grob Opening/2251-2500",
          "Gruenfeld Defense/2251-2500",
          "Guatemala Defense/2251-2500",
          "Gunderam Defense/2251-2500",
          "Hippopotamus Defense/2251-2500",
          "Horwitz Defense/2251-2500",
          "Hungarian Opening/2251-2500",
          "Indian Game/2251-2500",
          "Irish Gambit/2251-2500",
          "Italian Game/2251-2500",
          "Kadas Opening/2251-2500",
          "Kangaroo Defense/2251-2500",
          "King's Gambit/2251-2500",
          "King's Indian/2251-2500",
          "King's Indian Attack/2251-2500",
          "King's Indian Defense/2251-2500",
          "King's Knight Opening/2251-2500",
          "King's Pawn/2251-2500",
          "King's Pawn Game/2251-2500",
          "King's Pawn Opening/2251-2500",
          "Latvian Gambit/2251-2500",
          "Lemming Defense/2251-2500",
          "Lion Defense/2251-2500",
          "London System/2251-2500",
          "Mexican Defense/2251-2500",
          "Mieses Opening/2251-2500",
          "Mikenas Defense/2251-2500",
          "Modern Defense/2251-2500",
          "Neo-Gruenfeld Defense/2251-2500",
          "Nimzo-Indian Defense/2251-2500",
          "Nimzo-Larsen Attack/2251-2500",
          "Nimzowitsch Defense/2251-2500",
          "Nimzowitsch-Larsen Attack/2251-2500",
          "Old Benoni Defense/2251-2500",
          "Old Indian/2251-2500",
          "Old Indian Defense/2251-2500",
          "Owen Defense/2251-2500",
          "Paleface Attack/2251-2500",
          "Petrov/2251-2500",
          "Petrov's Defense/2251-2500",
          "Philidor Defense/2251-2500",
          "Pirc Defense/2251-2500",
          "Polish Defense/2251-2500",
          "Polish Opening/2251-2500",
          "Ponziani Opening/2251-2500",
          "Portuguese Opening/2251-2500",
          "Pterodactyl Defense/2251-2500",
          "Queen's Gambit/2251-2500",
          "Queen's Indian Accelerated/2251-2500",
          "Queen's Indian Defense/2251-2500",
          "Queen's Pawn/2251-2500",
          "Queen's Pawn Game/2251-2500",
          "Queen's Pawn Opening/2251-2500",
          "Rat Defense/2251-2500",
          "Reti Opening/2251-2500",
          "Richter-Veresov Attack/2251-2500",
          "Robatsch (Modern) Defense/2251-2500",
          "Rubinstein Opening/2251-2500",
          "Russian Game/2251-2500",
          "Ruy Lopez/2251-2500",
          "Saragossa Opening/2251-2500",
          "Scandinavian Defense/2251-2500",
          "Scotch Gambit/2251-2500",
          "Scotch Game/2251-2500",
          "Semi-Bononi/2251-2500",
          "Semi-Slav Defense/2251-2500",
          "Sicilian Defense/2251-2500",
          "Slav Defense/2251-2500",
          "Slav Indian/2251-2500",
          "Sodium Attack/2251-2500",
          "St. George Defense/2251-2500",
          "System/2251-2500",
          "Tarrasch Defense/2251-2500",
          "Three Knights Opening/2251-2500",
          "Torre Attack/2251-2500",
          "Trompowsky Attack/2251-2500",
          "Valencia Opening/2251-2500",
          "Van Geet Opening/2251-2500",
          "Van't Kruijs Opening/2251-2500",
          "Vienna Game/2251-2500",
          "Wade Defense/2251-2500",
          "Ware Defense/2251-2500",
          "Ware Opening/2251-2500",
          "Yusupov-Rubinstein System/2251-2500",
          "Zukertort Opening/2251-2500",
          "Alekhine Defense",
          "Amar Opening",
          "Amazon Attack",
          "Anderssen Opening",
          "Australian Defense",
          "Barnes Defense",
          "Barnes Opening",
          "Benko Gambit",
          "Benoni Defense",
          "Bird Opening",
          "Bishop's Opening",
          "Blackmar-Diemer Gambit",
          "Blumenfeld Countergambit",
          "Bogo-Indian Defense",
          "Borg Defense",
          "Budapest Defense",
          "Canard Opening",
          "Caro-Kann Defense",
          "Carr Defense",
          "Catalan Opening",
          "Center Game",
          "Clemenz Opening",
          "Colle System",
          "Crab Opening",
          "Creepy Crawly Formation",
          "Czech Defense",
          "Danish Gambit",
          "Doery Defense",
          "Duras Gambit",
          "Dutch Defense",
          "East Indian Defense",
          "Elephant Gambit",
          "English Defense",
          "English Opening",
          "Englund Gambit",
          "Englund Gambit Complex",
          "Four Knights Game",
          "Franco-Benoni Defense",
          "French Defense",
          "Gedult's Opening",
          "Giuoco Piano",
          "Global Opening",
          "Goldsmith Defense",
          "Grob Opening",
          "Gruenfeld Defense",
          "Guatemala Defense",
          "Gunderam Defense",
          "Hippopotamus Defense",
          "Horwitz Defense",
          "Hungarian Opening",
          "Indian Game",
          "Irish Gambit",
          "Italian Game",
          "Kadas Opening",
          "Kangaroo Defense",
          "King's Gambit",
          "King's Indian",
          "King's Indian Attack",
          "King's Indian Defense",
          "King's Knight Opening",
          "King's Pawn",
          "King's Pawn Game",
          "King's Pawn Opening",
          "Latvian Gambit",
          "Lemming Defense",
          "Lion Defense",
          "London System",
          "Mexican Defense",
          "Mieses Opening",
          "Mikenas Defense",
          "Modern Defense",
          "Neo-Gruenfeld Defense",
          "Nimzo-Indian Defense",
          "Nimzo-Larsen Attack",
          "Nimzowitsch Defense",
          "Nimzowitsch-Larsen Attack",
          "Old Benoni Defense",
          "Old Indian",
          "Old Indian Defense",
          "Owen Defense",
          "Paleface Attack",
          "Petrov",
          "Petrov's Defense",
          "Philidor Defense",
          "Pirc Defense",
          "Polish Defense",
          "Polish Opening",
          "Ponziani Opening",
          "Portuguese Opening",
          "Pterodactyl Defense",
          "Queen's Gambit",
          "Queen's Indian Accelerated",
          "Queen's Indian Defense",
          "Queen's Pawn",
          "Queen's Pawn Game",
          "Queen's Pawn Opening",
          "Rat Defense",
          "Reti Opening",
          "Richter-Veresov Attack",
          "Robatsch (Modern) Defense",
          "Rubinstein Opening",
          "Russian Game",
          "Ruy Lopez",
          "Saragossa Opening",
          "Scandinavian Defense",
          "Scotch Gambit",
          "Scotch Game",
          "Semi-Bononi",
          "Semi-Slav Defense",
          "Sicilian Defense",
          "Slav Defense",
          "Slav Indian",
          "Sodium Attack",
          "St. George Defense",
          "System",
          "Tarrasch Defense",
          "Three Knights Opening",
          "Torre Attack",
          "Trompowsky Attack",
          "Valencia Opening",
          "Van Geet Opening",
          "Van't Kruijs Opening",
          "Vienna Game",
          "Wade Defense",
          "Ware Defense",
          "Ware Opening",
          "Yusupov-Rubinstein System",
          "Zukertort Opening"
         ],
         "labels": [
          "751-1000",
          "751-1000",
          "751-1000",
          "751-1000",
          "751-1000",
          "751-1000",
          "751-1000",
          "751-1000",
          "751-1000",
          "751-1000",
          "751-1000",
          "751-1000",
          "751-1000",
          "751-1000",
          "751-1000",
          "751-1000",
          "751-1000",
          "751-1000",
          "751-1000",
          "751-1000",
          "751-1000",
          "751-1000",
          "751-1000",
          "751-1000",
          "751-1000",
          "751-1000",
          "751-1000",
          "751-1000",
          "751-1000",
          "751-1000",
          "751-1000",
          "751-1000",
          "751-1000",
          "751-1000",
          "751-1000",
          "751-1000",
          "751-1000",
          "751-1000",
          "751-1000",
          "751-1000",
          "751-1000",
          "751-1000",
          "751-1000",
          "751-1000",
          "751-1000",
          "751-1000",
          "751-1000",
          "751-1000",
          "751-1000",
          "751-1000",
          "751-1000",
          "751-1000",
          "751-1000",
          "751-1000",
          "751-1000",
          "751-1000",
          "751-1000",
          "751-1000",
          "751-1000",
          "751-1000",
          "751-1000",
          "751-1000",
          "751-1000",
          "751-1000",
          "751-1000",
          "751-1000",
          "751-1000",
          "751-1000",
          "751-1000",
          "751-1000",
          "751-1000",
          "751-1000",
          "751-1000",
          "751-1000",
          "751-1000",
          "751-1000",
          "751-1000",
          "751-1000",
          "751-1000",
          "751-1000",
          "751-1000",
          "751-1000",
          "751-1000",
          "751-1000",
          "751-1000",
          "751-1000",
          "751-1000",
          "751-1000",
          "751-1000",
          "751-1000",
          "751-1000",
          "751-1000",
          "751-1000",
          "751-1000",
          "751-1000",
          "751-1000",
          "751-1000",
          "751-1000",
          "751-1000",
          "751-1000",
          "751-1000",
          "751-1000",
          "751-1000",
          "751-1000",
          "751-1000",
          "751-1000",
          "751-1000",
          "751-1000",
          "751-1000",
          "751-1000",
          "751-1000",
          "751-1000",
          "751-1000",
          "751-1000",
          "751-1000",
          "751-1000",
          "751-1000",
          "751-1000",
          "751-1000",
          "751-1000",
          "751-1000",
          "751-1000",
          "751-1000",
          "751-1000",
          "751-1000",
          "751-1000",
          "751-1000",
          "751-1000",
          "1001-1250",
          "1001-1250",
          "1001-1250",
          "1001-1250",
          "1001-1250",
          "1001-1250",
          "1001-1250",
          "1001-1250",
          "1001-1250",
          "1001-1250",
          "1001-1250",
          "1001-1250",
          "1001-1250",
          "1001-1250",
          "1001-1250",
          "1001-1250",
          "1001-1250",
          "1001-1250",
          "1001-1250",
          "1001-1250",
          "1001-1250",
          "1001-1250",
          "1001-1250",
          "1001-1250",
          "1001-1250",
          "1001-1250",
          "1001-1250",
          "1001-1250",
          "1001-1250",
          "1001-1250",
          "1001-1250",
          "1001-1250",
          "1001-1250",
          "1001-1250",
          "1001-1250",
          "1001-1250",
          "1001-1250",
          "1001-1250",
          "1001-1250",
          "1001-1250",
          "1001-1250",
          "1001-1250",
          "1001-1250",
          "1001-1250",
          "1001-1250",
          "1001-1250",
          "1001-1250",
          "1001-1250",
          "1001-1250",
          "1001-1250",
          "1001-1250",
          "1001-1250",
          "1001-1250",
          "1001-1250",
          "1001-1250",
          "1001-1250",
          "1001-1250",
          "1001-1250",
          "1001-1250",
          "1001-1250",
          "1001-1250",
          "1001-1250",
          "1001-1250",
          "1001-1250",
          "1001-1250",
          "1001-1250",
          "1001-1250",
          "1001-1250",
          "1001-1250",
          "1001-1250",
          "1001-1250",
          "1001-1250",
          "1001-1250",
          "1001-1250",
          "1001-1250",
          "1001-1250",
          "1001-1250",
          "1001-1250",
          "1001-1250",
          "1001-1250",
          "1001-1250",
          "1001-1250",
          "1001-1250",
          "1001-1250",
          "1001-1250",
          "1001-1250",
          "1001-1250",
          "1001-1250",
          "1001-1250",
          "1001-1250",
          "1001-1250",
          "1001-1250",
          "1001-1250",
          "1001-1250",
          "1001-1250",
          "1001-1250",
          "1001-1250",
          "1001-1250",
          "1001-1250",
          "1001-1250",
          "1001-1250",
          "1001-1250",
          "1001-1250",
          "1001-1250",
          "1001-1250",
          "1001-1250",
          "1001-1250",
          "1001-1250",
          "1001-1250",
          "1001-1250",
          "1001-1250",
          "1001-1250",
          "1001-1250",
          "1001-1250",
          "1001-1250",
          "1001-1250",
          "1001-1250",
          "1001-1250",
          "1001-1250",
          "1001-1250",
          "1001-1250",
          "1001-1250",
          "1001-1250",
          "1001-1250",
          "1001-1250",
          "1001-1250",
          "1001-1250",
          "1001-1250",
          "1251-1500",
          "1251-1500",
          "1251-1500",
          "1251-1500",
          "1251-1500",
          "1251-1500",
          "1251-1500",
          "1251-1500",
          "1251-1500",
          "1251-1500",
          "1251-1500",
          "1251-1500",
          "1251-1500",
          "1251-1500",
          "1251-1500",
          "1251-1500",
          "1251-1500",
          "1251-1500",
          "1251-1500",
          "1251-1500",
          "1251-1500",
          "1251-1500",
          "1251-1500",
          "1251-1500",
          "1251-1500",
          "1251-1500",
          "1251-1500",
          "1251-1500",
          "1251-1500",
          "1251-1500",
          "1251-1500",
          "1251-1500",
          "1251-1500",
          "1251-1500",
          "1251-1500",
          "1251-1500",
          "1251-1500",
          "1251-1500",
          "1251-1500",
          "1251-1500",
          "1251-1500",
          "1251-1500",
          "1251-1500",
          "1251-1500",
          "1251-1500",
          "1251-1500",
          "1251-1500",
          "1251-1500",
          "1251-1500",
          "1251-1500",
          "1251-1500",
          "1251-1500",
          "1251-1500",
          "1251-1500",
          "1251-1500",
          "1251-1500",
          "1251-1500",
          "1251-1500",
          "1251-1500",
          "1251-1500",
          "1251-1500",
          "1251-1500",
          "1251-1500",
          "1251-1500",
          "1251-1500",
          "1251-1500",
          "1251-1500",
          "1251-1500",
          "1251-1500",
          "1251-1500",
          "1251-1500",
          "1251-1500",
          "1251-1500",
          "1251-1500",
          "1251-1500",
          "1251-1500",
          "1251-1500",
          "1251-1500",
          "1251-1500",
          "1251-1500",
          "1251-1500",
          "1251-1500",
          "1251-1500",
          "1251-1500",
          "1251-1500",
          "1251-1500",
          "1251-1500",
          "1251-1500",
          "1251-1500",
          "1251-1500",
          "1251-1500",
          "1251-1500",
          "1251-1500",
          "1251-1500",
          "1251-1500",
          "1251-1500",
          "1251-1500",
          "1251-1500",
          "1251-1500",
          "1251-1500",
          "1251-1500",
          "1251-1500",
          "1251-1500",
          "1251-1500",
          "1251-1500",
          "1251-1500",
          "1251-1500",
          "1251-1500",
          "1251-1500",
          "1251-1500",
          "1251-1500",
          "1251-1500",
          "1251-1500",
          "1251-1500",
          "1251-1500",
          "1251-1500",
          "1251-1500",
          "1251-1500",
          "1251-1500",
          "1251-1500",
          "1251-1500",
          "1251-1500",
          "1251-1500",
          "1251-1500",
          "1251-1500",
          "1251-1500",
          "1251-1500",
          "1251-1500",
          "1501-1750",
          "1501-1750",
          "1501-1750",
          "1501-1750",
          "1501-1750",
          "1501-1750",
          "1501-1750",
          "1501-1750",
          "1501-1750",
          "1501-1750",
          "1501-1750",
          "1501-1750",
          "1501-1750",
          "1501-1750",
          "1501-1750",
          "1501-1750",
          "1501-1750",
          "1501-1750",
          "1501-1750",
          "1501-1750",
          "1501-1750",
          "1501-1750",
          "1501-1750",
          "1501-1750",
          "1501-1750",
          "1501-1750",
          "1501-1750",
          "1501-1750",
          "1501-1750",
          "1501-1750",
          "1501-1750",
          "1501-1750",
          "1501-1750",
          "1501-1750",
          "1501-1750",
          "1501-1750",
          "1501-1750",
          "1501-1750",
          "1501-1750",
          "1501-1750",
          "1501-1750",
          "1501-1750",
          "1501-1750",
          "1501-1750",
          "1501-1750",
          "1501-1750",
          "1501-1750",
          "1501-1750",
          "1501-1750",
          "1501-1750",
          "1501-1750",
          "1501-1750",
          "1501-1750",
          "1501-1750",
          "1501-1750",
          "1501-1750",
          "1501-1750",
          "1501-1750",
          "1501-1750",
          "1501-1750",
          "1501-1750",
          "1501-1750",
          "1501-1750",
          "1501-1750",
          "1501-1750",
          "1501-1750",
          "1501-1750",
          "1501-1750",
          "1501-1750",
          "1501-1750",
          "1501-1750",
          "1501-1750",
          "1501-1750",
          "1501-1750",
          "1501-1750",
          "1501-1750",
          "1501-1750",
          "1501-1750",
          "1501-1750",
          "1501-1750",
          "1501-1750",
          "1501-1750",
          "1501-1750",
          "1501-1750",
          "1501-1750",
          "1501-1750",
          "1501-1750",
          "1501-1750",
          "1501-1750",
          "1501-1750",
          "1501-1750",
          "1501-1750",
          "1501-1750",
          "1501-1750",
          "1501-1750",
          "1501-1750",
          "1501-1750",
          "1501-1750",
          "1501-1750",
          "1501-1750",
          "1501-1750",
          "1501-1750",
          "1501-1750",
          "1501-1750",
          "1501-1750",
          "1501-1750",
          "1501-1750",
          "1501-1750",
          "1501-1750",
          "1501-1750",
          "1501-1750",
          "1501-1750",
          "1501-1750",
          "1501-1750",
          "1501-1750",
          "1501-1750",
          "1501-1750",
          "1501-1750",
          "1501-1750",
          "1501-1750",
          "1501-1750",
          "1501-1750",
          "1501-1750",
          "1501-1750",
          "1501-1750",
          "1501-1750",
          "1501-1750",
          "1501-1750",
          "1751-2000",
          "1751-2000",
          "1751-2000",
          "1751-2000",
          "1751-2000",
          "1751-2000",
          "1751-2000",
          "1751-2000",
          "1751-2000",
          "1751-2000",
          "1751-2000",
          "1751-2000",
          "1751-2000",
          "1751-2000",
          "1751-2000",
          "1751-2000",
          "1751-2000",
          "1751-2000",
          "1751-2000",
          "1751-2000",
          "1751-2000",
          "1751-2000",
          "1751-2000",
          "1751-2000",
          "1751-2000",
          "1751-2000",
          "1751-2000",
          "1751-2000",
          "1751-2000",
          "1751-2000",
          "1751-2000",
          "1751-2000",
          "1751-2000",
          "1751-2000",
          "1751-2000",
          "1751-2000",
          "1751-2000",
          "1751-2000",
          "1751-2000",
          "1751-2000",
          "1751-2000",
          "1751-2000",
          "1751-2000",
          "1751-2000",
          "1751-2000",
          "1751-2000",
          "1751-2000",
          "1751-2000",
          "1751-2000",
          "1751-2000",
          "1751-2000",
          "1751-2000",
          "1751-2000",
          "1751-2000",
          "1751-2000",
          "1751-2000",
          "1751-2000",
          "1751-2000",
          "1751-2000",
          "1751-2000",
          "1751-2000",
          "1751-2000",
          "1751-2000",
          "1751-2000",
          "1751-2000",
          "1751-2000",
          "1751-2000",
          "1751-2000",
          "1751-2000",
          "1751-2000",
          "1751-2000",
          "1751-2000",
          "1751-2000",
          "1751-2000",
          "1751-2000",
          "1751-2000",
          "1751-2000",
          "1751-2000",
          "1751-2000",
          "1751-2000",
          "1751-2000",
          "1751-2000",
          "1751-2000",
          "1751-2000",
          "1751-2000",
          "1751-2000",
          "1751-2000",
          "1751-2000",
          "1751-2000",
          "1751-2000",
          "1751-2000",
          "1751-2000",
          "1751-2000",
          "1751-2000",
          "1751-2000",
          "1751-2000",
          "1751-2000",
          "1751-2000",
          "1751-2000",
          "1751-2000",
          "1751-2000",
          "1751-2000",
          "1751-2000",
          "1751-2000",
          "1751-2000",
          "1751-2000",
          "1751-2000",
          "1751-2000",
          "1751-2000",
          "1751-2000",
          "1751-2000",
          "1751-2000",
          "1751-2000",
          "1751-2000",
          "1751-2000",
          "1751-2000",
          "1751-2000",
          "1751-2000",
          "1751-2000",
          "1751-2000",
          "1751-2000",
          "1751-2000",
          "1751-2000",
          "1751-2000",
          "1751-2000",
          "1751-2000",
          "1751-2000",
          "1751-2000",
          "2001-2250",
          "2001-2250",
          "2001-2250",
          "2001-2250",
          "2001-2250",
          "2001-2250",
          "2001-2250",
          "2001-2250",
          "2001-2250",
          "2001-2250",
          "2001-2250",
          "2001-2250",
          "2001-2250",
          "2001-2250",
          "2001-2250",
          "2001-2250",
          "2001-2250",
          "2001-2250",
          "2001-2250",
          "2001-2250",
          "2001-2250",
          "2001-2250",
          "2001-2250",
          "2001-2250",
          "2001-2250",
          "2001-2250",
          "2001-2250",
          "2001-2250",
          "2001-2250",
          "2001-2250",
          "2001-2250",
          "2001-2250",
          "2001-2250",
          "2001-2250",
          "2001-2250",
          "2001-2250",
          "2001-2250",
          "2001-2250",
          "2001-2250",
          "2001-2250",
          "2001-2250",
          "2001-2250",
          "2001-2250",
          "2001-2250",
          "2001-2250",
          "2001-2250",
          "2001-2250",
          "2001-2250",
          "2001-2250",
          "2001-2250",
          "2001-2250",
          "2001-2250",
          "2001-2250",
          "2001-2250",
          "2001-2250",
          "2001-2250",
          "2001-2250",
          "2001-2250",
          "2001-2250",
          "2001-2250",
          "2001-2250",
          "2001-2250",
          "2001-2250",
          "2001-2250",
          "2001-2250",
          "2001-2250",
          "2001-2250",
          "2001-2250",
          "2001-2250",
          "2001-2250",
          "2001-2250",
          "2001-2250",
          "2001-2250",
          "2001-2250",
          "2001-2250",
          "2001-2250",
          "2001-2250",
          "2001-2250",
          "2001-2250",
          "2001-2250",
          "2001-2250",
          "2001-2250",
          "2001-2250",
          "2001-2250",
          "2001-2250",
          "2001-2250",
          "2001-2250",
          "2001-2250",
          "2001-2250",
          "2001-2250",
          "2001-2250",
          "2001-2250",
          "2001-2250",
          "2001-2250",
          "2001-2250",
          "2001-2250",
          "2001-2250",
          "2001-2250",
          "2001-2250",
          "2001-2250",
          "2001-2250",
          "2001-2250",
          "2001-2250",
          "2001-2250",
          "2001-2250",
          "2001-2250",
          "2001-2250",
          "2001-2250",
          "2001-2250",
          "2001-2250",
          "2001-2250",
          "2001-2250",
          "2001-2250",
          "2001-2250",
          "2001-2250",
          "2001-2250",
          "2001-2250",
          "2001-2250",
          "2001-2250",
          "2001-2250",
          "2001-2250",
          "2001-2250",
          "2001-2250",
          "2001-2250",
          "2001-2250",
          "2001-2250",
          "2001-2250",
          "2001-2250",
          "2251-2500",
          "2251-2500",
          "2251-2500",
          "2251-2500",
          "2251-2500",
          "2251-2500",
          "2251-2500",
          "2251-2500",
          "2251-2500",
          "2251-2500",
          "2251-2500",
          "2251-2500",
          "2251-2500",
          "2251-2500",
          "2251-2500",
          "2251-2500",
          "2251-2500",
          "2251-2500",
          "2251-2500",
          "2251-2500",
          "2251-2500",
          "2251-2500",
          "2251-2500",
          "2251-2500",
          "2251-2500",
          "2251-2500",
          "2251-2500",
          "2251-2500",
          "2251-2500",
          "2251-2500",
          "2251-2500",
          "2251-2500",
          "2251-2500",
          "2251-2500",
          "2251-2500",
          "2251-2500",
          "2251-2500",
          "2251-2500",
          "2251-2500",
          "2251-2500",
          "2251-2500",
          "2251-2500",
          "2251-2500",
          "2251-2500",
          "2251-2500",
          "2251-2500",
          "2251-2500",
          "2251-2500",
          "2251-2500",
          "2251-2500",
          "2251-2500",
          "2251-2500",
          "2251-2500",
          "2251-2500",
          "2251-2500",
          "2251-2500",
          "2251-2500",
          "2251-2500",
          "2251-2500",
          "2251-2500",
          "2251-2500",
          "2251-2500",
          "2251-2500",
          "2251-2500",
          "2251-2500",
          "2251-2500",
          "2251-2500",
          "2251-2500",
          "2251-2500",
          "2251-2500",
          "2251-2500",
          "2251-2500",
          "2251-2500",
          "2251-2500",
          "2251-2500",
          "2251-2500",
          "2251-2500",
          "2251-2500",
          "2251-2500",
          "2251-2500",
          "2251-2500",
          "2251-2500",
          "2251-2500",
          "2251-2500",
          "2251-2500",
          "2251-2500",
          "2251-2500",
          "2251-2500",
          "2251-2500",
          "2251-2500",
          "2251-2500",
          "2251-2500",
          "2251-2500",
          "2251-2500",
          "2251-2500",
          "2251-2500",
          "2251-2500",
          "2251-2500",
          "2251-2500",
          "2251-2500",
          "2251-2500",
          "2251-2500",
          "2251-2500",
          "2251-2500",
          "2251-2500",
          "2251-2500",
          "2251-2500",
          "2251-2500",
          "2251-2500",
          "2251-2500",
          "2251-2500",
          "2251-2500",
          "2251-2500",
          "2251-2500",
          "2251-2500",
          "2251-2500",
          "2251-2500",
          "2251-2500",
          "2251-2500",
          "2251-2500",
          "2251-2500",
          "2251-2500",
          "2251-2500",
          "2251-2500",
          "2251-2500",
          "2251-2500",
          "2251-2500",
          "2251-2500",
          "Alekhine Defense",
          "Amar Opening",
          "Amazon Attack",
          "Anderssen Opening",
          "Australian Defense",
          "Barnes Defense",
          "Barnes Opening",
          "Benko Gambit",
          "Benoni Defense",
          "Bird Opening",
          "Bishop's Opening",
          "Blackmar-Diemer Gambit",
          "Blumenfeld Countergambit",
          "Bogo-Indian Defense",
          "Borg Defense",
          "Budapest Defense",
          "Canard Opening",
          "Caro-Kann Defense",
          "Carr Defense",
          "Catalan Opening",
          "Center Game",
          "Clemenz Opening",
          "Colle System",
          "Crab Opening",
          "Creepy Crawly Formation",
          "Czech Defense",
          "Danish Gambit",
          "Doery Defense",
          "Duras Gambit",
          "Dutch Defense",
          "East Indian Defense",
          "Elephant Gambit",
          "English Defense",
          "English Opening",
          "Englund Gambit",
          "Englund Gambit Complex",
          "Four Knights Game",
          "Franco-Benoni Defense",
          "French Defense",
          "Gedult's Opening",
          "Giuoco Piano",
          "Global Opening",
          "Goldsmith Defense",
          "Grob Opening",
          "Gruenfeld Defense",
          "Guatemala Defense",
          "Gunderam Defense",
          "Hippopotamus Defense",
          "Horwitz Defense",
          "Hungarian Opening",
          "Indian Game",
          "Irish Gambit",
          "Italian Game",
          "Kadas Opening",
          "Kangaroo Defense",
          "King's Gambit",
          "King's Indian",
          "King's Indian Attack",
          "King's Indian Defense",
          "King's Knight Opening",
          "King's Pawn",
          "King's Pawn Game",
          "King's Pawn Opening",
          "Latvian Gambit",
          "Lemming Defense",
          "Lion Defense",
          "London System",
          "Mexican Defense",
          "Mieses Opening",
          "Mikenas Defense",
          "Modern Defense",
          "Neo-Gruenfeld Defense",
          "Nimzo-Indian Defense",
          "Nimzo-Larsen Attack",
          "Nimzowitsch Defense",
          "Nimzowitsch-Larsen Attack",
          "Old Benoni Defense",
          "Old Indian",
          "Old Indian Defense",
          "Owen Defense",
          "Paleface Attack",
          "Petrov",
          "Petrov's Defense",
          "Philidor Defense",
          "Pirc Defense",
          "Polish Defense",
          "Polish Opening",
          "Ponziani Opening",
          "Portuguese Opening",
          "Pterodactyl Defense",
          "Queen's Gambit",
          "Queen's Indian Accelerated",
          "Queen's Indian Defense",
          "Queen's Pawn",
          "Queen's Pawn Game",
          "Queen's Pawn Opening",
          "Rat Defense",
          "Reti Opening",
          "Richter-Veresov Attack",
          "Robatsch (Modern) Defense",
          "Rubinstein Opening",
          "Russian Game",
          "Ruy Lopez",
          "Saragossa Opening",
          "Scandinavian Defense",
          "Scotch Gambit",
          "Scotch Game",
          "Semi-Bononi",
          "Semi-Slav Defense",
          "Sicilian Defense",
          "Slav Defense",
          "Slav Indian",
          "Sodium Attack",
          "St. George Defense",
          "System",
          "Tarrasch Defense",
          "Three Knights Opening",
          "Torre Attack",
          "Trompowsky Attack",
          "Valencia Opening",
          "Van Geet Opening",
          "Van't Kruijs Opening",
          "Vienna Game",
          "Wade Defense",
          "Ware Defense",
          "Ware Opening",
          "Yusupov-Rubinstein System",
          "Zukertort Opening"
         ],
         "marker": {
          "coloraxis": "coloraxis",
          "colors": [
           4.301075268817205,
           null,
           null,
           null,
           null,
           1.0752688172043012,
           null,
           null,
           null,
           null,
           null,
           1.0752688172043012,
           null,
           null,
           null,
           null,
           null,
           null,
           null,
           null,
           2.1505376344086025,
           null,
           null,
           null,
           null,
           null,
           null,
           null,
           null,
           null,
           null,
           null,
           null,
           1.0752688172043012,
           4.301075268817205,
           null,
           null,
           null,
           5.376344086021505,
           null,
           null,
           null,
           1.0752688172043012,
           null,
           null,
           null,
           null,
           null,
           null,
           5.376344086021505,
           2.1505376344086025,
           null,
           1.0752688172043012,
           3.225806451612903,
           null,
           null,
           null,
           null,
           null,
           3.225806451612903,
           null,
           19.35483870967742,
           null,
           null,
           null,
           null,
           null,
           null,
           null,
           null,
           4.301075268817205,
           null,
           null,
           2.1505376344086025,
           2.1505376344086025,
           null,
           null,
           null,
           null,
           null,
           null,
           null,
           1.0752688172043012,
           1.0752688172043012,
           1.0752688172043012,
           null,
           1.0752688172043012,
           1.0752688172043012,
           1.0752688172043012,
           null,
           2.1505376344086025,
           null,
           null,
           null,
           7.526881720430108,
           null,
           2.1505376344086025,
           null,
           null,
           null,
           null,
           1.0752688172043012,
           null,
           null,
           8.60215053763441,
           null,
           1.0752688172043012,
           null,
           null,
           5.376344086021505,
           null,
           null,
           null,
           null,
           null,
           null,
           null,
           null,
           null,
           null,
           1.0752688172043012,
           1.0752688172043012,
           null,
           null,
           null,
           null,
           null,
           null,
           2.010968921389397,
           0.1218769043266301,
           0.1218769043266301,
           0.06093845216331505,
           null,
           0.30469226081657524,
           null,
           null,
           0.1218769043266301,
           0.6093845216331505,
           1.9500304692260817,
           0.4875076173065204,
           null,
           null,
           0.18281535648994518,
           null,
           0.06093845216331505,
           1.401584399756246,
           null,
           null,
           1.218769043266301,
           0.06093845216331505,
           0.18281535648994518,
           0.2437538086532602,
           0.1218769043266301,
           null,
           0.06093845216331505,
           null,
           0.1218769043266301,
           0.1218769043266301,
           0.06093845216331505,
           0.4875076173065204,
           0.5484460694698354,
           2.6203534430225472,
           0.7921998781230957,
           0.1218769043266301,
           3.1687995124923827,
           null,
           7.921998781230958,
           0.06093845216331505,
           0.1218769043266301,
           null,
           0.18281535648994518,
           0.30469226081657524,
           null,
           null,
           0.1218769043266301,
           0.1218769043266301,
           1.6453382084095063,
           1.7672151127361362,
           0.6093845216331505,
           0.1218769043266301,
           2.925045703839123,
           0.18281535648994518,
           0.06093845216331505,
           0.7312614259597807,
           null,
           0.06093845216331505,
           0.06093845216331505,
           1.8890920170627667,
           0.18281535648994518,
           9.506398537477148,
           0.18281535648994518,
           0.1218769043266301,
           0.06093845216331505,
           null,
           null,
           null,
           0.8531383302864107,
           0.36563071297989036,
           1.035953686776356,
           null,
           0.18281535648994518,
           0.6703229737964655,
           1.7062766605728215,
           null,
           0.1218769043266301,
           null,
           0.06093845216331505,
           0.5484460694698354,
           0.18281535648994518,
           null,
           1.035953686776356,
           4.143814747105424,
           1.2797074954296161,
           0.1218769043266301,
           0.18281535648994518,
           0.36563071297989036,
           0.2437538086532602,
           null,
           2.2547227300426567,
           null,
           null,
           0.7921998781230957,
           6.39853747714808,
           0.06093845216331505,
           0.06093845216331505,
           0.36563071297989036,
           0.18281535648994518,
           null,
           null,
           2.010968921389397,
           2.2547227300426567,
           0.30469226081657524,
           6.032906764168191,
           null,
           1.2797074954296161,
           null,
           0.06093845216331505,
           6.703229737964654,
           0.6093845216331505,
           null,
           null,
           0.18281535648994518,
           null,
           0.1218769043266301,
           0.42656916514320536,
           0.18281535648994518,
           0.1218769043266301,
           null,
           0.7921998781230957,
           5.301645338208409,
           1.0968921389396709,
           null,
           0.06093845216331505,
           0.5484460694698354,
           null,
           2.376599634369287,
           1.101468624833111,
           0.08344459279038718,
           0.05006675567423231,
           0.11682242990654204,
           null,
           0.06675567423230974,
           0.016688918558077435,
           null,
           0.18357810413885178,
           0.8511348464619493,
           2.0527369826435247,
           0.36715620827770357,
           null,
           0.016688918558077435,
           0.11682242990654204,
           0.016688918558077435,
           null,
           2.253004005340454,
           0.05006675567423231,
           null,
           1.4686248331108143,
           0.03337783711615487,
           0.10013351134846463,
           0.03337783711615487,
           0.016688918558077435,
           null,
           0.25033377837116155,
           null,
           0.06675567423230974,
           0.30040053404539385,
           0.08344459279038718,
           0.6842456608811749,
           0.31708945260347127,
           3.538050734312417,
           0.6508678237650201,
           0.15020026702269693,
           2.53671562082777,
           0.05006675567423231,
           5.473965287049399,
           0.11682242990654204,
           0.6174899866488652,
           0.016688918558077435,
           0.18357810413885178,
           0.20026702269692925,
           0.08344459279038718,
           0.05006675567423231,
           0.11682242990654204,
           0.016688918558077435,
           1.0013351134846462,
           1.0013351134846462,
           0.9345794392523363,
           0.016688918558077435,
           5.640854472630174,
           0.23364485981308408,
           0.05006675567423231,
           0.9679572763684912,
           null,
           0.18357810413885178,
           0.30040053404539385,
           1.4352469959946597,
           0.06675567423230974,
           7.810413885180241,
           0.08344459279038718,
           0.18357810413885178,
           0.016688918558077435,
           0.03337783711615487,
           0.05006675567423231,
           0.016688918558077435,
           0.7176234979973298,
           0.31708945260347127,
           1.0514018691588785,
           null,
           0.23364485981308408,
           0.6675567423230975,
           1.5353805073431241,
           0.18357810413885178,
           0.18357810413885178,
           0.016688918558077435,
           0.20026702269692925,
           1.0013351134846462,
           0.05006675567423231,
           0.05006675567423231,
           0.43391188251001334,
           4.472630173564753,
           1.1181575433911883,
           0.06675567423230974,
           0.4005340453938585,
           0.35046728971962615,
           0.16688918558077437,
           null,
           3.7216288384512684,
           0.03337783711615487,
           0.05006675567423231,
           0.5674232309746329,
           6.391855807743658,
           0.15020026702269693,
           0.43391188251001334,
           0.25033377837116155,
           0.05006675567423231,
           0.25033377837116155,
           null,
           1.3851802403204272,
           4.155540720961282,
           0.30040053404539385,
           4.0554072096128175,
           0.016688918558077435,
           2.286381842456609,
           0.016688918558077435,
           0.18357810413885178,
           9.412550066755674,
           0.7843791722296396,
           0.03337783711615487,
           0.05006675567423231,
           0.30040053404539385,
           null,
           0.05006675567423231,
           0.7676902536715621,
           0.05006675567423231,
           0.06675567423230974,
           null,
           0.35046728971962615,
           3.1041388518024036,
           1.0180240320427236,
           null,
           0.10013351134846463,
           0.13351134846461948,
           0.06675567423230974,
           1.6688918558077435,
           0.7540603248259862,
           0.014501160092807424,
           0.014501160092807424,
           0.21751740139211137,
           0.014501160092807424,
           0.058004640371229696,
           0.014501160092807424,
           0.029002320185614848,
           0.2610208816705336,
           0.8120649651972157,
           1.91415313225058,
           0.34802784222737815,
           0.029002320185614848,
           0.029002320185614848,
           0.029002320185614848,
           0.14501160092807425,
           0.014501160092807424,
           3.2337587006960558,
           0.029002320185614848,
           0.029002320185614848,
           0.7830626450116009,
           0.058004640371229696,
           0.14501160092807425,
           0.029002320185614848,
           0.029002320185614848,
           0.04350348027842227,
           0.6090487238979118,
           null,
           0.058004640371229696,
           0.4495359628770301,
           0.08700696055684454,
           0.23201856148491878,
           0.2900232018561485,
           3.625290023201856,
           0.2610208816705336,
           0.11600928074245939,
           1.5951276102088168,
           0.029002320185614848,
           7.236078886310906,
           0.08700696055684454,
           0.681554524361949,
           null,
           0.029002320185614848,
           0.18851508120649654,
           0.3190255220417633,
           0.029002320185614848,
           0.014501160092807424,
           0.04350348027842227,
           1.0730858468677493,
           0.8845707656612529,
           1.740139211136891,
           null,
           5.669953596287702,
           0.08700696055684454,
           0.029002320185614848,
           1.5516241299303946,
           null,
           0.3625290023201856,
           0.7975638051044084,
           0.7830626450116009,
           0.04350348027842227,
           3.5237819025522046,
           0.07250580046403712,
           0.058004640371229696,
           0.014501160092807424,
           0.029002320185614848,
           0.11600928074245939,
           0.07250580046403712,
           0.4930394431554524,
           0.14501160092807425,
           1.058584686774942,
           0.014501160092807424,
           0.5365429234338747,
           0.7975638051044084,
           0.9425754060324827,
           0.1305104408352668,
           0.20301624129930393,
           0.04350348027842227,
           0.20301624129930393,
           1.1020881670533642,
           0.029002320185614848,
           0.07250580046403712,
           0.39153132250580047,
           3.784802784222738,
           1.5951276102088168,
           0.04350348027842227,
           0.40603248259860786,
           0.23201856148491878,
           0.10150812064965196,
           null,
           5.35092807424594,
           0.029002320185614848,
           0.11600928074245939,
           0.7975638051044084,
           6.003480278422274,
           0.029002320185614848,
           0.4495359628770301,
           0.2900232018561485,
           0.04350348027842227,
           0.15951276102088166,
           0.029002320185614848,
           1.261600928074246,
           4.364849187935035,
           0.21751740139211137,
           2.8857308584686776,
           0.04350348027842227,
           3.074245939675174,
           0.014501160092807424,
           0.6090487238979118,
           13.74709976798144,
           1.3486078886310906,
           0.014501160092807424,
           0.014501160092807424,
           0.27552204176334105,
           0.029002320185614848,
           0.15951276102088166,
           0.7540603248259862,
           0.14501160092807425,
           0.10150812064965196,
           null,
           0.21751740139211137,
           1.1020881670533642,
           0.4930394431554524,
           null,
           0.058004640371229696,
           0.08700696055684454,
           0.10150812064965196,
           1.2906032482598608,
           0.8382016764033527,
           0.0762001524003048,
           null,
           0.025400050800101593,
           null,
           0.025400050800101593,
           null,
           0.25400050800101603,
           0.5080010160020321,
           0.7112014224028448,
           0.7620015240030481,
           0.10160020320040637,
           0.10160020320040637,
           0.050800101600203186,
           0.025400050800101593,
           0.27940055880111764,
           0.025400050800101593,
           3.911607823215647,
           null,
           0.0762001524003048,
           0.1778003556007112,
           null,
           0.1524003048006096,
           null,
           null,
           0.025400050800101593,
           0.27940055880111764,
           null,
           0.050800101600203186,
           1.4732029464058927,
           0.20320040640081274,
           0.10160020320040637,
           0.4572009144018288,
           3.606807213614427,
           0.25400050800101603,
           0.0762001524003048,
           0.9398018796037593,
           0.050800101600203186,
           8.712217424434849,
           0.10160020320040637,
           0.4064008128016255,
           null,
           null,
           0.12700025400050802,
           0.6096012192024384,
           null,
           0.025400050800101593,
           null,
           0.889001778003556,
           0.4572009144018288,
           2.3876047752095504,
           null,
           3.8100076200152397,
           0.050800101600203186,
           null,
           1.2446024892049785,
           null,
           1.0160020320040641,
           2.2098044196088393,
           0.2286004572009144,
           0.050800101600203186,
           0.7112014224028448,
           null,
           0.0762001524003048,
           null,
           0.025400050800101593,
           0.050800101600203186,
           null,
           0.3048006096012192,
           0.050800101600203186,
           1.0668021336042672,
           0.10160020320040637,
           1.3716027432054865,
           1.1684023368046736,
           0.7112014224028448,
           0.050800101600203186,
           0.27940055880111764,
           null,
           0.1778003556007112,
           0.4826009652019304,
           0.050800101600203186,
           0.025400050800101593,
           0.3302006604013208,
           2.082804165608331,
           1.6764033528067055,
           0.12700025400050802,
           0.5588011176022353,
           0.4826009652019304,
           null,
           0.025400050800101593,
           5.232410464820929,
           null,
           0.63500127000254,
           0.5842011684023368,
           6.19761239522479,
           0.050800101600203186,
           0.63500127000254,
           0.4572009144018288,
           0.050800101600203186,
           0.27940055880111764,
           null,
           0.7620015240030481,
           4.876809753619507,
           0.10160020320040637,
           3.022606045212091,
           0.050800101600203186,
           1.778003556007112,
           0.025400050800101593,
           0.9906019812039624,
           17.856235712471424,
           1.9558039116078234,
           0.025400050800101593,
           null,
           0.1524003048006096,
           null,
           0.1524003048006096,
           0.2286004572009144,
           0.27940055880111764,
           0.1778003556007112,
           0.025400050800101593,
           0.12700025400050802,
           0.4572009144018288,
           0.4064008128016255,
           0.050800101600203186,
           null,
           null,
           0.1778003556007112,
           2.2606045212090424,
           0.2987303958177745,
           0.22404779686333084,
           null,
           0.14936519790888725,
           null,
           0.07468259895444362,
           null,
           0.37341299477221807,
           0.6721433905899925,
           0.7468259895444361,
           0.4480955937266617,
           0.14936519790888725,
           0.5227781926811054,
           0.37341299477221807,
           null,
           0.22404779686333084,
           0.07468259895444362,
           4.256908140403286,
           null,
           0.07468259895444362,
           0.07468259895444362,
           0.07468259895444362,
           0.07468259895444362,
           null,
           null,
           null,
           0.07468259895444362,
           0.07468259895444362,
           null,
           1.0455563853622107,
           0.14936519790888725,
           0.22404779686333084,
           0.14936519790888725,
           4.929051530993279,
           0.14936519790888725,
           0.22404779686333084,
           1.1202389843166543,
           0.07468259895444362,
           7.3935772964899185,
           0.22404779686333084,
           0.37341299477221807,
           null,
           null,
           0.14936519790888725,
           0.7468259895444361,
           null,
           null,
           null,
           0.8215085884988798,
           0.37341299477221807,
           2.389843166542196,
           null,
           3.286034353995519,
           0.07468259895444362,
           null,
           0.8215085884988798,
           0.22404779686333084,
           0.6721433905899925,
           2.389843166542196,
           null,
           0.4480955937266617,
           0.22404779686333084,
           null,
           null,
           null,
           null,
           0.5227781926811054,
           null,
           null,
           0.07468259895444362,
           1.568334578043316,
           0.2987303958177745,
           3.061986557132188,
           0.6721433905899925,
           0.5227781926811054,
           0.07468259895444362,
           0.07468259895444362,
           null,
           0.22404779686333084,
           0.5227781926811054,
           null,
           null,
           0.07468259895444362,
           0.8215085884988798,
           1.6430171769977595,
           null,
           0.37341299477221807,
           0.22404779686333084,
           null,
           null,
           4.929051530993279,
           null,
           0.9708737864077669,
           0.2987303958177745,
           5.1530993278566095,
           null,
           0.4480955937266617,
           0.7468259895444361,
           0.07468259895444362,
           0.37341299477221807,
           null,
           1.2696041822255415,
           5.3024645257654965,
           0.597460791635549,
           3.51008215085885,
           0.07468259895444362,
           1.7176997759522032,
           null,
           1.0455563853622107,
           20.089619118745333,
           0.9708737864077669,
           0.07468259895444362,
           null,
           0.14936519790888725,
           null,
           0.22404779686333084,
           0.22404779686333084,
           0.4480955937266617,
           0.6721433905899925,
           null,
           0.14936519790888725,
           null,
           0.4480955937266617,
           null,
           0.07468259895444362,
           0.07468259895444362,
           0.14936519790888725,
           1.2696041822255415,
           null,
           null,
           null,
           null,
           null,
           null,
           null,
           1.875,
           3.125,
           1.25,
           null,
           null,
           0.625,
           null,
           null,
           null,
           null,
           3.125,
           null,
           null,
           null,
           0.625,
           null,
           null,
           null,
           null,
           null,
           null,
           null,
           1.25,
           null,
           null,
           null,
           3.75,
           0.625,
           null,
           2.5,
           null,
           5,
           null,
           0.625,
           null,
           null,
           null,
           null,
           null,
           null,
           null,
           1.25,
           0.625,
           3.125,
           null,
           5.625,
           null,
           null,
           null,
           null,
           1.25,
           2.5,
           null,
           null,
           0.625,
           null,
           1.875,
           null,
           null,
           null,
           null,
           null,
           null,
           3.125,
           null,
           5,
           0.625,
           1.25,
           null,
           null,
           null,
           null,
           null,
           null,
           null,
           null,
           null,
           0.625,
           null,
           null,
           null,
           null,
           null,
           5.625,
           null,
           0.625,
           null,
           6.875000000000001,
           null,
           0.625,
           0.625,
           null,
           null,
           null,
           0.625,
           5,
           null,
           0.625,
           null,
           0.625,
           null,
           0.625,
           20.625,
           null,
           0.625,
           null,
           null,
           0.625,
           0.625,
           null,
           null,
           0.625,
           null,
           0.625,
           null,
           1.25,
           null,
           null,
           null,
           null,
           1.25,
           2.6994349407077207,
           0.15003951588899755,
           0.09424205760822647,
           0.15372496129021046,
           0.014501160092807424,
           0.7870642653012648,
           0.015671767043187776,
           1.4696991397316392,
           2.1742568027484634,
           0.8796682567845319,
           1.7485246521827595,
           0.6652730866069984,
           0.5280788157430151,
           0.3046100213797033,
           0.1371461141968525,
           0.22486540612458467,
           0.05780709322626668,
           3.337679348857007,
           0.042340378504313374,
           0.06796054994383319,
           1.5182567998085752,
           0.47463958807289613,
           0.14240260488107434,
           0.20047149498166728,
           0.09532620040031145,
           0.036829975724912915,
           0.4087894895268923,
           0.07468259895444362,
           0.0849102877628314,
           1.1061548679824333,
           0.14015975244482226,
           0.47426796661176496,
           0.4067787329357554,
           3.6746920797736418,
           2.857177323772981,
           0.15526774709356886,
           2.3108964412345414,
           0.05624959954275004,
           6.994836361409455,
           0.14473053847430215,
           0.5506136264266418,
           0.016688918558077435,
           0.8323900230991148,
           0.213356075238686,
           0.5902010168392061,
           0.042340378504313374,
           0.10537275204867576,
           0.09350863825716804,
           1.180943904272588,
           3.2953836035303286,
           2.25501361697042,
           0.10920802471956993,
           4.660165036714876,
           2.726389450691736,
           0.0504352133892732,
           1.1478628220249816,
           0.22404779686333084,
           0.9069690677824915,
           2.1280548194714832,
           2.2084498673891324,
           0.307007305204577,
           12.916748077093326,
           0.13472892631522185,
           1.5437909708148851,
           0.04561343333707328,
           0.029623729808562555,
           0.39456609688505806,
           0.06206209475469541,
           0.6665619124260016,
           0.2763470904404502,
           2.6623348081027722,
           0.24051373147915395,
           3.526945497895805,
           1.2387495357280094,
           1.4881517927741672,
           0.13397608918793152,
           0.20104547109352197,
           0.03606888645309668,
           0.19264768044576364,
           0.826923342071196,
           0.12584542955783587,
           0.056827637758818494,
           0.8036959388700343,
           3.5205486275074422,
           1.3857164092225498,
           0.10394915754407354,
           0.6562225719145722,
           0.640889379589439,
           0.7898192670778755,
           0.025400050800101593,
           4.630417553664926,
           0.03134353408637555,
           0.7311005887958684,
           0.6631941031308152,
           6.436498846035819,
           0.10206669282074893,
           1.252030596053969,
           0.5257277283887456,
           0.11441267972370325,
           0.2875926747116276,
           0.029002320185614848,
           1.3461539526158794,
           4.558135220016784,
           0.3927745211293993,
           5.46442588487882,
           0.05563058127894005,
           2.0255302292658524,
           0.020038233492737603,
           0.8175493985518908,
           15.981713422802683,
           1.3358691895910553,
           0.5151251920273167,
           0.04207916014485083,
           0.2311262161715994,
           0.5985699476800715,
           0.3802622320778516,
           0.6007460896606879,
           0.3037940212915527,
           0.5119465557181372,
           0.025400050800101593,
           0.7141499013065791,
           3.6523284344727616,
           0.9360486747047552,
           0.050800101600203186,
           0.07721373056275124,
           0.39325225115148327,
           0.1386335864460165,
           1.8172458229780981
          ]
         },
         "name": "",
         "parents": [
          "Alekhine Defense",
          "Amar Opening",
          "Amazon Attack",
          "Anderssen Opening",
          "Australian Defense",
          "Barnes Defense",
          "Barnes Opening",
          "Benko Gambit",
          "Benoni Defense",
          "Bird Opening",
          "Bishop's Opening",
          "Blackmar-Diemer Gambit",
          "Blumenfeld Countergambit",
          "Bogo-Indian Defense",
          "Borg Defense",
          "Budapest Defense",
          "Canard Opening",
          "Caro-Kann Defense",
          "Carr Defense",
          "Catalan Opening",
          "Center Game",
          "Clemenz Opening",
          "Colle System",
          "Crab Opening",
          "Creepy Crawly Formation",
          "Czech Defense",
          "Danish Gambit",
          "Doery Defense",
          "Duras Gambit",
          "Dutch Defense",
          "East Indian Defense",
          "Elephant Gambit",
          "English Defense",
          "English Opening",
          "Englund Gambit",
          "Englund Gambit Complex",
          "Four Knights Game",
          "Franco-Benoni Defense",
          "French Defense",
          "Gedult's Opening",
          "Giuoco Piano",
          "Global Opening",
          "Goldsmith Defense",
          "Grob Opening",
          "Gruenfeld Defense",
          "Guatemala Defense",
          "Gunderam Defense",
          "Hippopotamus Defense",
          "Horwitz Defense",
          "Hungarian Opening",
          "Indian Game",
          "Irish Gambit",
          "Italian Game",
          "Kadas Opening",
          "Kangaroo Defense",
          "King's Gambit",
          "King's Indian",
          "King's Indian Attack",
          "King's Indian Defense",
          "King's Knight Opening",
          "King's Pawn",
          "King's Pawn Game",
          "King's Pawn Opening",
          "Latvian Gambit",
          "Lemming Defense",
          "Lion Defense",
          "London System",
          "Mexican Defense",
          "Mieses Opening",
          "Mikenas Defense",
          "Modern Defense",
          "Neo-Gruenfeld Defense",
          "Nimzo-Indian Defense",
          "Nimzo-Larsen Attack",
          "Nimzowitsch Defense",
          "Nimzowitsch-Larsen Attack",
          "Old Benoni Defense",
          "Old Indian",
          "Old Indian Defense",
          "Owen Defense",
          "Paleface Attack",
          "Petrov",
          "Petrov's Defense",
          "Philidor Defense",
          "Pirc Defense",
          "Polish Defense",
          "Polish Opening",
          "Ponziani Opening",
          "Portuguese Opening",
          "Pterodactyl Defense",
          "Queen's Gambit",
          "Queen's Indian Accelerated",
          "Queen's Indian Defense",
          "Queen's Pawn",
          "Queen's Pawn Game",
          "Queen's Pawn Opening",
          "Rat Defense",
          "Reti Opening",
          "Richter-Veresov Attack",
          "Robatsch (Modern) Defense",
          "Rubinstein Opening",
          "Russian Game",
          "Ruy Lopez",
          "Saragossa Opening",
          "Scandinavian Defense",
          "Scotch Gambit",
          "Scotch Game",
          "Semi-Bononi",
          "Semi-Slav Defense",
          "Sicilian Defense",
          "Slav Defense",
          "Slav Indian",
          "Sodium Attack",
          "St. George Defense",
          "System",
          "Tarrasch Defense",
          "Three Knights Opening",
          "Torre Attack",
          "Trompowsky Attack",
          "Valencia Opening",
          "Van Geet Opening",
          "Van't Kruijs Opening",
          "Vienna Game",
          "Wade Defense",
          "Ware Defense",
          "Ware Opening",
          "Yusupov-Rubinstein System",
          "Zukertort Opening",
          "Alekhine Defense",
          "Amar Opening",
          "Amazon Attack",
          "Anderssen Opening",
          "Australian Defense",
          "Barnes Defense",
          "Barnes Opening",
          "Benko Gambit",
          "Benoni Defense",
          "Bird Opening",
          "Bishop's Opening",
          "Blackmar-Diemer Gambit",
          "Blumenfeld Countergambit",
          "Bogo-Indian Defense",
          "Borg Defense",
          "Budapest Defense",
          "Canard Opening",
          "Caro-Kann Defense",
          "Carr Defense",
          "Catalan Opening",
          "Center Game",
          "Clemenz Opening",
          "Colle System",
          "Crab Opening",
          "Creepy Crawly Formation",
          "Czech Defense",
          "Danish Gambit",
          "Doery Defense",
          "Duras Gambit",
          "Dutch Defense",
          "East Indian Defense",
          "Elephant Gambit",
          "English Defense",
          "English Opening",
          "Englund Gambit",
          "Englund Gambit Complex",
          "Four Knights Game",
          "Franco-Benoni Defense",
          "French Defense",
          "Gedult's Opening",
          "Giuoco Piano",
          "Global Opening",
          "Goldsmith Defense",
          "Grob Opening",
          "Gruenfeld Defense",
          "Guatemala Defense",
          "Gunderam Defense",
          "Hippopotamus Defense",
          "Horwitz Defense",
          "Hungarian Opening",
          "Indian Game",
          "Irish Gambit",
          "Italian Game",
          "Kadas Opening",
          "Kangaroo Defense",
          "King's Gambit",
          "King's Indian",
          "King's Indian Attack",
          "King's Indian Defense",
          "King's Knight Opening",
          "King's Pawn",
          "King's Pawn Game",
          "King's Pawn Opening",
          "Latvian Gambit",
          "Lemming Defense",
          "Lion Defense",
          "London System",
          "Mexican Defense",
          "Mieses Opening",
          "Mikenas Defense",
          "Modern Defense",
          "Neo-Gruenfeld Defense",
          "Nimzo-Indian Defense",
          "Nimzo-Larsen Attack",
          "Nimzowitsch Defense",
          "Nimzowitsch-Larsen Attack",
          "Old Benoni Defense",
          "Old Indian",
          "Old Indian Defense",
          "Owen Defense",
          "Paleface Attack",
          "Petrov",
          "Petrov's Defense",
          "Philidor Defense",
          "Pirc Defense",
          "Polish Defense",
          "Polish Opening",
          "Ponziani Opening",
          "Portuguese Opening",
          "Pterodactyl Defense",
          "Queen's Gambit",
          "Queen's Indian Accelerated",
          "Queen's Indian Defense",
          "Queen's Pawn",
          "Queen's Pawn Game",
          "Queen's Pawn Opening",
          "Rat Defense",
          "Reti Opening",
          "Richter-Veresov Attack",
          "Robatsch (Modern) Defense",
          "Rubinstein Opening",
          "Russian Game",
          "Ruy Lopez",
          "Saragossa Opening",
          "Scandinavian Defense",
          "Scotch Gambit",
          "Scotch Game",
          "Semi-Bononi",
          "Semi-Slav Defense",
          "Sicilian Defense",
          "Slav Defense",
          "Slav Indian",
          "Sodium Attack",
          "St. George Defense",
          "System",
          "Tarrasch Defense",
          "Three Knights Opening",
          "Torre Attack",
          "Trompowsky Attack",
          "Valencia Opening",
          "Van Geet Opening",
          "Van't Kruijs Opening",
          "Vienna Game",
          "Wade Defense",
          "Ware Defense",
          "Ware Opening",
          "Yusupov-Rubinstein System",
          "Zukertort Opening",
          "Alekhine Defense",
          "Amar Opening",
          "Amazon Attack",
          "Anderssen Opening",
          "Australian Defense",
          "Barnes Defense",
          "Barnes Opening",
          "Benko Gambit",
          "Benoni Defense",
          "Bird Opening",
          "Bishop's Opening",
          "Blackmar-Diemer Gambit",
          "Blumenfeld Countergambit",
          "Bogo-Indian Defense",
          "Borg Defense",
          "Budapest Defense",
          "Canard Opening",
          "Caro-Kann Defense",
          "Carr Defense",
          "Catalan Opening",
          "Center Game",
          "Clemenz Opening",
          "Colle System",
          "Crab Opening",
          "Creepy Crawly Formation",
          "Czech Defense",
          "Danish Gambit",
          "Doery Defense",
          "Duras Gambit",
          "Dutch Defense",
          "East Indian Defense",
          "Elephant Gambit",
          "English Defense",
          "English Opening",
          "Englund Gambit",
          "Englund Gambit Complex",
          "Four Knights Game",
          "Franco-Benoni Defense",
          "French Defense",
          "Gedult's Opening",
          "Giuoco Piano",
          "Global Opening",
          "Goldsmith Defense",
          "Grob Opening",
          "Gruenfeld Defense",
          "Guatemala Defense",
          "Gunderam Defense",
          "Hippopotamus Defense",
          "Horwitz Defense",
          "Hungarian Opening",
          "Indian Game",
          "Irish Gambit",
          "Italian Game",
          "Kadas Opening",
          "Kangaroo Defense",
          "King's Gambit",
          "King's Indian",
          "King's Indian Attack",
          "King's Indian Defense",
          "King's Knight Opening",
          "King's Pawn",
          "King's Pawn Game",
          "King's Pawn Opening",
          "Latvian Gambit",
          "Lemming Defense",
          "Lion Defense",
          "London System",
          "Mexican Defense",
          "Mieses Opening",
          "Mikenas Defense",
          "Modern Defense",
          "Neo-Gruenfeld Defense",
          "Nimzo-Indian Defense",
          "Nimzo-Larsen Attack",
          "Nimzowitsch Defense",
          "Nimzowitsch-Larsen Attack",
          "Old Benoni Defense",
          "Old Indian",
          "Old Indian Defense",
          "Owen Defense",
          "Paleface Attack",
          "Petrov",
          "Petrov's Defense",
          "Philidor Defense",
          "Pirc Defense",
          "Polish Defense",
          "Polish Opening",
          "Ponziani Opening",
          "Portuguese Opening",
          "Pterodactyl Defense",
          "Queen's Gambit",
          "Queen's Indian Accelerated",
          "Queen's Indian Defense",
          "Queen's Pawn",
          "Queen's Pawn Game",
          "Queen's Pawn Opening",
          "Rat Defense",
          "Reti Opening",
          "Richter-Veresov Attack",
          "Robatsch (Modern) Defense",
          "Rubinstein Opening",
          "Russian Game",
          "Ruy Lopez",
          "Saragossa Opening",
          "Scandinavian Defense",
          "Scotch Gambit",
          "Scotch Game",
          "Semi-Bononi",
          "Semi-Slav Defense",
          "Sicilian Defense",
          "Slav Defense",
          "Slav Indian",
          "Sodium Attack",
          "St. George Defense",
          "System",
          "Tarrasch Defense",
          "Three Knights Opening",
          "Torre Attack",
          "Trompowsky Attack",
          "Valencia Opening",
          "Van Geet Opening",
          "Van't Kruijs Opening",
          "Vienna Game",
          "Wade Defense",
          "Ware Defense",
          "Ware Opening",
          "Yusupov-Rubinstein System",
          "Zukertort Opening",
          "Alekhine Defense",
          "Amar Opening",
          "Amazon Attack",
          "Anderssen Opening",
          "Australian Defense",
          "Barnes Defense",
          "Barnes Opening",
          "Benko Gambit",
          "Benoni Defense",
          "Bird Opening",
          "Bishop's Opening",
          "Blackmar-Diemer Gambit",
          "Blumenfeld Countergambit",
          "Bogo-Indian Defense",
          "Borg Defense",
          "Budapest Defense",
          "Canard Opening",
          "Caro-Kann Defense",
          "Carr Defense",
          "Catalan Opening",
          "Center Game",
          "Clemenz Opening",
          "Colle System",
          "Crab Opening",
          "Creepy Crawly Formation",
          "Czech Defense",
          "Danish Gambit",
          "Doery Defense",
          "Duras Gambit",
          "Dutch Defense",
          "East Indian Defense",
          "Elephant Gambit",
          "English Defense",
          "English Opening",
          "Englund Gambit",
          "Englund Gambit Complex",
          "Four Knights Game",
          "Franco-Benoni Defense",
          "French Defense",
          "Gedult's Opening",
          "Giuoco Piano",
          "Global Opening",
          "Goldsmith Defense",
          "Grob Opening",
          "Gruenfeld Defense",
          "Guatemala Defense",
          "Gunderam Defense",
          "Hippopotamus Defense",
          "Horwitz Defense",
          "Hungarian Opening",
          "Indian Game",
          "Irish Gambit",
          "Italian Game",
          "Kadas Opening",
          "Kangaroo Defense",
          "King's Gambit",
          "King's Indian",
          "King's Indian Attack",
          "King's Indian Defense",
          "King's Knight Opening",
          "King's Pawn",
          "King's Pawn Game",
          "King's Pawn Opening",
          "Latvian Gambit",
          "Lemming Defense",
          "Lion Defense",
          "London System",
          "Mexican Defense",
          "Mieses Opening",
          "Mikenas Defense",
          "Modern Defense",
          "Neo-Gruenfeld Defense",
          "Nimzo-Indian Defense",
          "Nimzo-Larsen Attack",
          "Nimzowitsch Defense",
          "Nimzowitsch-Larsen Attack",
          "Old Benoni Defense",
          "Old Indian",
          "Old Indian Defense",
          "Owen Defense",
          "Paleface Attack",
          "Petrov",
          "Petrov's Defense",
          "Philidor Defense",
          "Pirc Defense",
          "Polish Defense",
          "Polish Opening",
          "Ponziani Opening",
          "Portuguese Opening",
          "Pterodactyl Defense",
          "Queen's Gambit",
          "Queen's Indian Accelerated",
          "Queen's Indian Defense",
          "Queen's Pawn",
          "Queen's Pawn Game",
          "Queen's Pawn Opening",
          "Rat Defense",
          "Reti Opening",
          "Richter-Veresov Attack",
          "Robatsch (Modern) Defense",
          "Rubinstein Opening",
          "Russian Game",
          "Ruy Lopez",
          "Saragossa Opening",
          "Scandinavian Defense",
          "Scotch Gambit",
          "Scotch Game",
          "Semi-Bononi",
          "Semi-Slav Defense",
          "Sicilian Defense",
          "Slav Defense",
          "Slav Indian",
          "Sodium Attack",
          "St. George Defense",
          "System",
          "Tarrasch Defense",
          "Three Knights Opening",
          "Torre Attack",
          "Trompowsky Attack",
          "Valencia Opening",
          "Van Geet Opening",
          "Van't Kruijs Opening",
          "Vienna Game",
          "Wade Defense",
          "Ware Defense",
          "Ware Opening",
          "Yusupov-Rubinstein System",
          "Zukertort Opening",
          "Alekhine Defense",
          "Amar Opening",
          "Amazon Attack",
          "Anderssen Opening",
          "Australian Defense",
          "Barnes Defense",
          "Barnes Opening",
          "Benko Gambit",
          "Benoni Defense",
          "Bird Opening",
          "Bishop's Opening",
          "Blackmar-Diemer Gambit",
          "Blumenfeld Countergambit",
          "Bogo-Indian Defense",
          "Borg Defense",
          "Budapest Defense",
          "Canard Opening",
          "Caro-Kann Defense",
          "Carr Defense",
          "Catalan Opening",
          "Center Game",
          "Clemenz Opening",
          "Colle System",
          "Crab Opening",
          "Creepy Crawly Formation",
          "Czech Defense",
          "Danish Gambit",
          "Doery Defense",
          "Duras Gambit",
          "Dutch Defense",
          "East Indian Defense",
          "Elephant Gambit",
          "English Defense",
          "English Opening",
          "Englund Gambit",
          "Englund Gambit Complex",
          "Four Knights Game",
          "Franco-Benoni Defense",
          "French Defense",
          "Gedult's Opening",
          "Giuoco Piano",
          "Global Opening",
          "Goldsmith Defense",
          "Grob Opening",
          "Gruenfeld Defense",
          "Guatemala Defense",
          "Gunderam Defense",
          "Hippopotamus Defense",
          "Horwitz Defense",
          "Hungarian Opening",
          "Indian Game",
          "Irish Gambit",
          "Italian Game",
          "Kadas Opening",
          "Kangaroo Defense",
          "King's Gambit",
          "King's Indian",
          "King's Indian Attack",
          "King's Indian Defense",
          "King's Knight Opening",
          "King's Pawn",
          "King's Pawn Game",
          "King's Pawn Opening",
          "Latvian Gambit",
          "Lemming Defense",
          "Lion Defense",
          "London System",
          "Mexican Defense",
          "Mieses Opening",
          "Mikenas Defense",
          "Modern Defense",
          "Neo-Gruenfeld Defense",
          "Nimzo-Indian Defense",
          "Nimzo-Larsen Attack",
          "Nimzowitsch Defense",
          "Nimzowitsch-Larsen Attack",
          "Old Benoni Defense",
          "Old Indian",
          "Old Indian Defense",
          "Owen Defense",
          "Paleface Attack",
          "Petrov",
          "Petrov's Defense",
          "Philidor Defense",
          "Pirc Defense",
          "Polish Defense",
          "Polish Opening",
          "Ponziani Opening",
          "Portuguese Opening",
          "Pterodactyl Defense",
          "Queen's Gambit",
          "Queen's Indian Accelerated",
          "Queen's Indian Defense",
          "Queen's Pawn",
          "Queen's Pawn Game",
          "Queen's Pawn Opening",
          "Rat Defense",
          "Reti Opening",
          "Richter-Veresov Attack",
          "Robatsch (Modern) Defense",
          "Rubinstein Opening",
          "Russian Game",
          "Ruy Lopez",
          "Saragossa Opening",
          "Scandinavian Defense",
          "Scotch Gambit",
          "Scotch Game",
          "Semi-Bononi",
          "Semi-Slav Defense",
          "Sicilian Defense",
          "Slav Defense",
          "Slav Indian",
          "Sodium Attack",
          "St. George Defense",
          "System",
          "Tarrasch Defense",
          "Three Knights Opening",
          "Torre Attack",
          "Trompowsky Attack",
          "Valencia Opening",
          "Van Geet Opening",
          "Van't Kruijs Opening",
          "Vienna Game",
          "Wade Defense",
          "Ware Defense",
          "Ware Opening",
          "Yusupov-Rubinstein System",
          "Zukertort Opening",
          "Alekhine Defense",
          "Amar Opening",
          "Amazon Attack",
          "Anderssen Opening",
          "Australian Defense",
          "Barnes Defense",
          "Barnes Opening",
          "Benko Gambit",
          "Benoni Defense",
          "Bird Opening",
          "Bishop's Opening",
          "Blackmar-Diemer Gambit",
          "Blumenfeld Countergambit",
          "Bogo-Indian Defense",
          "Borg Defense",
          "Budapest Defense",
          "Canard Opening",
          "Caro-Kann Defense",
          "Carr Defense",
          "Catalan Opening",
          "Center Game",
          "Clemenz Opening",
          "Colle System",
          "Crab Opening",
          "Creepy Crawly Formation",
          "Czech Defense",
          "Danish Gambit",
          "Doery Defense",
          "Duras Gambit",
          "Dutch Defense",
          "East Indian Defense",
          "Elephant Gambit",
          "English Defense",
          "English Opening",
          "Englund Gambit",
          "Englund Gambit Complex",
          "Four Knights Game",
          "Franco-Benoni Defense",
          "French Defense",
          "Gedult's Opening",
          "Giuoco Piano",
          "Global Opening",
          "Goldsmith Defense",
          "Grob Opening",
          "Gruenfeld Defense",
          "Guatemala Defense",
          "Gunderam Defense",
          "Hippopotamus Defense",
          "Horwitz Defense",
          "Hungarian Opening",
          "Indian Game",
          "Irish Gambit",
          "Italian Game",
          "Kadas Opening",
          "Kangaroo Defense",
          "King's Gambit",
          "King's Indian",
          "King's Indian Attack",
          "King's Indian Defense",
          "King's Knight Opening",
          "King's Pawn",
          "King's Pawn Game",
          "King's Pawn Opening",
          "Latvian Gambit",
          "Lemming Defense",
          "Lion Defense",
          "London System",
          "Mexican Defense",
          "Mieses Opening",
          "Mikenas Defense",
          "Modern Defense",
          "Neo-Gruenfeld Defense",
          "Nimzo-Indian Defense",
          "Nimzo-Larsen Attack",
          "Nimzowitsch Defense",
          "Nimzowitsch-Larsen Attack",
          "Old Benoni Defense",
          "Old Indian",
          "Old Indian Defense",
          "Owen Defense",
          "Paleface Attack",
          "Petrov",
          "Petrov's Defense",
          "Philidor Defense",
          "Pirc Defense",
          "Polish Defense",
          "Polish Opening",
          "Ponziani Opening",
          "Portuguese Opening",
          "Pterodactyl Defense",
          "Queen's Gambit",
          "Queen's Indian Accelerated",
          "Queen's Indian Defense",
          "Queen's Pawn",
          "Queen's Pawn Game",
          "Queen's Pawn Opening",
          "Rat Defense",
          "Reti Opening",
          "Richter-Veresov Attack",
          "Robatsch (Modern) Defense",
          "Rubinstein Opening",
          "Russian Game",
          "Ruy Lopez",
          "Saragossa Opening",
          "Scandinavian Defense",
          "Scotch Gambit",
          "Scotch Game",
          "Semi-Bononi",
          "Semi-Slav Defense",
          "Sicilian Defense",
          "Slav Defense",
          "Slav Indian",
          "Sodium Attack",
          "St. George Defense",
          "System",
          "Tarrasch Defense",
          "Three Knights Opening",
          "Torre Attack",
          "Trompowsky Attack",
          "Valencia Opening",
          "Van Geet Opening",
          "Van't Kruijs Opening",
          "Vienna Game",
          "Wade Defense",
          "Ware Defense",
          "Ware Opening",
          "Yusupov-Rubinstein System",
          "Zukertort Opening",
          "Alekhine Defense",
          "Amar Opening",
          "Amazon Attack",
          "Anderssen Opening",
          "Australian Defense",
          "Barnes Defense",
          "Barnes Opening",
          "Benko Gambit",
          "Benoni Defense",
          "Bird Opening",
          "Bishop's Opening",
          "Blackmar-Diemer Gambit",
          "Blumenfeld Countergambit",
          "Bogo-Indian Defense",
          "Borg Defense",
          "Budapest Defense",
          "Canard Opening",
          "Caro-Kann Defense",
          "Carr Defense",
          "Catalan Opening",
          "Center Game",
          "Clemenz Opening",
          "Colle System",
          "Crab Opening",
          "Creepy Crawly Formation",
          "Czech Defense",
          "Danish Gambit",
          "Doery Defense",
          "Duras Gambit",
          "Dutch Defense",
          "East Indian Defense",
          "Elephant Gambit",
          "English Defense",
          "English Opening",
          "Englund Gambit",
          "Englund Gambit Complex",
          "Four Knights Game",
          "Franco-Benoni Defense",
          "French Defense",
          "Gedult's Opening",
          "Giuoco Piano",
          "Global Opening",
          "Goldsmith Defense",
          "Grob Opening",
          "Gruenfeld Defense",
          "Guatemala Defense",
          "Gunderam Defense",
          "Hippopotamus Defense",
          "Horwitz Defense",
          "Hungarian Opening",
          "Indian Game",
          "Irish Gambit",
          "Italian Game",
          "Kadas Opening",
          "Kangaroo Defense",
          "King's Gambit",
          "King's Indian",
          "King's Indian Attack",
          "King's Indian Defense",
          "King's Knight Opening",
          "King's Pawn",
          "King's Pawn Game",
          "King's Pawn Opening",
          "Latvian Gambit",
          "Lemming Defense",
          "Lion Defense",
          "London System",
          "Mexican Defense",
          "Mieses Opening",
          "Mikenas Defense",
          "Modern Defense",
          "Neo-Gruenfeld Defense",
          "Nimzo-Indian Defense",
          "Nimzo-Larsen Attack",
          "Nimzowitsch Defense",
          "Nimzowitsch-Larsen Attack",
          "Old Benoni Defense",
          "Old Indian",
          "Old Indian Defense",
          "Owen Defense",
          "Paleface Attack",
          "Petrov",
          "Petrov's Defense",
          "Philidor Defense",
          "Pirc Defense",
          "Polish Defense",
          "Polish Opening",
          "Ponziani Opening",
          "Portuguese Opening",
          "Pterodactyl Defense",
          "Queen's Gambit",
          "Queen's Indian Accelerated",
          "Queen's Indian Defense",
          "Queen's Pawn",
          "Queen's Pawn Game",
          "Queen's Pawn Opening",
          "Rat Defense",
          "Reti Opening",
          "Richter-Veresov Attack",
          "Robatsch (Modern) Defense",
          "Rubinstein Opening",
          "Russian Game",
          "Ruy Lopez",
          "Saragossa Opening",
          "Scandinavian Defense",
          "Scotch Gambit",
          "Scotch Game",
          "Semi-Bononi",
          "Semi-Slav Defense",
          "Sicilian Defense",
          "Slav Defense",
          "Slav Indian",
          "Sodium Attack",
          "St. George Defense",
          "System",
          "Tarrasch Defense",
          "Three Knights Opening",
          "Torre Attack",
          "Trompowsky Attack",
          "Valencia Opening",
          "Van Geet Opening",
          "Van't Kruijs Opening",
          "Vienna Game",
          "Wade Defense",
          "Ware Defense",
          "Ware Opening",
          "Yusupov-Rubinstein System",
          "Zukertort Opening",
          "",
          "",
          "",
          "",
          "",
          "",
          "",
          "",
          "",
          "",
          "",
          "",
          "",
          "",
          "",
          "",
          "",
          "",
          "",
          "",
          "",
          "",
          "",
          "",
          "",
          "",
          "",
          "",
          "",
          "",
          "",
          "",
          "",
          "",
          "",
          "",
          "",
          "",
          "",
          "",
          "",
          "",
          "",
          "",
          "",
          "",
          "",
          "",
          "",
          "",
          "",
          "",
          "",
          "",
          "",
          "",
          "",
          "",
          "",
          "",
          "",
          "",
          "",
          "",
          "",
          "",
          "",
          "",
          "",
          "",
          "",
          "",
          "",
          "",
          "",
          "",
          "",
          "",
          "",
          "",
          "",
          "",
          "",
          "",
          "",
          "",
          "",
          "",
          "",
          "",
          "",
          "",
          "",
          "",
          "",
          "",
          "",
          "",
          "",
          "",
          "",
          "",
          "",
          "",
          "",
          "",
          "",
          "",
          "",
          "",
          "",
          "",
          "",
          "",
          "",
          "",
          "",
          "",
          "",
          "",
          "",
          "",
          "",
          "",
          "",
          "",
          "",
          ""
         ],
         "type": "treemap",
         "values": [
          4.301075268817205,
          0,
          0,
          0,
          0,
          1.0752688172043012,
          0,
          0,
          0,
          0,
          0,
          1.0752688172043012,
          0,
          0,
          0,
          0,
          0,
          0,
          0,
          0,
          2.1505376344086025,
          0,
          0,
          0,
          0,
          0,
          0,
          0,
          0,
          0,
          0,
          0,
          0,
          1.0752688172043012,
          4.301075268817205,
          0,
          0,
          0,
          5.376344086021505,
          0,
          0,
          0,
          1.0752688172043012,
          0,
          0,
          0,
          0,
          0,
          0,
          5.376344086021505,
          2.1505376344086025,
          0,
          1.0752688172043012,
          3.225806451612903,
          0,
          0,
          0,
          0,
          0,
          3.225806451612903,
          0,
          19.35483870967742,
          0,
          0,
          0,
          0,
          0,
          0,
          0,
          0,
          4.301075268817205,
          0,
          0,
          2.1505376344086025,
          2.1505376344086025,
          0,
          0,
          0,
          0,
          0,
          0,
          0,
          1.0752688172043012,
          1.0752688172043012,
          1.0752688172043012,
          0,
          1.0752688172043012,
          1.0752688172043012,
          1.0752688172043012,
          0,
          2.1505376344086025,
          0,
          0,
          0,
          7.526881720430108,
          0,
          2.1505376344086025,
          0,
          0,
          0,
          0,
          1.0752688172043012,
          0,
          0,
          8.60215053763441,
          0,
          1.0752688172043012,
          0,
          0,
          5.376344086021505,
          0,
          0,
          0,
          0,
          0,
          0,
          0,
          0,
          0,
          0,
          1.0752688172043012,
          1.0752688172043012,
          0,
          0,
          0,
          0,
          0,
          0,
          2.010968921389397,
          0.1218769043266301,
          0.1218769043266301,
          0.06093845216331505,
          0,
          0.30469226081657524,
          0,
          0,
          0.1218769043266301,
          0.6093845216331505,
          1.9500304692260817,
          0.4875076173065204,
          0,
          0,
          0.18281535648994515,
          0,
          0.06093845216331505,
          1.401584399756246,
          0,
          0,
          1.218769043266301,
          0.06093845216331505,
          0.18281535648994515,
          0.2437538086532602,
          0.1218769043266301,
          0,
          0.06093845216331505,
          0,
          0.1218769043266301,
          0.1218769043266301,
          0.06093845216331505,
          0.4875076173065204,
          0.5484460694698354,
          2.6203534430225472,
          0.7921998781230957,
          0.1218769043266301,
          3.1687995124923827,
          0,
          7.921998781230958,
          0.06093845216331505,
          0.1218769043266301,
          0,
          0.18281535648994515,
          0.30469226081657524,
          0,
          0,
          0.1218769043266301,
          0.1218769043266301,
          1.6453382084095063,
          1.7672151127361364,
          0.6093845216331505,
          0.1218769043266301,
          2.9250457038391224,
          0.18281535648994515,
          0.06093845216331505,
          0.7312614259597806,
          0,
          0.06093845216331505,
          0.06093845216331505,
          1.8890920170627667,
          0.18281535648994515,
          9.506398537477148,
          0.18281535648994515,
          0.1218769043266301,
          0.06093845216331505,
          0,
          0,
          0,
          0.8531383302864107,
          0.3656307129798903,
          1.035953686776356,
          0,
          0.18281535648994515,
          0.6703229737964655,
          1.7062766605728215,
          0,
          0.1218769043266301,
          0,
          0.06093845216331505,
          0.5484460694698354,
          0.18281535648994515,
          0,
          1.035953686776356,
          4.143814747105424,
          1.2797074954296161,
          0.1218769043266301,
          0.18281535648994515,
          0.3656307129798903,
          0.2437538086532602,
          0,
          2.2547227300426567,
          0,
          0,
          0.7921998781230957,
          6.39853747714808,
          0.06093845216331505,
          0.06093845216331505,
          0.3656307129798903,
          0.18281535648994515,
          0,
          0,
          2.010968921389397,
          2.2547227300426567,
          0.30469226081657524,
          6.032906764168191,
          0,
          1.2797074954296161,
          0,
          0.06093845216331505,
          6.703229737964655,
          0.6093845216331505,
          0,
          0,
          0.18281535648994515,
          0,
          0.1218769043266301,
          0.42656916514320536,
          0.18281535648994515,
          0.1218769043266301,
          0,
          0.7921998781230957,
          5.301645338208409,
          1.0968921389396709,
          0,
          0.06093845216331505,
          0.5484460694698354,
          0,
          2.376599634369287,
          1.101468624833111,
          0.08344459279038718,
          0.05006675567423231,
          0.11682242990654204,
          0,
          0.06675567423230974,
          0.016688918558077435,
          0,
          0.18357810413885178,
          0.8511348464619493,
          2.0527369826435247,
          0.36715620827770357,
          0,
          0.016688918558077435,
          0.11682242990654204,
          0.016688918558077435,
          0,
          2.253004005340454,
          0.05006675567423231,
          0,
          1.4686248331108143,
          0.03337783711615487,
          0.10013351134846463,
          0.03337783711615487,
          0.016688918558077435,
          0,
          0.25033377837116155,
          0,
          0.06675567423230974,
          0.30040053404539385,
          0.08344459279038718,
          0.6842456608811749,
          0.31708945260347127,
          3.538050734312417,
          0.6508678237650201,
          0.15020026702269693,
          2.53671562082777,
          0.05006675567423231,
          5.473965287049399,
          0.11682242990654204,
          0.6174899866488652,
          0.016688918558077435,
          0.18357810413885178,
          0.20026702269692925,
          0.08344459279038718,
          0.05006675567423231,
          0.11682242990654204,
          0.016688918558077435,
          1.0013351134846462,
          1.0013351134846462,
          0.9345794392523363,
          0.016688918558077435,
          5.640854472630174,
          0.23364485981308408,
          0.05006675567423231,
          0.9679572763684913,
          0,
          0.18357810413885178,
          0.30040053404539385,
          1.4352469959946597,
          0.06675567423230974,
          7.810413885180241,
          0.08344459279038718,
          0.18357810413885178,
          0.016688918558077435,
          0.03337783711615487,
          0.05006675567423231,
          0.016688918558077435,
          0.7176234979973298,
          0.31708945260347127,
          1.0514018691588785,
          0,
          0.23364485981308408,
          0.6675567423230975,
          1.5353805073431241,
          0.18357810413885178,
          0.18357810413885178,
          0.016688918558077435,
          0.20026702269692925,
          1.0013351134846462,
          0.05006675567423231,
          0.05006675567423231,
          0.43391188251001334,
          4.472630173564753,
          1.1181575433911883,
          0.06675567423230974,
          0.4005340453938585,
          0.35046728971962615,
          0.16688918558077437,
          0,
          3.7216288384512684,
          0.03337783711615487,
          0.05006675567423231,
          0.5674232309746329,
          6.391855807743658,
          0.15020026702269693,
          0.43391188251001334,
          0.25033377837116155,
          0.05006675567423231,
          0.25033377837116155,
          0,
          1.3851802403204272,
          4.155540720961282,
          0.30040053404539385,
          4.0554072096128175,
          0.016688918558077435,
          2.286381842456609,
          0.016688918558077435,
          0.18357810413885178,
          9.412550066755674,
          0.7843791722296396,
          0.03337783711615487,
          0.05006675567423231,
          0.30040053404539385,
          0,
          0.05006675567423231,
          0.7676902536715621,
          0.05006675567423231,
          0.06675567423230974,
          0,
          0.35046728971962615,
          3.104138851802403,
          1.0180240320427236,
          0,
          0.10013351134846463,
          0.13351134846461948,
          0.06675567423230974,
          1.6688918558077435,
          0.7540603248259861,
          0.014501160092807424,
          0.014501160092807424,
          0.21751740139211137,
          0.014501160092807424,
          0.058004640371229696,
          0.014501160092807424,
          0.029002320185614848,
          0.2610208816705336,
          0.8120649651972157,
          1.91415313225058,
          0.34802784222737815,
          0.029002320185614848,
          0.029002320185614848,
          0.029002320185614848,
          0.14501160092807425,
          0.014501160092807424,
          3.2337587006960558,
          0.029002320185614848,
          0.029002320185614848,
          0.7830626450116009,
          0.058004640371229696,
          0.14501160092807425,
          0.029002320185614848,
          0.029002320185614848,
          0.04350348027842227,
          0.6090487238979118,
          0,
          0.058004640371229696,
          0.4495359628770301,
          0.08700696055684454,
          0.23201856148491878,
          0.2900232018561485,
          3.625290023201856,
          0.2610208816705336,
          0.11600928074245939,
          1.5951276102088168,
          0.029002320185614848,
          7.236078886310906,
          0.08700696055684454,
          0.681554524361949,
          0,
          0.029002320185614848,
          0.18851508120649652,
          0.3190255220417633,
          0.029002320185614848,
          0.014501160092807424,
          0.04350348027842227,
          1.0730858468677493,
          0.8845707656612529,
          1.740139211136891,
          0,
          5.669953596287703,
          0.08700696055684454,
          0.029002320185614848,
          1.5516241299303946,
          0,
          0.3625290023201856,
          0.7975638051044084,
          0.7830626450116009,
          0.04350348027842227,
          3.523781902552204,
          0.07250580046403712,
          0.058004640371229696,
          0.014501160092807424,
          0.029002320185614848,
          0.11600928074245939,
          0.07250580046403712,
          0.4930394431554524,
          0.14501160092807425,
          1.058584686774942,
          0.014501160092807424,
          0.5365429234338747,
          0.7975638051044084,
          0.9425754060324827,
          0.1305104408352668,
          0.20301624129930393,
          0.04350348027842227,
          0.20301624129930393,
          1.1020881670533642,
          0.029002320185614848,
          0.07250580046403712,
          0.39153132250580047,
          3.784802784222738,
          1.5951276102088168,
          0.04350348027842227,
          0.40603248259860786,
          0.23201856148491878,
          0.10150812064965196,
          0,
          5.35092807424594,
          0.029002320185614848,
          0.11600928074245939,
          0.7975638051044084,
          6.003480278422274,
          0.029002320185614848,
          0.4495359628770301,
          0.2900232018561485,
          0.04350348027842227,
          0.15951276102088166,
          0.029002320185614848,
          1.261600928074246,
          4.364849187935035,
          0.21751740139211137,
          2.8857308584686776,
          0.04350348027842227,
          3.074245939675174,
          0.014501160092807424,
          0.6090487238979118,
          13.747099767981439,
          1.3486078886310906,
          0.014501160092807424,
          0.014501160092807424,
          0.27552204176334105,
          0.029002320185614848,
          0.15951276102088166,
          0.7540603248259861,
          0.14501160092807425,
          0.10150812064965196,
          0,
          0.21751740139211137,
          1.1020881670533642,
          0.4930394431554524,
          0,
          0.058004640371229696,
          0.08700696055684454,
          0.10150812064965196,
          1.2906032482598608,
          0.8382016764033529,
          0.0762001524003048,
          0,
          0.025400050800101596,
          0,
          0.025400050800101596,
          0,
          0.25400050800101603,
          0.5080010160020321,
          0.7112014224028449,
          0.762001524003048,
          0.10160020320040639,
          0.10160020320040639,
          0.05080010160020319,
          0.025400050800101596,
          0.27940055880111764,
          0.025400050800101596,
          3.911607823215647,
          0,
          0.0762001524003048,
          0.17780035560071122,
          0,
          0.1524003048006096,
          0,
          0,
          0.025400050800101596,
          0.27940055880111764,
          0,
          0.05080010160020319,
          1.4732029464058927,
          0.20320040640081277,
          0.10160020320040639,
          0.4572009144018288,
          3.606807213614427,
          0.25400050800101603,
          0.0762001524003048,
          0.9398018796037593,
          0.05080010160020319,
          8.712217424434849,
          0.10160020320040639,
          0.40640081280162554,
          0,
          0,
          0.12700025400050802,
          0.6096012192024384,
          0,
          0.025400050800101596,
          0,
          0.8890017780035561,
          0.4572009144018288,
          2.3876047752095504,
          0,
          3.8100076200152397,
          0.05080010160020319,
          0,
          1.2446024892049785,
          0,
          1.0160020320040641,
          2.2098044196088393,
          0.2286004572009144,
          0.05080010160020319,
          0.7112014224028449,
          0,
          0.0762001524003048,
          0,
          0.025400050800101596,
          0.05080010160020319,
          0,
          0.3048006096012192,
          0.05080010160020319,
          1.0668021336042672,
          0.10160020320040639,
          1.3716027432054865,
          1.1684023368046736,
          0.7112014224028449,
          0.05080010160020319,
          0.27940055880111764,
          0,
          0.17780035560071122,
          0.4826009652019304,
          0.05080010160020319,
          0.025400050800101596,
          0.3302006604013208,
          2.082804165608331,
          1.6764033528067057,
          0.12700025400050802,
          0.5588011176022353,
          0.4826009652019304,
          0,
          0.025400050800101596,
          5.232410464820929,
          0,
          0.63500127000254,
          0.5842011684023368,
          6.197612395224791,
          0.05080010160020319,
          0.63500127000254,
          0.4572009144018288,
          0.05080010160020319,
          0.27940055880111764,
          0,
          0.762001524003048,
          4.876809753619507,
          0.10160020320040639,
          3.0226060452120906,
          0.05080010160020319,
          1.7780035560071121,
          0.025400050800101596,
          0.9906019812039624,
          17.856235712471424,
          1.9558039116078234,
          0.025400050800101596,
          0,
          0.1524003048006096,
          0,
          0.1524003048006096,
          0.2286004572009144,
          0.27940055880111764,
          0.17780035560071122,
          0.025400050800101596,
          0.12700025400050802,
          0.4572009144018288,
          0.40640081280162554,
          0.05080010160020319,
          0,
          0,
          0.17780035560071122,
          2.2606045212090424,
          0.2987303958177745,
          0.22404779686333084,
          0,
          0.14936519790888725,
          0,
          0.07468259895444362,
          0,
          0.37341299477221807,
          0.6721433905899925,
          0.7468259895444361,
          0.4480955937266617,
          0.14936519790888725,
          0.5227781926811054,
          0.37341299477221807,
          0,
          0.22404779686333084,
          0.07468259895444362,
          4.256908140403286,
          0,
          0.07468259895444362,
          0.07468259895444362,
          0.07468259895444362,
          0.07468259895444362,
          0,
          0,
          0,
          0.07468259895444362,
          0.07468259895444362,
          0,
          1.0455563853622107,
          0.14936519790888725,
          0.22404779686333084,
          0.14936519790888725,
          4.929051530993279,
          0.14936519790888725,
          0.22404779686333084,
          1.1202389843166543,
          0.07468259895444362,
          7.3935772964899185,
          0.22404779686333084,
          0.37341299477221807,
          0,
          0,
          0.14936519790888725,
          0.7468259895444361,
          0,
          0,
          0,
          0.8215085884988798,
          0.37341299477221807,
          2.389843166542196,
          0,
          3.286034353995519,
          0.07468259895444362,
          0,
          0.8215085884988798,
          0.22404779686333084,
          0.6721433905899925,
          2.389843166542196,
          0,
          0.4480955937266617,
          0.22404779686333084,
          0,
          0,
          0,
          0,
          0.5227781926811054,
          0,
          0,
          0.07468259895444362,
          1.568334578043316,
          0.2987303958177745,
          3.061986557132188,
          0.6721433905899925,
          0.5227781926811054,
          0.07468259895444362,
          0.07468259895444362,
          0,
          0.22404779686333084,
          0.5227781926811054,
          0,
          0,
          0.07468259895444362,
          0.8215085884988798,
          1.6430171769977595,
          0,
          0.37341299477221807,
          0.22404779686333084,
          0,
          0,
          4.929051530993279,
          0,
          0.9708737864077669,
          0.2987303958177745,
          5.1530993278566095,
          0,
          0.4480955937266617,
          0.7468259895444361,
          0.07468259895444362,
          0.37341299477221807,
          0,
          1.2696041822255415,
          5.3024645257654965,
          0.597460791635549,
          3.51008215085885,
          0.07468259895444362,
          1.7176997759522032,
          0,
          1.0455563853622107,
          20.089619118745333,
          0.9708737864077669,
          0.07468259895444362,
          0,
          0.14936519790888725,
          0,
          0.22404779686333084,
          0.22404779686333084,
          0.4480955937266617,
          0.6721433905899925,
          0,
          0.14936519790888725,
          0,
          0.4480955937266617,
          0,
          0.07468259895444362,
          0.07468259895444362,
          0.14936519790888725,
          1.2696041822255415,
          0,
          0,
          0,
          0,
          0,
          0,
          0,
          1.875,
          3.125,
          1.25,
          0,
          0,
          0.625,
          0,
          0,
          0,
          0,
          3.125,
          0,
          0,
          0,
          0.625,
          0,
          0,
          0,
          0,
          0,
          0,
          0,
          1.25,
          0,
          0,
          0,
          3.75,
          0.625,
          0,
          2.5,
          0,
          5,
          0,
          0.625,
          0,
          0,
          0,
          0,
          0,
          0,
          0,
          1.25,
          0.625,
          3.125,
          0,
          5.625,
          0,
          0,
          0,
          0,
          1.25,
          2.5,
          0,
          0,
          0.625,
          0,
          1.875,
          0,
          0,
          0,
          0,
          0,
          0,
          3.125,
          0,
          5,
          0.625,
          1.25,
          0,
          0,
          0,
          0,
          0,
          0,
          0,
          0,
          0,
          0.625,
          0,
          0,
          0,
          0,
          0,
          5.625,
          0,
          0.625,
          0,
          6.875000000000001,
          0,
          0.625,
          0.625,
          0,
          0,
          0,
          0.625,
          5,
          0,
          0.625,
          0,
          0.625,
          0,
          0.625,
          20.625,
          0,
          0.625,
          0,
          0,
          0.625,
          0.625,
          0,
          0,
          0.625,
          0,
          0.625,
          0,
          1.25,
          0,
          0,
          0,
          0,
          1.25,
          9.304505212086827,
          0.5200706064734604,
          0.18644482009366983,
          0.5700435321709574,
          0.014501160092807424,
          1.6048040423789611,
          0.03119007865088486,
          2.531415822958849,
          4.8716202967280395,
          4.980611745239596,
          7.127017701849896,
          2.528925886125197,
          1.2783807160671268,
          0.4699043351161135,
          0.3540401573822036,
          0.6651488751506002,
          0.1755222620106677,
          18.18186306941169,
          0.07906907585984715,
          0.17988507154036326,
          5.873477110352473,
          0.8520035286051433,
          0.6550433725215372,
          0.30613396595502995,
          0.1675681430703224,
          0.06890353107852387,
          1.2744041121879497,
          0.07468259895444362,
          0.29743732053037275,
          4.640572733017158,
          0.5839556098202467,
          1.7294198397363514,
          1.7621248362401714,
          23.144821762348826,
          7.033529558285758,
          0.688334401355422,
          11.860683607449383,
          0.20455177641449399,
          47.11418176153754,
          0.5904158426904389,
          2.825735222911288,
          0.016688918558077435,
          1.470664598018713,
          0.9698398166293962,
          1.758897323579025,
          0.07906907585984715,
          0.2786005451260812,
          0.1820693031631298,
          6.680269535264338,
          10.485078987077587,
          13.337088748182726,
          0.13856582288470753,
          28.03216456397206,
          3.8547563290274236,
          0.14000752802316221,
          5.316953909962525,
          0.22404779686333084,
          3.5451909812164093,
          8.258550377464154,
          7.561808566882845,
          0.791970206327542,
          41.755682254153186,
          0.33876574974436946,
          2.3146598012370165,
          0.09212853081419992,
          0.08778020810187132,
          0.7396543306980002,
          0.08919471902211457,
          2.368601881040412,
          0.9532144670660826,
          13.207152223174965,
          0.4148317591109883,
          10.386592440074578,
          6.75152688302724,
          8.818749823440982,
          0.4395712455287654,
          0.8625544075203471,
          0.060192398836499704,
          0.8660698686235904,
          3.6572485078908814,
          0.3126845339499955,
          0.14797260693837103,
          3.3415489683522352,
          16.380829276204427,
          9.012681996038388,
          0.3591363128378701,
          2.996864814061166,
          2.730034143453998,
          1.5874199320879878,
          0.025400050800101596,
          29.264279272962675,
          0.06238015730176972,
          2.3969510928269986,
          3.040118478422248,
          44.54646700682552,
          0.29094114097183005,
          4.8030207956881625,
          2.7350145971534654,
          0.4018682929972466,
          1.0626600929653789,
          0.029002320185614848,
          8.389624613216961,
          25.954386918323976,
          1.5216711910900358,
          28.733883565955036,
          0.18567509939114651,
          11.836307426725016,
          0.05659012945098646,
          3.5147236467662517,
          93.81007848994003,
          5.669049280509471,
          0.7729616469635074,
          0.06456791576703974,
          1.060503435008177,
          0.6540023201856149,
          1.3329045226856846,
          2.4009679977049987,
          1.105389865620031,
          1.7650844453992955,
          0.025400050800101596,
          3.3368188383485298,
          11.040342088670307,
          4.7124520206661344,
          0.05080010160020319,
          0.293759202837453,
          0.8436469774457431,
          0.49542934839156016,
          10.116303441871475
         ]
        }
       ],
       "layout": {
        "coloraxis": {
         "colorbar": {
          "title": {
           "text": "Percent"
          }
         },
         "colorscale": [
          [
           0,
           "rgb(255,245,235)"
          ],
          [
           0.125,
           "rgb(254,230,206)"
          ],
          [
           0.25,
           "rgb(253,208,162)"
          ],
          [
           0.375,
           "rgb(253,174,107)"
          ],
          [
           0.5,
           "rgb(253,141,60)"
          ],
          [
           0.625,
           "rgb(241,105,19)"
          ],
          [
           0.75,
           "rgb(217,72,1)"
          ],
          [
           0.875,
           "rgb(166,54,3)"
          ],
          [
           1,
           "rgb(127,39,4)"
          ]
         ]
        },
        "legend": {
         "tracegroupgap": 0
        },
        "template": {
         "data": {
          "bar": [
           {
            "error_x": {
             "color": "#2a3f5f"
            },
            "error_y": {
             "color": "#2a3f5f"
            },
            "marker": {
             "line": {
              "color": "#E5ECF6",
              "width": 0.5
             },
             "pattern": {
              "fillmode": "overlay",
              "size": 10,
              "solidity": 0.2
             }
            },
            "type": "bar"
           }
          ],
          "barpolar": [
           {
            "marker": {
             "line": {
              "color": "#E5ECF6",
              "width": 0.5
             },
             "pattern": {
              "fillmode": "overlay",
              "size": 10,
              "solidity": 0.2
             }
            },
            "type": "barpolar"
           }
          ],
          "carpet": [
           {
            "aaxis": {
             "endlinecolor": "#2a3f5f",
             "gridcolor": "white",
             "linecolor": "white",
             "minorgridcolor": "white",
             "startlinecolor": "#2a3f5f"
            },
            "baxis": {
             "endlinecolor": "#2a3f5f",
             "gridcolor": "white",
             "linecolor": "white",
             "minorgridcolor": "white",
             "startlinecolor": "#2a3f5f"
            },
            "type": "carpet"
           }
          ],
          "choropleth": [
           {
            "colorbar": {
             "outlinewidth": 0,
             "ticks": ""
            },
            "type": "choropleth"
           }
          ],
          "contour": [
           {
            "colorbar": {
             "outlinewidth": 0,
             "ticks": ""
            },
            "colorscale": [
             [
              0,
              "#0d0887"
             ],
             [
              0.1111111111111111,
              "#46039f"
             ],
             [
              0.2222222222222222,
              "#7201a8"
             ],
             [
              0.3333333333333333,
              "#9c179e"
             ],
             [
              0.4444444444444444,
              "#bd3786"
             ],
             [
              0.5555555555555556,
              "#d8576b"
             ],
             [
              0.6666666666666666,
              "#ed7953"
             ],
             [
              0.7777777777777778,
              "#fb9f3a"
             ],
             [
              0.8888888888888888,
              "#fdca26"
             ],
             [
              1,
              "#f0f921"
             ]
            ],
            "type": "contour"
           }
          ],
          "contourcarpet": [
           {
            "colorbar": {
             "outlinewidth": 0,
             "ticks": ""
            },
            "type": "contourcarpet"
           }
          ],
          "heatmap": [
           {
            "colorbar": {
             "outlinewidth": 0,
             "ticks": ""
            },
            "colorscale": [
             [
              0,
              "#0d0887"
             ],
             [
              0.1111111111111111,
              "#46039f"
             ],
             [
              0.2222222222222222,
              "#7201a8"
             ],
             [
              0.3333333333333333,
              "#9c179e"
             ],
             [
              0.4444444444444444,
              "#bd3786"
             ],
             [
              0.5555555555555556,
              "#d8576b"
             ],
             [
              0.6666666666666666,
              "#ed7953"
             ],
             [
              0.7777777777777778,
              "#fb9f3a"
             ],
             [
              0.8888888888888888,
              "#fdca26"
             ],
             [
              1,
              "#f0f921"
             ]
            ],
            "type": "heatmap"
           }
          ],
          "heatmapgl": [
           {
            "colorbar": {
             "outlinewidth": 0,
             "ticks": ""
            },
            "colorscale": [
             [
              0,
              "#0d0887"
             ],
             [
              0.1111111111111111,
              "#46039f"
             ],
             [
              0.2222222222222222,
              "#7201a8"
             ],
             [
              0.3333333333333333,
              "#9c179e"
             ],
             [
              0.4444444444444444,
              "#bd3786"
             ],
             [
              0.5555555555555556,
              "#d8576b"
             ],
             [
              0.6666666666666666,
              "#ed7953"
             ],
             [
              0.7777777777777778,
              "#fb9f3a"
             ],
             [
              0.8888888888888888,
              "#fdca26"
             ],
             [
              1,
              "#f0f921"
             ]
            ],
            "type": "heatmapgl"
           }
          ],
          "histogram": [
           {
            "marker": {
             "pattern": {
              "fillmode": "overlay",
              "size": 10,
              "solidity": 0.2
             }
            },
            "type": "histogram"
           }
          ],
          "histogram2d": [
           {
            "colorbar": {
             "outlinewidth": 0,
             "ticks": ""
            },
            "colorscale": [
             [
              0,
              "#0d0887"
             ],
             [
              0.1111111111111111,
              "#46039f"
             ],
             [
              0.2222222222222222,
              "#7201a8"
             ],
             [
              0.3333333333333333,
              "#9c179e"
             ],
             [
              0.4444444444444444,
              "#bd3786"
             ],
             [
              0.5555555555555556,
              "#d8576b"
             ],
             [
              0.6666666666666666,
              "#ed7953"
             ],
             [
              0.7777777777777778,
              "#fb9f3a"
             ],
             [
              0.8888888888888888,
              "#fdca26"
             ],
             [
              1,
              "#f0f921"
             ]
            ],
            "type": "histogram2d"
           }
          ],
          "histogram2dcontour": [
           {
            "colorbar": {
             "outlinewidth": 0,
             "ticks": ""
            },
            "colorscale": [
             [
              0,
              "#0d0887"
             ],
             [
              0.1111111111111111,
              "#46039f"
             ],
             [
              0.2222222222222222,
              "#7201a8"
             ],
             [
              0.3333333333333333,
              "#9c179e"
             ],
             [
              0.4444444444444444,
              "#bd3786"
             ],
             [
              0.5555555555555556,
              "#d8576b"
             ],
             [
              0.6666666666666666,
              "#ed7953"
             ],
             [
              0.7777777777777778,
              "#fb9f3a"
             ],
             [
              0.8888888888888888,
              "#fdca26"
             ],
             [
              1,
              "#f0f921"
             ]
            ],
            "type": "histogram2dcontour"
           }
          ],
          "mesh3d": [
           {
            "colorbar": {
             "outlinewidth": 0,
             "ticks": ""
            },
            "type": "mesh3d"
           }
          ],
          "parcoords": [
           {
            "line": {
             "colorbar": {
              "outlinewidth": 0,
              "ticks": ""
             }
            },
            "type": "parcoords"
           }
          ],
          "pie": [
           {
            "automargin": true,
            "type": "pie"
           }
          ],
          "scatter": [
           {
            "fillpattern": {
             "fillmode": "overlay",
             "size": 10,
             "solidity": 0.2
            },
            "type": "scatter"
           }
          ],
          "scatter3d": [
           {
            "line": {
             "colorbar": {
              "outlinewidth": 0,
              "ticks": ""
             }
            },
            "marker": {
             "colorbar": {
              "outlinewidth": 0,
              "ticks": ""
             }
            },
            "type": "scatter3d"
           }
          ],
          "scattercarpet": [
           {
            "marker": {
             "colorbar": {
              "outlinewidth": 0,
              "ticks": ""
             }
            },
            "type": "scattercarpet"
           }
          ],
          "scattergeo": [
           {
            "marker": {
             "colorbar": {
              "outlinewidth": 0,
              "ticks": ""
             }
            },
            "type": "scattergeo"
           }
          ],
          "scattergl": [
           {
            "marker": {
             "colorbar": {
              "outlinewidth": 0,
              "ticks": ""
             }
            },
            "type": "scattergl"
           }
          ],
          "scattermapbox": [
           {
            "marker": {
             "colorbar": {
              "outlinewidth": 0,
              "ticks": ""
             }
            },
            "type": "scattermapbox"
           }
          ],
          "scatterpolar": [
           {
            "marker": {
             "colorbar": {
              "outlinewidth": 0,
              "ticks": ""
             }
            },
            "type": "scatterpolar"
           }
          ],
          "scatterpolargl": [
           {
            "marker": {
             "colorbar": {
              "outlinewidth": 0,
              "ticks": ""
             }
            },
            "type": "scatterpolargl"
           }
          ],
          "scatterternary": [
           {
            "marker": {
             "colorbar": {
              "outlinewidth": 0,
              "ticks": ""
             }
            },
            "type": "scatterternary"
           }
          ],
          "surface": [
           {
            "colorbar": {
             "outlinewidth": 0,
             "ticks": ""
            },
            "colorscale": [
             [
              0,
              "#0d0887"
             ],
             [
              0.1111111111111111,
              "#46039f"
             ],
             [
              0.2222222222222222,
              "#7201a8"
             ],
             [
              0.3333333333333333,
              "#9c179e"
             ],
             [
              0.4444444444444444,
              "#bd3786"
             ],
             [
              0.5555555555555556,
              "#d8576b"
             ],
             [
              0.6666666666666666,
              "#ed7953"
             ],
             [
              0.7777777777777778,
              "#fb9f3a"
             ],
             [
              0.8888888888888888,
              "#fdca26"
             ],
             [
              1,
              "#f0f921"
             ]
            ],
            "type": "surface"
           }
          ],
          "table": [
           {
            "cells": {
             "fill": {
              "color": "#EBF0F8"
             },
             "line": {
              "color": "white"
             }
            },
            "header": {
             "fill": {
              "color": "#C8D4E3"
             },
             "line": {
              "color": "white"
             }
            },
            "type": "table"
           }
          ]
         },
         "layout": {
          "annotationdefaults": {
           "arrowcolor": "#2a3f5f",
           "arrowhead": 0,
           "arrowwidth": 1
          },
          "autotypenumbers": "strict",
          "coloraxis": {
           "colorbar": {
            "outlinewidth": 0,
            "ticks": ""
           }
          },
          "colorscale": {
           "diverging": [
            [
             0,
             "#8e0152"
            ],
            [
             0.1,
             "#c51b7d"
            ],
            [
             0.2,
             "#de77ae"
            ],
            [
             0.3,
             "#f1b6da"
            ],
            [
             0.4,
             "#fde0ef"
            ],
            [
             0.5,
             "#f7f7f7"
            ],
            [
             0.6,
             "#e6f5d0"
            ],
            [
             0.7,
             "#b8e186"
            ],
            [
             0.8,
             "#7fbc41"
            ],
            [
             0.9,
             "#4d9221"
            ],
            [
             1,
             "#276419"
            ]
           ],
           "sequential": [
            [
             0,
             "#0d0887"
            ],
            [
             0.1111111111111111,
             "#46039f"
            ],
            [
             0.2222222222222222,
             "#7201a8"
            ],
            [
             0.3333333333333333,
             "#9c179e"
            ],
            [
             0.4444444444444444,
             "#bd3786"
            ],
            [
             0.5555555555555556,
             "#d8576b"
            ],
            [
             0.6666666666666666,
             "#ed7953"
            ],
            [
             0.7777777777777778,
             "#fb9f3a"
            ],
            [
             0.8888888888888888,
             "#fdca26"
            ],
            [
             1,
             "#f0f921"
            ]
           ],
           "sequentialminus": [
            [
             0,
             "#0d0887"
            ],
            [
             0.1111111111111111,
             "#46039f"
            ],
            [
             0.2222222222222222,
             "#7201a8"
            ],
            [
             0.3333333333333333,
             "#9c179e"
            ],
            [
             0.4444444444444444,
             "#bd3786"
            ],
            [
             0.5555555555555556,
             "#d8576b"
            ],
            [
             0.6666666666666666,
             "#ed7953"
            ],
            [
             0.7777777777777778,
             "#fb9f3a"
            ],
            [
             0.8888888888888888,
             "#fdca26"
            ],
            [
             1,
             "#f0f921"
            ]
           ]
          },
          "colorway": [
           "#636efa",
           "#EF553B",
           "#00cc96",
           "#ab63fa",
           "#FFA15A",
           "#19d3f3",
           "#FF6692",
           "#B6E880",
           "#FF97FF",
           "#FECB52"
          ],
          "font": {
           "color": "#2a3f5f"
          },
          "geo": {
           "bgcolor": "white",
           "lakecolor": "white",
           "landcolor": "#E5ECF6",
           "showlakes": true,
           "showland": true,
           "subunitcolor": "white"
          },
          "hoverlabel": {
           "align": "left"
          },
          "hovermode": "closest",
          "mapbox": {
           "style": "light"
          },
          "paper_bgcolor": "white",
          "plot_bgcolor": "#E5ECF6",
          "polar": {
           "angularaxis": {
            "gridcolor": "white",
            "linecolor": "white",
            "ticks": ""
           },
           "bgcolor": "#E5ECF6",
           "radialaxis": {
            "gridcolor": "white",
            "linecolor": "white",
            "ticks": ""
           }
          },
          "scene": {
           "xaxis": {
            "backgroundcolor": "#E5ECF6",
            "gridcolor": "white",
            "gridwidth": 2,
            "linecolor": "white",
            "showbackground": true,
            "ticks": "",
            "zerolinecolor": "white"
           },
           "yaxis": {
            "backgroundcolor": "#E5ECF6",
            "gridcolor": "white",
            "gridwidth": 2,
            "linecolor": "white",
            "showbackground": true,
            "ticks": "",
            "zerolinecolor": "white"
           },
           "zaxis": {
            "backgroundcolor": "#E5ECF6",
            "gridcolor": "white",
            "gridwidth": 2,
            "linecolor": "white",
            "showbackground": true,
            "ticks": "",
            "zerolinecolor": "white"
           }
          },
          "shapedefaults": {
           "line": {
            "color": "#2a3f5f"
           }
          },
          "ternary": {
           "aaxis": {
            "gridcolor": "white",
            "linecolor": "white",
            "ticks": ""
           },
           "baxis": {
            "gridcolor": "white",
            "linecolor": "white",
            "ticks": ""
           },
           "bgcolor": "#E5ECF6",
           "caxis": {
            "gridcolor": "white",
            "linecolor": "white",
            "ticks": ""
           }
          },
          "title": {
           "x": 0.05
          },
          "xaxis": {
           "automargin": true,
           "gridcolor": "white",
           "linecolor": "white",
           "ticks": "",
           "title": {
            "standoff": 15
           },
           "zerolinecolor": "white",
           "zerolinewidth": 2
          },
          "yaxis": {
           "automargin": true,
           "gridcolor": "white",
           "linecolor": "white",
           "ticks": "",
           "title": {
            "standoff": 15
           },
           "zerolinecolor": "white",
           "zerolinewidth": 2
          }
         }
        },
        "title": {
         "text": "Cantidad de partidas por apertura y rating (porciento)"
        }
       }
      }
     },
     "metadata": {},
     "output_type": "display_data"
    }
   ],
   "source": [
    "fig = px.treemap(treemap_percent, path=['opening_shortname', 'rating_interval'], values='Percent', color='Percent',\n",
    "                 color_continuous_scale='oranges', title='Cantidad de partidas por apertura y rating (porciento)')\n",
    "fig.show()"
   ]
  },
  {
   "cell_type": "markdown",
   "id": "fecfadfd",
   "metadata": {},
   "source": [
    "Mediante el gráfico de treemap, podemos identificar diferencias de comportamiento entre jugadores, tanto fuertes como débiles. Se observa que la Defensa Siciliana se juega con mayor frecuencia en niveles de habilidad más altos, lo que sugiere su popularidad entre jugadores experimentados debido a su complejidad táctica. Por otro lado, la Defensa Francesa es la segunda apertura más jugada, aunque tiende a ser más frecuente en niveles de habilidad ligeramente más bajos. Esta diferencia en la distribución podría indicar que la Defensa Francesa es percibida como una opción más accesible y menos complicada en comparación con la Defensa Siciliana. Como conocedor del ajedrez, puedo afirmar que la Defensa Francesa es más simple de jugar, ya que requiere menos teoría y preparación.\n",
    "\n",
    "Por otro lado, es interesante observar que los jugadores principiantes tienden a optar por la Apertura del Peón de Rey (King's Pawn Game), una elección didáctica común para aquellos que están dando sus primeros pasos en el juego. Esto se refleja en la alta frecuencia de esta apertura en las categorías de habilidad más bajas del dataset."
   ]
  },
  {
   "cell_type": "markdown",
   "id": "31324681",
   "metadata": {},
   "source": [
    "## Recomendaciones\n",
    "\n",
    "Como recomendación para continuar este proyecto, sería interesante analizar el factor tiempo de juego en relación con las diferentes condiciones de victoria, considerando también el nivel de habilidad de los jugadores involucrados. Por ejemplo, ¿qué tipo de control de tiempo suelen preferir los jugadores más fuertes en comparación con los más débiles? ¿Existen diferencias en el control de tiempo entre jugadores con blancas y jugadores con negras, y cómo afecta esto a sus posibilidades de éxito?\n",
    "\n",
    "Además, sería relevante investigar cómo influye el control de tiempo en el desempeño de jugadores con distintos niveles de rating. Es lógico suponer que los jugadores con mayor rating pueden beneficiarse de un tiempo de reflexión más corto, ya que tienen la capacidad de pensar y tomar decisiones más rápidamente. Sin embargo, un control de tiempo más extenso podría nivelar el campo de juego, permitiendo a los jugadores menos experimentados tener más tiempo para considerar sus movimientos y equilibrar así la brecha en habilidad entre ellos y sus oponentes.\n",
    "\n",
    "Explorar estas preguntas podría proporcionar una comprensión más profunda de cómo el factor tiempo afecta al rendimiento de los jugadores en partidas de ajedrez, y podría revelar estrategias o patrones interesantes relacionados con el tiempo de juego y el nivel de habilidad."
   ]
  }
 ],
 "metadata": {
  "kernelspec": {
   "display_name": "Python 3 (ipykernel)",
   "language": "python",
   "name": "python3"
  },
  "language_info": {
   "codemirror_mode": {
    "name": "ipython",
    "version": 3
   },
   "file_extension": ".py",
   "mimetype": "text/x-python",
   "name": "python",
   "nbconvert_exporter": "python",
   "pygments_lexer": "ipython3",
   "version": "3.12.0"
  }
 },
 "nbformat": 4,
 "nbformat_minor": 5
}
